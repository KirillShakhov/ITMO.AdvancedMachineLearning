{
 "nbformat": 4,
 "nbformat_minor": 0,
 "metadata": {
  "colab": {
   "provenance": []
  },
  "kernelspec": {
   "name": "python3",
   "language": "python",
   "display_name": "Python 3 (ipykernel)"
  },
  "language_info": {
   "name": "python"
  }
 },
 "cells": [
  {
   "cell_type": "markdown",
   "source": [
    "# Кластеризация методом `K-means` для выделения групп объектов"
   ],
   "metadata": {
    "id": "XoqPdVWuG9_S",
    "pycharm": {
     "name": "#%% md\n"
    }
   }
  },
  {
   "cell_type": "markdown",
   "source": [
    "В этой задаче будет рассмотрен метод кластеризации <code>K-means</code> для решения непосредственно задачи кластеризации — задачи выделения схожих структур в данных. Работать будем с известным набором данных <a href=\"http://yann.lecun.com/exdb/mnist/\"><code>MNIST</code></a>."
   ],
   "metadata": {
    "id": "JVTmols9HK5n",
    "pycharm": {
     "name": "#%% md\n"
    }
   }
  },
  {
   "cell_type": "markdown",
   "source": [
    "Загрузим набор данных. Будем использовать только тестовую часть оригинального набора, чтобы сократить время обучения моделей."
   ],
   "metadata": {
    "id": "atO9HzAJHWgk",
    "pycharm": {
     "name": "#%% md\n"
    }
   }
  },
  {
   "cell_type": "code",
   "source": [
    "%pip install seaborn\n",
    "%pip install -U scikit-learn scipy matplotlib\n",
    "import pandas as pd\n",
    "import numpy as np\n",
    "import seaborn as sns\n",
    "import matplotlib.pyplot as plt\n",
    "from sklearn.model_selection import train_test_split"
   ],
   "metadata": {
    "id": "rNG10xy5_A7n",
    "executionInfo": {
     "status": "ok",
     "timestamp": 1686695064400,
     "user_tz": -180,
     "elapsed": 887,
     "user": {
      "displayName": "Alexey Akulov",
      "userId": "01094635187180112136"
     }
    },
    "ExecuteTime": {
     "end_time": "2023-10-15T01:17:29.340866Z",
     "start_time": "2023-10-15T01:17:27.254638Z"
    }
   },
   "execution_count": 26,
   "outputs": [
    {
     "name": "stdout",
     "output_type": "stream",
     "text": [
      "\u001B[33mDEPRECATION: Configuring installation scheme with distutils config files is deprecated and will no longer work in the near future. If you are using a Homebrew or Linuxbrew Python, please see discussion at https://github.com/Homebrew/homebrew-core/issues/76621\u001B[0m\u001B[33m\r\n",
      "\u001B[0mRequirement already satisfied: seaborn in /opt/homebrew/lib/python3.9/site-packages (0.13.0)\r\n",
      "Requirement already satisfied: numpy!=1.24.0,>=1.20 in /opt/homebrew/lib/python3.9/site-packages (from seaborn) (1.26.0)\r\n",
      "Requirement already satisfied: pandas>=1.2 in /opt/homebrew/lib/python3.9/site-packages (from seaborn) (2.1.1)\r\n",
      "Requirement already satisfied: matplotlib!=3.6.1,>=3.3 in /opt/homebrew/lib/python3.9/site-packages (from seaborn) (3.8.0)\r\n",
      "Requirement already satisfied: contourpy>=1.0.1 in /opt/homebrew/lib/python3.9/site-packages (from matplotlib!=3.6.1,>=3.3->seaborn) (1.1.1)\r\n",
      "Requirement already satisfied: cycler>=0.10 in /opt/homebrew/lib/python3.9/site-packages (from matplotlib!=3.6.1,>=3.3->seaborn) (0.12.1)\r\n",
      "Requirement already satisfied: fonttools>=4.22.0 in /opt/homebrew/lib/python3.9/site-packages (from matplotlib!=3.6.1,>=3.3->seaborn) (4.43.1)\r\n",
      "Requirement already satisfied: kiwisolver>=1.0.1 in /opt/homebrew/lib/python3.9/site-packages (from matplotlib!=3.6.1,>=3.3->seaborn) (1.4.5)\r\n",
      "Requirement already satisfied: packaging>=20.0 in /opt/homebrew/lib/python3.9/site-packages (from matplotlib!=3.6.1,>=3.3->seaborn) (21.3)\r\n",
      "Requirement already satisfied: pillow>=6.2.0 in /opt/homebrew/lib/python3.9/site-packages (from matplotlib!=3.6.1,>=3.3->seaborn) (10.0.1)\r\n",
      "Requirement already satisfied: pyparsing>=2.3.1 in /opt/homebrew/lib/python3.9/site-packages (from matplotlib!=3.6.1,>=3.3->seaborn) (3.0.7)\r\n",
      "Requirement already satisfied: python-dateutil>=2.7 in /opt/homebrew/lib/python3.9/site-packages (from matplotlib!=3.6.1,>=3.3->seaborn) (2.8.2)\r\n",
      "Requirement already satisfied: importlib-resources>=3.2.0 in /opt/homebrew/lib/python3.9/site-packages (from matplotlib!=3.6.1,>=3.3->seaborn) (6.1.0)\r\n",
      "Requirement already satisfied: pytz>=2020.1 in /opt/homebrew/lib/python3.9/site-packages (from pandas>=1.2->seaborn) (2022.1)\r\n",
      "Requirement already satisfied: tzdata>=2022.1 in /opt/homebrew/lib/python3.9/site-packages (from pandas>=1.2->seaborn) (2023.3)\r\n",
      "Requirement already satisfied: zipp>=3.1.0 in /opt/homebrew/lib/python3.9/site-packages (from importlib-resources>=3.2.0->matplotlib!=3.6.1,>=3.3->seaborn) (3.8.0)\r\n",
      "Requirement already satisfied: six>=1.5 in /opt/homebrew/lib/python3.9/site-packages (from python-dateutil>=2.7->matplotlib!=3.6.1,>=3.3->seaborn) (1.16.0)\r\n",
      "\u001B[33mDEPRECATION: Configuring installation scheme with distutils config files is deprecated and will no longer work in the near future. If you are using a Homebrew or Linuxbrew Python, please see discussion at https://github.com/Homebrew/homebrew-core/issues/76621\u001B[0m\u001B[33m\r\n",
      "\u001B[0mNote: you may need to restart the kernel to use updated packages.\n",
      "\u001B[33mDEPRECATION: Configuring installation scheme with distutils config files is deprecated and will no longer work in the near future. If you are using a Homebrew or Linuxbrew Python, please see discussion at https://github.com/Homebrew/homebrew-core/issues/76621\u001B[0m\u001B[33m\r\n",
      "\u001B[0mRequirement already satisfied: scikit-learn in /opt/homebrew/lib/python3.9/site-packages (1.3.1)\r\n",
      "Requirement already satisfied: scipy in /opt/homebrew/lib/python3.9/site-packages (1.11.3)\r\n",
      "Requirement already satisfied: matplotlib in /opt/homebrew/lib/python3.9/site-packages (3.8.0)\r\n",
      "Requirement already satisfied: numpy<2.0,>=1.17.3 in /opt/homebrew/lib/python3.9/site-packages (from scikit-learn) (1.26.0)\r\n",
      "Requirement already satisfied: joblib>=1.1.1 in /opt/homebrew/lib/python3.9/site-packages (from scikit-learn) (1.3.2)\r\n",
      "Requirement already satisfied: threadpoolctl>=2.0.0 in /opt/homebrew/lib/python3.9/site-packages (from scikit-learn) (3.2.0)\r\n",
      "Requirement already satisfied: contourpy>=1.0.1 in /opt/homebrew/lib/python3.9/site-packages (from matplotlib) (1.1.1)\r\n",
      "Requirement already satisfied: cycler>=0.10 in /opt/homebrew/lib/python3.9/site-packages (from matplotlib) (0.12.1)\r\n",
      "Requirement already satisfied: fonttools>=4.22.0 in /opt/homebrew/lib/python3.9/site-packages (from matplotlib) (4.43.1)\r\n",
      "Requirement already satisfied: kiwisolver>=1.0.1 in /opt/homebrew/lib/python3.9/site-packages (from matplotlib) (1.4.5)\r\n",
      "Requirement already satisfied: packaging>=20.0 in /opt/homebrew/lib/python3.9/site-packages (from matplotlib) (21.3)\r\n",
      "Requirement already satisfied: pillow>=6.2.0 in /opt/homebrew/lib/python3.9/site-packages (from matplotlib) (10.0.1)\r\n",
      "Requirement already satisfied: pyparsing>=2.3.1 in /opt/homebrew/lib/python3.9/site-packages (from matplotlib) (3.0.7)\r\n",
      "Requirement already satisfied: python-dateutil>=2.7 in /opt/homebrew/lib/python3.9/site-packages (from matplotlib) (2.8.2)\r\n",
      "Requirement already satisfied: importlib-resources>=3.2.0 in /opt/homebrew/lib/python3.9/site-packages (from matplotlib) (6.1.0)\r\n",
      "Requirement already satisfied: zipp>=3.1.0 in /opt/homebrew/lib/python3.9/site-packages (from importlib-resources>=3.2.0->matplotlib) (3.8.0)\r\n",
      "Requirement already satisfied: six>=1.5 in /opt/homebrew/lib/python3.9/site-packages (from python-dateutil>=2.7->matplotlib) (1.16.0)\r\n",
      "\u001B[33mDEPRECATION: Configuring installation scheme with distutils config files is deprecated and will no longer work in the near future. If you are using a Homebrew or Linuxbrew Python, please see discussion at https://github.com/Homebrew/homebrew-core/issues/76621\u001B[0m\u001B[33m\r\n",
      "\u001B[0mNote: you may need to restart the kernel to use updated packages.\n"
     ]
    }
   ]
  },
  {
   "cell_type": "code",
   "source": [
    "%pip install keras\n",
    "%pip install tensorflow\n",
    "from keras.datasets import mnist\n",
    "import warnings\n",
    "warnings.filterwarnings(\"ignore\")\n",
    "\n",
    "(_,_), (x, y) = mnist.load_data()"
   ],
   "metadata": {
    "id": "3nDPHfj1zEMO",
    "pycharm": {
     "name": "#%%\n"
    },
    "executionInfo": {
     "status": "ok",
     "timestamp": 1686686695114,
     "user_tz": -180,
     "elapsed": 441,
     "user": {
      "displayName": "Alexey Akulov",
      "userId": "01094635187180112136"
     }
    },
    "ExecuteTime": {
     "end_time": "2023-10-15T01:17:31.012824Z",
     "start_time": "2023-10-15T01:17:29.343014Z"
    }
   },
   "execution_count": 27,
   "outputs": [
    {
     "name": "stdout",
     "output_type": "stream",
     "text": [
      "\u001B[33mDEPRECATION: Configuring installation scheme with distutils config files is deprecated and will no longer work in the near future. If you are using a Homebrew or Linuxbrew Python, please see discussion at https://github.com/Homebrew/homebrew-core/issues/76621\u001B[0m\u001B[33m\r\n",
      "\u001B[0mRequirement already satisfied: keras in /opt/homebrew/lib/python3.9/site-packages (2.14.0)\r\n",
      "\u001B[33mDEPRECATION: Configuring installation scheme with distutils config files is deprecated and will no longer work in the near future. If you are using a Homebrew or Linuxbrew Python, please see discussion at https://github.com/Homebrew/homebrew-core/issues/76621\u001B[0m\u001B[33m\r\n",
      "\u001B[0mNote: you may need to restart the kernel to use updated packages.\n",
      "\u001B[33mDEPRECATION: Configuring installation scheme with distutils config files is deprecated and will no longer work in the near future. If you are using a Homebrew or Linuxbrew Python, please see discussion at https://github.com/Homebrew/homebrew-core/issues/76621\u001B[0m\u001B[33m\r\n",
      "\u001B[0mRequirement already satisfied: tensorflow in /opt/homebrew/lib/python3.9/site-packages (2.14.0)\r\n",
      "Requirement already satisfied: tensorflow-macos==2.14.0 in /opt/homebrew/lib/python3.9/site-packages (from tensorflow) (2.14.0)\r\n",
      "Requirement already satisfied: absl-py>=1.0.0 in /opt/homebrew/lib/python3.9/site-packages (from tensorflow-macos==2.14.0->tensorflow) (2.0.0)\r\n",
      "Requirement already satisfied: astunparse>=1.6.0 in /opt/homebrew/lib/python3.9/site-packages (from tensorflow-macos==2.14.0->tensorflow) (1.6.3)\r\n",
      "Requirement already satisfied: flatbuffers>=23.5.26 in /opt/homebrew/lib/python3.9/site-packages (from tensorflow-macos==2.14.0->tensorflow) (23.5.26)\r\n",
      "Requirement already satisfied: gast!=0.5.0,!=0.5.1,!=0.5.2,>=0.2.1 in /opt/homebrew/lib/python3.9/site-packages (from tensorflow-macos==2.14.0->tensorflow) (0.5.4)\r\n",
      "Requirement already satisfied: google-pasta>=0.1.1 in /opt/homebrew/lib/python3.9/site-packages (from tensorflow-macos==2.14.0->tensorflow) (0.2.0)\r\n",
      "Requirement already satisfied: h5py>=2.9.0 in /opt/homebrew/lib/python3.9/site-packages (from tensorflow-macos==2.14.0->tensorflow) (3.10.0)\r\n",
      "Requirement already satisfied: libclang>=13.0.0 in /opt/homebrew/lib/python3.9/site-packages (from tensorflow-macos==2.14.0->tensorflow) (16.0.6)\r\n",
      "Requirement already satisfied: ml-dtypes==0.2.0 in /opt/homebrew/lib/python3.9/site-packages (from tensorflow-macos==2.14.0->tensorflow) (0.2.0)\r\n",
      "Requirement already satisfied: numpy>=1.23.5 in /opt/homebrew/lib/python3.9/site-packages (from tensorflow-macos==2.14.0->tensorflow) (1.26.0)\r\n",
      "Requirement already satisfied: opt-einsum>=2.3.2 in /opt/homebrew/lib/python3.9/site-packages (from tensorflow-macos==2.14.0->tensorflow) (3.3.0)\r\n",
      "Requirement already satisfied: packaging in /opt/homebrew/lib/python3.9/site-packages (from tensorflow-macos==2.14.0->tensorflow) (21.3)\r\n",
      "Requirement already satisfied: protobuf!=4.21.0,!=4.21.1,!=4.21.2,!=4.21.3,!=4.21.4,!=4.21.5,<5.0.0dev,>=3.20.3 in /opt/homebrew/lib/python3.9/site-packages (from tensorflow-macos==2.14.0->tensorflow) (4.24.4)\r\n",
      "Requirement already satisfied: setuptools in /opt/homebrew/lib/python3.9/site-packages (from tensorflow-macos==2.14.0->tensorflow) (68.1.2)\r\n",
      "Requirement already satisfied: six>=1.12.0 in /opt/homebrew/lib/python3.9/site-packages (from tensorflow-macos==2.14.0->tensorflow) (1.16.0)\r\n",
      "Requirement already satisfied: termcolor>=1.1.0 in /opt/homebrew/lib/python3.9/site-packages (from tensorflow-macos==2.14.0->tensorflow) (2.3.0)\r\n",
      "Requirement already satisfied: typing-extensions>=3.6.6 in /opt/homebrew/lib/python3.9/site-packages (from tensorflow-macos==2.14.0->tensorflow) (4.8.0)\r\n",
      "Requirement already satisfied: wrapt<1.15,>=1.11.0 in /opt/homebrew/lib/python3.9/site-packages (from tensorflow-macos==2.14.0->tensorflow) (1.14.1)\r\n",
      "Requirement already satisfied: tensorflow-io-gcs-filesystem>=0.23.1 in /opt/homebrew/lib/python3.9/site-packages (from tensorflow-macos==2.14.0->tensorflow) (0.34.0)\r\n",
      "Requirement already satisfied: grpcio<2.0,>=1.24.3 in /opt/homebrew/lib/python3.9/site-packages (from tensorflow-macos==2.14.0->tensorflow) (1.59.0)\r\n",
      "Requirement already satisfied: tensorboard<2.15,>=2.14 in /opt/homebrew/lib/python3.9/site-packages (from tensorflow-macos==2.14.0->tensorflow) (2.14.1)\r\n",
      "Requirement already satisfied: tensorflow-estimator<2.15,>=2.14.0 in /opt/homebrew/lib/python3.9/site-packages (from tensorflow-macos==2.14.0->tensorflow) (2.14.0)\r\n",
      "Requirement already satisfied: keras<2.15,>=2.14.0 in /opt/homebrew/lib/python3.9/site-packages (from tensorflow-macos==2.14.0->tensorflow) (2.14.0)\r\n",
      "Requirement already satisfied: wheel<1.0,>=0.23.0 in /opt/homebrew/lib/python3.9/site-packages (from astunparse>=1.6.0->tensorflow-macos==2.14.0->tensorflow) (0.41.2)\r\n",
      "Requirement already satisfied: google-auth<3,>=1.6.3 in /opt/homebrew/lib/python3.9/site-packages (from tensorboard<2.15,>=2.14->tensorflow-macos==2.14.0->tensorflow) (2.23.3)\r\n",
      "Requirement already satisfied: google-auth-oauthlib<1.1,>=0.5 in /opt/homebrew/lib/python3.9/site-packages (from tensorboard<2.15,>=2.14->tensorflow-macos==2.14.0->tensorflow) (1.0.0)\r\n",
      "Requirement already satisfied: markdown>=2.6.8 in /opt/homebrew/lib/python3.9/site-packages (from tensorboard<2.15,>=2.14->tensorflow-macos==2.14.0->tensorflow) (3.5)\r\n",
      "Requirement already satisfied: requests<3,>=2.21.0 in /opt/homebrew/lib/python3.9/site-packages (from tensorboard<2.15,>=2.14->tensorflow-macos==2.14.0->tensorflow) (2.26.0)\r\n",
      "Requirement already satisfied: tensorboard-data-server<0.8.0,>=0.7.0 in /opt/homebrew/lib/python3.9/site-packages (from tensorboard<2.15,>=2.14->tensorflow-macos==2.14.0->tensorflow) (0.7.1)\r\n",
      "Requirement already satisfied: werkzeug>=1.0.1 in /opt/homebrew/lib/python3.9/site-packages (from tensorboard<2.15,>=2.14->tensorflow-macos==2.14.0->tensorflow) (3.0.0)\r\n",
      "Requirement already satisfied: pyparsing!=3.0.5,>=2.0.2 in /opt/homebrew/lib/python3.9/site-packages (from packaging->tensorflow-macos==2.14.0->tensorflow) (3.0.7)\r\n",
      "Requirement already satisfied: cachetools<6.0,>=2.0.0 in /opt/homebrew/lib/python3.9/site-packages (from google-auth<3,>=1.6.3->tensorboard<2.15,>=2.14->tensorflow-macos==2.14.0->tensorflow) (5.3.1)\r\n",
      "Requirement already satisfied: pyasn1-modules>=0.2.1 in /opt/homebrew/lib/python3.9/site-packages (from google-auth<3,>=1.6.3->tensorboard<2.15,>=2.14->tensorflow-macos==2.14.0->tensorflow) (0.3.0)\r\n",
      "Requirement already satisfied: rsa<5,>=3.1.4 in /opt/homebrew/lib/python3.9/site-packages (from google-auth<3,>=1.6.3->tensorboard<2.15,>=2.14->tensorflow-macos==2.14.0->tensorflow) (4.9)\r\n",
      "Requirement already satisfied: requests-oauthlib>=0.7.0 in /opt/homebrew/lib/python3.9/site-packages (from google-auth-oauthlib<1.1,>=0.5->tensorboard<2.15,>=2.14->tensorflow-macos==2.14.0->tensorflow) (1.3.1)\r\n",
      "Requirement already satisfied: importlib-metadata>=4.4 in /opt/homebrew/lib/python3.9/site-packages (from markdown>=2.6.8->tensorboard<2.15,>=2.14->tensorflow-macos==2.14.0->tensorflow) (4.11.4)\r\n",
      "Requirement already satisfied: urllib3<1.27,>=1.21.1 in /opt/homebrew/lib/python3.9/site-packages (from requests<3,>=2.21.0->tensorboard<2.15,>=2.14->tensorflow-macos==2.14.0->tensorflow) (1.26.7)\r\n",
      "Requirement already satisfied: certifi>=2017.4.17 in /opt/homebrew/lib/python3.9/site-packages (from requests<3,>=2.21.0->tensorboard<2.15,>=2.14->tensorflow-macos==2.14.0->tensorflow) (2021.10.8)\r\n",
      "Requirement already satisfied: charset-normalizer~=2.0.0 in /opt/homebrew/lib/python3.9/site-packages (from requests<3,>=2.21.0->tensorboard<2.15,>=2.14->tensorflow-macos==2.14.0->tensorflow) (2.0.7)\r\n",
      "Requirement already satisfied: idna<4,>=2.5 in /opt/homebrew/lib/python3.9/site-packages (from requests<3,>=2.21.0->tensorboard<2.15,>=2.14->tensorflow-macos==2.14.0->tensorflow) (3.3)\r\n",
      "Requirement already satisfied: MarkupSafe>=2.1.1 in /opt/homebrew/lib/python3.9/site-packages (from werkzeug>=1.0.1->tensorboard<2.15,>=2.14->tensorflow-macos==2.14.0->tensorflow) (2.1.1)\r\n",
      "Requirement already satisfied: zipp>=0.5 in /opt/homebrew/lib/python3.9/site-packages (from importlib-metadata>=4.4->markdown>=2.6.8->tensorboard<2.15,>=2.14->tensorflow-macos==2.14.0->tensorflow) (3.8.0)\r\n",
      "Requirement already satisfied: pyasn1<0.6.0,>=0.4.6 in /opt/homebrew/lib/python3.9/site-packages (from pyasn1-modules>=0.2.1->google-auth<3,>=1.6.3->tensorboard<2.15,>=2.14->tensorflow-macos==2.14.0->tensorflow) (0.5.0)\r\n",
      "Requirement already satisfied: oauthlib>=3.0.0 in /opt/homebrew/lib/python3.9/site-packages (from requests-oauthlib>=0.7.0->google-auth-oauthlib<1.1,>=0.5->tensorboard<2.15,>=2.14->tensorflow-macos==2.14.0->tensorflow) (3.2.2)\r\n",
      "\u001B[33mDEPRECATION: Configuring installation scheme with distutils config files is deprecated and will no longer work in the near future. If you are using a Homebrew or Linuxbrew Python, please see discussion at https://github.com/Homebrew/homebrew-core/issues/76621\u001B[0m\u001B[33m\r\n",
      "\u001B[0mNote: you may need to restart the kernel to use updated packages.\n"
     ]
    }
   ]
  },
  {
   "cell_type": "markdown",
   "source": [
    "Пример вывода нескольких объектов и соответствующих меток классов:"
   ],
   "metadata": {
    "id": "CDBVilVoHaqp",
    "pycharm": {
     "name": "#%% md\n"
    }
   }
  },
  {
   "cell_type": "code",
   "source": [
    "fig, ax = plt.subplots(4, 6)\n",
    "for i, axi in enumerate(ax.flat):\n",
    "    axi.imshow(x[i], cmap='gray')\n",
    "    axi.set(xticks=[], yticks=[])\n",
    "    axi.set_xlabel(y[i],\n",
    "                   color='black')"
   ],
   "metadata": {
    "id": "QMk1_le8zhWm",
    "pycharm": {
     "name": "#%%\n"
    },
    "colab": {
     "base_uri": "https://localhost:8080/",
     "height": 416
    },
    "executionInfo": {
     "status": "ok",
     "timestamp": 1686686727981,
     "user_tz": -180,
     "elapsed": 2490,
     "user": {
      "displayName": "Alexey Akulov",
      "userId": "01094635187180112136"
     }
    },
    "outputId": "bb1d74a7-fd6b-46c9-ef55-82c025283940",
    "ExecuteTime": {
     "end_time": "2023-10-15T01:17:31.701395Z",
     "start_time": "2023-10-15T01:17:31.017980Z"
    }
   },
   "execution_count": 28,
   "outputs": [
    {
     "data": {
      "text/plain": "<Figure size 432x288 with 24 Axes>",
      "image/png": "[encoded data removed]"
     },
     "metadata": {},
     "output_type": "display_data"
    }
   ]
  },
  {
   "cell_type": "markdown",
   "source": [
    "Введите <code>.shape</code> полученного набора данных"
   ],
   "metadata": {
    "id": "rD01npDAFYhQ"
   }
  },
  {
   "cell_type": "code",
   "source": [
    "x.shape"
   ],
   "metadata": {
    "id": "8p4JfdQBzI_g",
    "pycharm": {
     "name": "#%%\n"
    },
    "colab": {
     "base_uri": "https://localhost:8080/"
    },
    "executionInfo": {
     "status": "ok",
     "timestamp": 1686686756238,
     "user_tz": -180,
     "elapsed": 1355,
     "user": {
      "displayName": "Alexey Akulov",
      "userId": "01094635187180112136"
     }
    },
    "outputId": "5f704e5d-c719-47ae-d232-8d59d89eacb4",
    "ExecuteTime": {
     "end_time": "2023-10-15T01:17:31.709878Z",
     "start_time": "2023-10-15T01:17:31.700853Z"
    }
   },
   "execution_count": 29,
   "outputs": [
    {
     "data": {
      "text/plain": "(10000, 28, 28)"
     },
     "execution_count": 29,
     "metadata": {},
     "output_type": "execute_result"
    }
   ]
  },
  {
   "cell_type": "markdown",
   "source": [
    "При помощи <code>train_test_split</code> разобейте полученный набор данных на тренеровочную и тестовую выборки с параметрами, указанными в вашем варианте."
   ],
   "metadata": {
    "id": "ByQl8PYcJ2Pt"
   }
  },
  {
   "cell_type": "code",
   "source": [
    "#распремляем тут\n",
    "def flatten_images(images):\n",
    "    return images.reshape((images.shape[0], -1))\n",
    "\n",
    "x_flat = flatten_images(x)\n",
    "x_flat.shape"
   ],
   "metadata": {
    "colab": {
     "base_uri": "https://localhost:8080/"
    },
    "id": "AEKqcpAOZo6g",
    "executionInfo": {
     "status": "ok",
     "timestamp": 1686687577870,
     "user_tz": -180,
     "elapsed": 460,
     "user": {
      "displayName": "Alexey Akulov",
      "userId": "01094635187180112136"
     }
    },
    "outputId": "541445c7-5ed7-461f-f3a4-b11adcf36961",
    "ExecuteTime": {
     "end_time": "2023-10-15T01:17:31.720123Z",
     "start_time": "2023-10-15T01:17:31.712322Z"
    }
   },
   "execution_count": 30,
   "outputs": [
    {
     "data": {
      "text/plain": "(10000, 784)"
     },
     "execution_count": 30,
     "metadata": {},
     "output_type": "execute_result"
    }
   ]
  },
  {
   "cell_type": "code",
   "source": [
    "x_train, x_test, y_train, y_test = train_test_split(x_flat, y, test_size=0.2, random_state=21)"
   ],
   "metadata": {
    "id": "tdmPQt7CFoDo",
    "executionInfo": {
     "status": "ok",
     "timestamp": 1686696058108,
     "user_tz": -180,
     "elapsed": 619,
     "user": {
      "displayName": "Alexey Akulov",
      "userId": "01094635187180112136"
     }
    },
    "ExecuteTime": {
     "end_time": "2023-10-15T01:17:31.779663Z",
     "start_time": "2023-10-15T01:17:31.718141Z"
    }
   },
   "execution_count": 31,
   "outputs": []
  },
  {
   "cell_type": "code",
   "source": [
    "x_train.shape"
   ],
   "metadata": {
    "colab": {
     "base_uri": "https://localhost:8080/"
    },
    "id": "yds-pfuBX-st",
    "executionInfo": {
     "status": "ok",
     "timestamp": 1686696060041,
     "user_tz": -180,
     "elapsed": 6,
     "user": {
      "displayName": "Alexey Akulov",
      "userId": "01094635187180112136"
     }
    },
    "outputId": "06e05d89-1e22-4d99-e295-adec920b6be6",
    "ExecuteTime": {
     "end_time": "2023-10-15T01:17:31.795723Z",
     "start_time": "2023-10-15T01:17:31.731600Z"
    }
   },
   "execution_count": 32,
   "outputs": [
    {
     "data": {
      "text/plain": "(8000, 784)"
     },
     "execution_count": 32,
     "metadata": {},
     "output_type": "execute_result"
    }
   ]
  },
  {
   "cell_type": "markdown",
   "source": [
    "Давайте, раз речь идет об известном наборе данных, заставим <code>K-means</code> искать $10$ групп объектов.\n",
    "\n",
    "«Распрямите» изображения и обучите алгоритм <a href=\"https://scikit-learn.org/stable/modules/generated/sklearn.cluster.KMeans.html\"><code>KMeans</code></a> с параметрами, указанными в вашем задании."
   ],
   "metadata": {
    "id": "A-7gaAPhH04R",
    "pycharm": {
     "name": "#%% md\n"
    }
   }
  },
  {
   "cell_type": "code",
   "source": [
    "from sklearn.cluster import KMeans\n",
    "\n",
    "k_means = KMeans(random_state=21, n_clusters=10)\n",
    "\n",
    "k_means.fit(x_train, y_train)"
   ],
   "metadata": {
    "id": "XjyduSPmH_5K",
    "pycharm": {
     "name": "#%%\n"
    },
    "colab": {
     "base_uri": "https://localhost:8080/",
     "height": 74
    },
    "executionInfo": {
     "status": "ok",
     "timestamp": 1686696076381,
     "user_tz": -180,
     "elapsed": 12796,
     "user": {
      "displayName": "Alexey Akulov",
      "userId": "01094635187180112136"
     }
    },
    "outputId": "74140fb6-93c4-4a95-d605-df96a517de43",
    "ExecuteTime": {
     "end_time": "2023-10-15T01:17:36.598605Z",
     "start_time": "2023-10-15T01:17:31.738860Z"
    }
   },
   "execution_count": 33,
   "outputs": [
    {
     "data": {
      "text/plain": "KMeans(n_clusters=10, random_state=21)",
      "text/html": "<style>#sk-container-id-3 {color: black;}#sk-container-id-3 pre{padding: 0;}#sk-container-id-3 div.sk-toggleable {background-color: white;}#sk-container-id-3 label.sk-toggleable__label {cursor: pointer;display: block;width: 100%;margin-bottom: 0;padding: 0.3em;box-sizing: border-box;text-align: center;}#sk-container-id-3 label.sk-toggleable__label-arrow:before {content: \"▸\";float: left;margin-right: 0.25em;color: #696969;}#sk-container-id-3 label.sk-toggleable__label-arrow:hover:before {color: black;}#sk-container-id-3 div.sk-estimator:hover label.sk-toggleable__label-arrow:before {color: black;}#sk-container-id-3 div.sk-toggleable__content {max-height: 0;max-width: 0;overflow: hidden;text-align: left;background-color: #f0f8ff;}#sk-container-id-3 div.sk-toggleable__content pre {margin: 0.2em;color: black;border-radius: 0.25em;background-color: #f0f8ff;}#sk-container-id-3 input.sk-toggleable__control:checked~div.sk-toggleable__content {max-height: 200px;max-width: 100%;overflow: auto;}#sk-container-id-3 input.sk-toggleable__control:checked~label.sk-toggleable__label-arrow:before {content: \"▾\";}#sk-container-id-3 div.sk-estimator input.sk-toggleable__control:checked~label.sk-toggleable__label {background-color: #d4ebff;}#sk-container-id-3 div.sk-label input.sk-toggleable__control:checked~label.sk-toggleable__label {background-color: #d4ebff;}#sk-container-id-3 input.sk-hidden--visually {border: 0;clip: rect(1px 1px 1px 1px);clip: rect(1px, 1px, 1px, 1px);height: 1px;margin: -1px;overflow: hidden;padding: 0;position: absolute;width: 1px;}#sk-container-id-3 div.sk-estimator {font-family: monospace;background-color: #f0f8ff;border: 1px dotted black;border-radius: 0.25em;box-sizing: border-box;margin-bottom: 0.5em;}#sk-container-id-3 div.sk-estimator:hover {background-color: #d4ebff;}#sk-container-id-3 div.sk-parallel-item::after {content: \"\";width: 100%;border-bottom: 1px solid gray;flex-grow: 1;}#sk-container-id-3 div.sk-label:hover label.sk-toggleable__label {background-color: #d4ebff;}#sk-container-id-3 div.sk-serial::before {content: \"\";position: absolute;border-left: 1px solid gray;box-sizing: border-box;top: 0;bottom: 0;left: 50%;z-index: 0;}#sk-container-id-3 div.sk-serial {display: flex;flex-direction: column;align-items: center;background-color: white;padding-right: 0.2em;padding-left: 0.2em;position: relative;}#sk-container-id-3 div.sk-item {position: relative;z-index: 1;}#sk-container-id-3 div.sk-parallel {display: flex;align-items: stretch;justify-content: center;background-color: white;position: relative;}#sk-container-id-3 div.sk-item::before, #sk-container-id-3 div.sk-parallel-item::before {content: \"\";position: absolute;border-left: 1px solid gray;box-sizing: border-box;top: 0;bottom: 0;left: 50%;z-index: -1;}#sk-container-id-3 div.sk-parallel-item {display: flex;flex-direction: column;z-index: 1;position: relative;background-color: white;}#sk-container-id-3 div.sk-parallel-item:first-child::after {align-self: flex-end;width: 50%;}#sk-container-id-3 div.sk-parallel-item:last-child::after {align-self: flex-start;width: 50%;}#sk-container-id-3 div.sk-parallel-item:only-child::after {width: 0;}#sk-container-id-3 div.sk-dashed-wrapped {border: 1px dashed gray;margin: 0 0.4em 0.5em 0.4em;box-sizing: border-box;padding-bottom: 0.4em;background-color: white;}#sk-container-id-3 div.sk-label label {font-family: monospace;font-weight: bold;display: inline-block;line-height: 1.2em;}#sk-container-id-3 div.sk-label-container {text-align: center;}#sk-container-id-3 div.sk-container {/* jupyter's `normalize.less` sets `[hidden] { display: none; }` but bootstrap.min.css set `[hidden] { display: none !important; }` so we also need the `!important` here to be able to override the default hidden behavior on the sphinx rendered scikit-learn.org. See: https://github.com/scikit-learn/scikit-learn/issues/21755 */display: inline-block !important;position: relative;}#sk-container-id-3 div.sk-text-repr-fallback {display: none;}</style><div id=\"sk-container-id-3\" class=\"sk-top-container\"><div class=\"sk-text-repr-fallback\"><pre>KMeans(n_clusters=10, random_state=21)</pre><b>In a Jupyter environment, please rerun this cell to show the HTML representation or trust the notebook. <br />On GitHub, the HTML representation is unable to render, please try loading this page with nbviewer.org.</b></div><div class=\"sk-container\" hidden><div class=\"sk-item\"><div class=\"sk-estimator sk-toggleable\"><input class=\"sk-toggleable__control sk-hidden--visually\" id=\"sk-estimator-id-3\" type=\"checkbox\" checked><label for=\"sk-estimator-id-3\" class=\"sk-toggleable__label sk-toggleable__label-arrow\">KMeans</label><div class=\"sk-toggleable__content\"><pre>KMeans(n_clusters=10, random_state=21)</pre></div></div></div></div></div>"
     },
     "execution_count": 33,
     "metadata": {},
     "output_type": "execute_result"
    }
   ]
  },
  {
   "cell_type": "markdown",
   "source": [
    "Определите чило элементов, отнесенных к кластеру, указанному в вашем задании"
   ],
   "metadata": {
    "id": "HQXrTo0H0ky0"
   }
  },
  {
   "cell_type": "code",
   "source": [
    "cluster_number = 9\n",
    "\n",
    "labels = k_means.labels_\n",
    "\n",
    "count_label_2 = np.count_nonzero(labels == cluster_number)\n",
    "count_label_2"
   ],
   "metadata": {
    "colab": {
     "base_uri": "https://localhost:8080/"
    },
    "id": "oYjt_QhBcgO4",
    "executionInfo": {
     "status": "ok",
     "timestamp": 1686696337417,
     "user_tz": -180,
     "elapsed": 411,
     "user": {
      "displayName": "Alexey Akulov",
      "userId": "01094635187180112136"
     }
    },
    "outputId": "4207344c-f42e-40cf-8501-5fa415c81991",
    "ExecuteTime": {
     "end_time": "2023-10-15T01:17:36.601911Z",
     "start_time": "2023-10-15T01:17:36.598967Z"
    }
   },
   "execution_count": 34,
   "outputs": [
    {
     "data": {
      "text/plain": "712"
     },
     "execution_count": 34,
     "metadata": {},
     "output_type": "execute_result"
    }
   ]
  },
  {
   "cell_type": "markdown",
   "source": [
    "Постройте изображения, соответствующие центроидам полученных кластеров. Для этого `reshape`ните координаты центроидов до размера $28 \\times 28$ и постройте полученную матрицу, например, в черно-белых оттенках.\n",
    "\n"
   ],
   "metadata": {
    "id": "z3KJMvB6JFGM",
    "pycharm": {
     "name": "#%% md\n"
    }
   }
  },
  {
   "cell_type": "code",
   "source": [
    "centroids = k_means.cluster_centers_\n",
    "\n",
    "fig, axes = plt.subplots(2, 5, figsize=(10, 5))\n",
    "axes = axes.ravel()\n",
    "\n",
    "for i, centroid in enumerate(centroids):\n",
    "\n",
    "    centroid_image = centroid.reshape(28, 28)\n",
    "\n",
    "    axes[i].imshow(centroid_image, cmap='gray')\n",
    "    axes[i].set_title(f'Cluster {i + 1}')\n",
    "    axes[i].axis('off')\n",
    "\n",
    "plt.tight_layout()\n",
    "plt.show()"
   ],
   "metadata": {
    "id": "9zeRnmdYI60h",
    "pycharm": {
     "name": "#%%\n"
    },
    "colab": {
     "base_uri": "https://localhost:8080/",
     "height": 473
    },
    "executionInfo": {
     "status": "ok",
     "timestamp": 1686696630488,
     "user_tz": -180,
     "elapsed": 1118,
     "user": {
      "displayName": "Alexey Akulov",
      "userId": "01094635187180112136"
     }
    },
    "outputId": "dcebfd23-f9a2-4764-81b2-a7f171257579",
    "ExecuteTime": {
     "end_time": "2023-10-15T01:17:37.014919Z",
     "start_time": "2023-10-15T01:17:36.614573Z"
    }
   },
   "execution_count": 35,
   "outputs": [
    {
     "data": {
      "text/plain": "<Figure size 720x360 with 10 Axes>",
      "image/png": "[encoded data removed]"
     },
     "metadata": {
      "needs_background": "light"
     },
     "output_type": "display_data"
    }
   ]
  },
  {
   "cell_type": "markdown",
   "source": [
    "Можно заметить, что получившиеся картинки весьма походят на рукописные цифры. Впрочем, кластеризация прошла не без накладок. Предположите, какие цифры могут быть перепутаны и каких не хватает."
   ],
   "metadata": {
    "id": "HVnIT8vrJl_-",
    "pycharm": {
     "name": "#%% md\n"
    }
   }
  },
  {
   "cell_type": "markdown",
   "source": [
    "Так как получившиеся кластеры ничего не знают о природе кластеризумых объектов, метки кластеров могут отличаться от «разумных меток». Восстановите правильные метки, используя следующие соображения: кластеру присваивается метка тех цифр, представителей которых в кластере большинство. Действительно ли это помогло восстановить справедливость?"
   ],
   "metadata": {
    "id": "zeJdDdcBHJJA",
    "pycharm": {
     "name": "#%% md\n"
    }
   }
  },
  {
   "cell_type": "markdown",
   "source": [
    "Введите полученные метки кластеров после преобразования и сравните с ранее построенными изображениями на основе центроидов. Подтверждаются ли ваши догадки фактами?"
   ],
   "metadata": {
    "id": "llsMxk7gQdp3"
   }
  },
  {
   "cell_type": "code",
   "source": [
    "labels_compare = pd.DataFrame({'kmean_label' : labels, 'correct_label' : y_train})\n",
    "labels_compare.sample(5)"
   ],
   "metadata": {
    "colab": {
     "base_uri": "https://localhost:8080/",
     "height": 206
    },
    "id": "ihjtOZhmtxNO",
    "executionInfo": {
     "status": "ok",
     "timestamp": 1686696645276,
     "user_tz": -180,
     "elapsed": 489,
     "user": {
      "displayName": "Alexey Akulov",
      "userId": "01094635187180112136"
     }
    },
    "outputId": "34b180bd-a124-4167-8c1f-b8cf4606fe6e",
    "ExecuteTime": {
     "end_time": "2023-10-15T01:17:37.026186Z",
     "start_time": "2023-10-15T01:17:37.016921Z"
    }
   },
   "execution_count": 36,
   "outputs": [
    {
     "data": {
      "text/plain": "      kmean_label  correct_label\n4916            9              0\n636             5              3\n7795            8              8\n92              9              0\n2575            4              9",
      "text/html": "<div>\n<style scoped>\n    .dataframe tbody tr th:only-of-type {\n        vertical-align: middle;\n    }\n\n    .dataframe tbody tr th {\n        vertical-align: top;\n    }\n\n    .dataframe thead th {\n        text-align: right;\n    }\n</style>\n<table border=\"1\" class=\"dataframe\">\n  <thead>\n    <tr style=\"text-align: right;\">\n      <th></th>\n      <th>kmean_label</th>\n      <th>correct_label</th>\n    </tr>\n  </thead>\n  <tbody>\n    <tr>\n      <th>4916</th>\n      <td>9</td>\n      <td>0</td>\n    </tr>\n    <tr>\n      <th>636</th>\n      <td>5</td>\n      <td>3</td>\n    </tr>\n    <tr>\n      <th>7795</th>\n      <td>8</td>\n      <td>8</td>\n    </tr>\n    <tr>\n      <th>92</th>\n      <td>9</td>\n      <td>0</td>\n    </tr>\n    <tr>\n      <th>2575</th>\n      <td>4</td>\n      <td>9</td>\n    </tr>\n  </tbody>\n</table>\n</div>"
     },
     "execution_count": 36,
     "metadata": {},
     "output_type": "execute_result"
    }
   ]
  },
  {
   "cell_type": "code",
   "source": [
    "taken_labels = labels_compare.groupby('kmean_label').agg(pd.Series.mode)\n",
    "taken_labels"
   ],
   "metadata": {
    "colab": {
     "base_uri": "https://localhost:8080/",
     "height": 394
    },
    "id": "4iy9pMMIuYdF",
    "executionInfo": {
     "status": "ok",
     "timestamp": 1686696648139,
     "user_tz": -180,
     "elapsed": 356,
     "user": {
      "displayName": "Alexey Akulov",
      "userId": "01094635187180112136"
     }
    },
    "outputId": "040bc331-39c2-4905-ac26-67e3fa9ca85d",
    "ExecuteTime": {
     "end_time": "2023-10-15T01:17:37.026501Z",
     "start_time": "2023-10-15T01:17:37.019826Z"
    }
   },
   "execution_count": 37,
   "outputs": [
    {
     "data": {
      "text/plain": "             correct_label\nkmean_label               \n0                        4\n1                        2\n2                        7\n3                        8\n4                        7\n5                        3\n6                        6\n7                        1\n8                        1\n9                        0",
      "text/html": "<div>\n<style scoped>\n    .dataframe tbody tr th:only-of-type {\n        vertical-align: middle;\n    }\n\n    .dataframe tbody tr th {\n        vertical-align: top;\n    }\n\n    .dataframe thead th {\n        text-align: right;\n    }\n</style>\n<table border=\"1\" class=\"dataframe\">\n  <thead>\n    <tr style=\"text-align: right;\">\n      <th></th>\n      <th>correct_label</th>\n    </tr>\n    <tr>\n      <th>kmean_label</th>\n      <th></th>\n    </tr>\n  </thead>\n  <tbody>\n    <tr>\n      <th>0</th>\n      <td>4</td>\n    </tr>\n    <tr>\n      <th>1</th>\n      <td>2</td>\n    </tr>\n    <tr>\n      <th>2</th>\n      <td>7</td>\n    </tr>\n    <tr>\n      <th>3</th>\n      <td>8</td>\n    </tr>\n    <tr>\n      <th>4</th>\n      <td>7</td>\n    </tr>\n    <tr>\n      <th>5</th>\n      <td>3</td>\n    </tr>\n    <tr>\n      <th>6</th>\n      <td>6</td>\n    </tr>\n    <tr>\n      <th>7</th>\n      <td>1</td>\n    </tr>\n    <tr>\n      <th>8</th>\n      <td>1</td>\n    </tr>\n    <tr>\n      <th>9</th>\n      <td>0</td>\n    </tr>\n  </tbody>\n</table>\n</div>"
     },
     "execution_count": 37,
     "metadata": {},
     "output_type": "execute_result"
    }
   ]
  },
  {
   "cell_type": "code",
   "source": [
    "correct_labels = []\n",
    "for i in range(10):\n",
    "  correct_labels.append(taken_labels.at[i, 'correct_label'])\n",
    "correct_labels"
   ],
   "metadata": {
    "colab": {
     "base_uri": "https://localhost:8080/"
    },
    "id": "3NadYHzx37C_",
    "executionInfo": {
     "status": "ok",
     "timestamp": 1686697505432,
     "user_tz": -180,
     "elapsed": 410,
     "user": {
      "displayName": "Alexey Akulov",
      "userId": "01094635187180112136"
     }
    },
    "outputId": "8f5bc367-f720-47a9-ffac-7555610945b7",
    "ExecuteTime": {
     "end_time": "2023-10-15T01:17:37.031023Z",
     "start_time": "2023-10-15T01:17:37.025874Z"
    }
   },
   "execution_count": 38,
   "outputs": [
    {
     "data": {
      "text/plain": "[4, 2, 7, 8, 7, 3, 6, 1, 1, 0]"
     },
     "execution_count": 38,
     "metadata": {},
     "output_type": "execute_result"
    }
   ]
  },
  {
   "cell_type": "code",
   "source": [
    "fig, axes = plt.subplots(2, 5, figsize=(10, 5))\n",
    "axes = axes.ravel()\n",
    "\n",
    "for i, centroid in enumerate(centroids):\n",
    "\n",
    "    centroid_image = centroid.reshape(28, 28)\n",
    "\n",
    "    axes[i].imshow(centroid_image, cmap='gray')\n",
    "    axes[i].set_title(f\"Cluster {correct_labels[i]}\")\n",
    "    axes[i].axis('off')\n",
    "\n",
    "plt.tight_layout()\n",
    "plt.show()"
   ],
   "metadata": {
    "id": "f8jqdsEVJmWT",
    "pycharm": {
     "name": "#%%\n"
    },
    "colab": {
     "base_uri": "https://localhost:8080/",
     "height": 473
    },
    "executionInfo": {
     "status": "ok",
     "timestamp": 1686695367365,
     "user_tz": -180,
     "elapsed": 2409,
     "user": {
      "displayName": "Alexey Akulov",
      "userId": "01094635187180112136"
     }
    },
    "outputId": "29db9abd-e86a-424d-d728-d980af7434d6",
    "ExecuteTime": {
     "end_time": "2023-10-15T01:17:37.440401Z",
     "start_time": "2023-10-15T01:17:37.079119Z"
    }
   },
   "execution_count": 39,
   "outputs": [
    {
     "data": {
      "text/plain": "<Figure size 720x360 with 10 Axes>",
      "image/png": "[encoded data removed]"
     },
     "metadata": {
      "needs_background": "light"
     },
     "output_type": "display_data"
    }
   ]
  },
  {
   "cell_type": "markdown",
   "source": [
    "2, 4, 1, 8, 0, 3, 6, 7, 1, 7"
   ],
   "metadata": {
    "id": "yRu8I3YU1L2N"
   }
  },
  {
   "cell_type": "markdown",
   "source": [
    "Разумно оценить что-то вроде точности. Считая, что все объекты кластера имеют ту же метку, что и сам кластер, сравните эти метки с истинными метками. Вычислите <code>accuracy</code>. Рекомендуем использовать функцию <a href=\"https://scikit-learn.org/stable/modules/generated/sklearn.metrics.accuracy_score.html\"><code>accuracy_score</code></a> из библиотеки <code>sklearn</code>."
   ],
   "metadata": {
    "id": "bsnkLXGCGCWm",
    "pycharm": {
     "name": "#%% md\n"
    }
   }
  },
  {
   "cell_type": "code",
   "source": [
    "from sklearn.metrics import accuracy_score\n",
    "\n",
    "true_kmean_labels = [correct_labels[i] for i in labels]\n",
    "\n",
    "\n",
    "accuracy_score(y_train, true_kmean_labels)"
   ],
   "metadata": {
    "id": "ELEokXCCHyNl",
    "pycharm": {
     "name": "#%%\n"
    },
    "colab": {
     "base_uri": "https://localhost:8080/"
    },
    "executionInfo": {
     "status": "ok",
     "timestamp": 1686696717994,
     "user_tz": -180,
     "elapsed": 384,
     "user": {
      "displayName": "Alexey Akulov",
      "userId": "01094635187180112136"
     }
    },
    "outputId": "05a34653-e812-4a6e-e0db-a402c78eae6c",
    "ExecuteTime": {
     "end_time": "2023-10-15T01:17:37.445621Z",
     "start_time": "2023-10-15T01:17:37.441116Z"
    }
   },
   "execution_count": 40,
   "outputs": [
    {
     "data": {
      "text/plain": "0.5895"
     },
     "execution_count": 40,
     "metadata": {},
     "output_type": "execute_result"
    }
   ]
  },
  {
   "cell_type": "markdown",
   "source": [
    "При помощи метода <code>.predict()</code> произведите кластеризацию тестовых данных. Переименуйте метки предсказанных кластеров на основе полученного для тренировочного набора данных преобразования."
   ],
   "metadata": {
    "id": "NMz4X1-1IZQa",
    "pycharm": {
     "name": "#%% md\n"
    }
   }
  },
  {
   "cell_type": "code",
   "source": [
    "pred = k_means.predict(x_test)"
   ],
   "metadata": {
    "id": "R0-nWU3QIbxW",
    "pycharm": {
     "name": "#%%\n"
    },
    "executionInfo": {
     "status": "ok",
     "timestamp": 1686696738007,
     "user_tz": -180,
     "elapsed": 405,
     "user": {
      "displayName": "Alexey Akulov",
      "userId": "01094635187180112136"
     }
    },
    "ExecuteTime": {
     "end_time": "2023-10-15T01:17:37.459650Z",
     "start_time": "2023-10-15T01:17:37.445102Z"
    }
   },
   "execution_count": 41,
   "outputs": []
  },
  {
   "cell_type": "code",
   "source": [
    "true_correct_labels = [correct_labels[i] for i in pred]\n",
    "\n",
    "accuracy_score(true_correct_labels, y_test)"
   ],
   "metadata": {
    "colab": {
     "base_uri": "https://localhost:8080/"
    },
    "id": "YQMP_1HW2VSd",
    "executionInfo": {
     "status": "ok",
     "timestamp": 1686696739844,
     "user_tz": -180,
     "elapsed": 4,
     "user": {
      "displayName": "Alexey Akulov",
      "userId": "01094635187180112136"
     }
    },
    "outputId": "8b1b0a54-2995-4431-b0e7-a08f70447244",
    "ExecuteTime": {
     "end_time": "2023-10-15T01:17:37.460014Z",
     "start_time": "2023-10-15T01:17:37.452357Z"
    }
   },
   "execution_count": 42,
   "outputs": [
    {
     "data": {
      "text/plain": "0.5875"
     },
     "execution_count": 42,
     "metadata": {},
     "output_type": "execute_result"
    }
   ]
  },
  {
   "cell_type": "code",
   "execution_count": 45,
   "outputs": [
    {
     "name": "stdout",
     "output_type": "stream",
     "text": [
      "Accuracy: 0.588\n"
     ]
    }
   ],
   "source": [
    "from scipy.stats import mode\n",
    "\n",
    "# Получить метки кластеров для обучающих данных\n",
    "train_clusters = k_means.predict(x_train)\n",
    "\n",
    "# Инициализировать отображение меток\n",
    "labels_mapping = {}\n",
    "\n",
    "# Для каждого кластера найти наиболее часто встречающуюся истинную метку и отобразить кластер на эту метку\n",
    "for i in range(10):\n",
    "    mask = (train_clusters == i)\n",
    "    true_labels = y_train[mask]\n",
    "    most_common = mode(true_labels)[0]\n",
    "    labels_mapping[i] = most_common\n",
    "    \n",
    "# Применить отображение к предсказанным меткам\n",
    "predicted_labels = np.array([labels_mapping[cluster] for cluster in pred])\n",
    "\n",
    "# Вычислить точность\n",
    "accuracy = accuracy_score(y_test, predicted_labels)\n",
    "\n",
    "print(f\"Accuracy: {accuracy:.3f}\")\n"
   ],
   "metadata": {
    "collapsed": false,
    "ExecuteTime": {
     "end_time": "2023-10-15T01:18:08.209256Z",
     "start_time": "2023-10-15T01:18:08.169422Z"
    }
   }
  },
  {
   "cell_type": "markdown",
   "source": [
    "Постройте матрицу ошибок."
   ],
   "metadata": {
    "id": "FG6CITJISsXQ",
    "pycharm": {
     "name": "#%% md\n"
    }
   }
  },
  {
   "cell_type": "code",
   "source": [
    "from sklearn.metrics import confusion_matrix\n",
    "\n",
    "conf_mat = confusion_matrix(true_correct_labels, y_test)\n",
    "\n",
    "plt.figure(figsize=(10, 7))\n",
    "sns.heatmap(conf_mat, annot=True, fmt='d')\n",
    "plt.title('Confusion Matrix')\n",
    "plt.xlabel('Predicted')\n",
    "plt.ylabel('Actual')"
   ],
   "metadata": {
    "id": "I0CTtjKTOJW3",
    "pycharm": {
     "name": "#%%\n"
    },
    "colab": {
     "base_uri": "https://localhost:8080/",
     "height": 658
    },
    "executionInfo": {
     "status": "ok",
     "timestamp": 1686696752798,
     "user_tz": -180,
     "elapsed": 1064,
     "user": {
      "displayName": "Alexey Akulov",
      "userId": "01094635187180112136"
     }
    },
    "outputId": "492a4427-7a8e-4c01-97c5-5ba417219989",
    "ExecuteTime": {
     "end_time": "2023-10-13T23:59:50.506140Z",
     "start_time": "2023-10-13T23:59:50.208398Z"
    }
   },
   "execution_count": 86,
   "outputs": [
    {
     "data": {
      "text/plain": "Text(69.0, 0.5, 'Actual')"
     },
     "execution_count": 86,
     "metadata": {},
     "output_type": "execute_result"
    },
    {
     "data": {
      "text/plain": "<Figure size 720x504 with 2 Axes>",
      "image/png": "[encoded data removed]"
     },
     "metadata": {
      "needs_background": "light"
     },
     "output_type": "display_data"
    }
   ]
  },
  {
   "cell_type": "markdown",
   "source": [
    "С какой цифрой построенная модель чаще всего путала цифру, указанную в вашем варианте?"
   ],
   "metadata": {
    "id": "z8NDS8NpaOeO"
   }
  },
  {
   "cell_type": "code",
   "source": [
    "# видимо 9 путала с 7"
   ],
   "metadata": {
    "id": "eOPGyYRWZ6SD",
    "ExecuteTime": {
     "end_time": "2023-10-13T23:59:50.506292Z",
     "start_time": "2023-10-13T23:59:50.495760Z"
    }
   },
   "execution_count": 87,
   "outputs": []
  },
  {
   "cell_type": "markdown",
   "source": [
    "Преобразуйте тренировочный набор данных при помощи метода TSNE из библиотеки sklearn. Используйте параметры, указанные в вашем задании."
   ],
   "metadata": {
    "id": "hg6ogVTk-V6a"
   }
  },
  {
   "cell_type": "code",
   "source": [
    "from sklearn.manifold import TSNE\n",
    "\n",
    "tsne = TSNE(n_components=2, init='random', random_state=21)\n",
    "train_tsne = tsne.fit_transform(x_train)"
   ],
   "metadata": {
    "id": "4MTHK9nA-RHT",
    "executionInfo": {
     "status": "ok",
     "timestamp": 1686697096293,
     "user_tz": -180,
     "elapsed": 77651,
     "user": {
      "displayName": "Alexey Akulov",
      "userId": "01094635187180112136"
     }
    },
    "ExecuteTime": {
     "end_time": "2023-10-14T00:00:13.584686Z",
     "start_time": "2023-10-13T23:59:50.498432Z"
    }
   },
   "execution_count": 88,
   "outputs": []
  },
  {
   "cell_type": "code",
   "source": [
    "train_tsne.shape"
   ],
   "metadata": {
    "colab": {
     "base_uri": "https://localhost:8080/"
    },
    "id": "-atZOfKxAEp1",
    "executionInfo": {
     "status": "ok",
     "timestamp": 1686697437721,
     "user_tz": -180,
     "elapsed": 334,
     "user": {
      "displayName": "Alexey Akulov",
      "userId": "01094635187180112136"
     }
    },
    "outputId": "12bc145f-0ba1-41ea-dfc8-25b302ef2446",
    "ExecuteTime": {
     "end_time": "2023-10-14T00:00:13.591996Z",
     "start_time": "2023-10-14T00:00:13.585396Z"
    }
   },
   "execution_count": 89,
   "outputs": [
    {
     "data": {
      "text/plain": "(8000, 2)"
     },
     "execution_count": 89,
     "metadata": {},
     "output_type": "execute_result"
    }
   ]
  },
  {
   "cell_type": "code",
   "source": [
    "k_means_tsne = KMeans(random_state=21, n_clusters=10)\n",
    "\n",
    "k_means_tsne.fit(train_tsne)\n",
    "labels_tsne = k_means_tsne.labels_"
   ],
   "metadata": {
    "id": "wnQMjmFh-_P1",
    "executionInfo": {
     "status": "ok",
     "timestamp": 1686697728453,
     "user_tz": -180,
     "elapsed": 342,
     "user": {
      "displayName": "Alexey Akulov",
      "userId": "01094635187180112136"
     }
    },
    "ExecuteTime": {
     "end_time": "2023-10-14T00:00:13.680679Z",
     "start_time": "2023-10-14T00:00:13.592209Z"
    }
   },
   "execution_count": 90,
   "outputs": []
  },
  {
   "cell_type": "markdown",
   "source": [
    "Дальше повторяем все также, как делали до этого"
   ],
   "metadata": {
    "id": "vtHFQzZB_Yrw"
   }
  },
  {
   "cell_type": "code",
   "source": [
    "labels_compare_tsne = pd.DataFrame({'kmean_label' : labels_tsne, 'correct_label' : y_train})\n",
    "labels_compare_tsne.sample(5)"
   ],
   "metadata": {
    "colab": {
     "base_uri": "https://localhost:8080/",
     "height": 206
    },
    "executionInfo": {
     "status": "ok",
     "timestamp": 1686697734599,
     "user_tz": -180,
     "elapsed": 350,
     "user": {
      "displayName": "Alexey Akulov",
      "userId": "01094635187180112136"
     }
    },
    "outputId": "b27f10a4-e601-4ded-da2a-98e376ea7672",
    "id": "pds4ZqrY_Y1X",
    "ExecuteTime": {
     "end_time": "2023-10-14T00:00:13.695426Z",
     "start_time": "2023-10-14T00:00:13.686694Z"
    }
   },
   "execution_count": 91,
   "outputs": [
    {
     "data": {
      "text/plain": "      kmean_label  correct_label\n4386            0              9\n3775            5              6\n5367            7              1\n3342            2              1\n566             0              7",
      "text/html": "<div>\n<style scoped>\n    .dataframe tbody tr th:only-of-type {\n        vertical-align: middle;\n    }\n\n    .dataframe tbody tr th {\n        vertical-align: top;\n    }\n\n    .dataframe thead th {\n        text-align: right;\n    }\n</style>\n<table border=\"1\" class=\"dataframe\">\n  <thead>\n    <tr style=\"text-align: right;\">\n      <th></th>\n      <th>kmean_label</th>\n      <th>correct_label</th>\n    </tr>\n  </thead>\n  <tbody>\n    <tr>\n      <th>4386</th>\n      <td>0</td>\n      <td>9</td>\n    </tr>\n    <tr>\n      <th>3775</th>\n      <td>5</td>\n      <td>6</td>\n    </tr>\n    <tr>\n      <th>5367</th>\n      <td>7</td>\n      <td>1</td>\n    </tr>\n    <tr>\n      <th>3342</th>\n      <td>2</td>\n      <td>1</td>\n    </tr>\n    <tr>\n      <th>566</th>\n      <td>0</td>\n      <td>7</td>\n    </tr>\n  </tbody>\n</table>\n</div>"
     },
     "execution_count": 91,
     "metadata": {},
     "output_type": "execute_result"
    }
   ]
  },
  {
   "cell_type": "code",
   "source": [
    "taken_labels_tsne = labels_compare_tsne.groupby('kmean_label').agg(pd.Series.mode)\n",
    "taken_labels_tsne"
   ],
   "metadata": {
    "colab": {
     "base_uri": "https://localhost:8080/",
     "height": 394
    },
    "executionInfo": {
     "status": "ok",
     "timestamp": 1686697742061,
     "user_tz": -180,
     "elapsed": 348,
     "user": {
      "displayName": "Alexey Akulov",
      "userId": "01094635187180112136"
     }
    },
    "outputId": "05d5c33e-90c7-4a16-ffd7-a81b36ef6b70",
    "id": "Fp-nkREp_Y1Y",
    "ExecuteTime": {
     "end_time": "2023-10-14T00:00:13.715961Z",
     "start_time": "2023-10-14T00:00:13.693170Z"
    }
   },
   "execution_count": 92,
   "outputs": [
    {
     "data": {
      "text/plain": "             correct_label\nkmean_label               \n0                        7\n1                        0\n2                        1\n3                        9\n4                        3\n5                        6\n6                        5\n7                        2\n8                        8\n9                        4",
      "text/html": "<div>\n<style scoped>\n    .dataframe tbody tr th:only-of-type {\n        vertical-align: middle;\n    }\n\n    .dataframe tbody tr th {\n        vertical-align: top;\n    }\n\n    .dataframe thead th {\n        text-align: right;\n    }\n</style>\n<table border=\"1\" class=\"dataframe\">\n  <thead>\n    <tr style=\"text-align: right;\">\n      <th></th>\n      <th>correct_label</th>\n    </tr>\n    <tr>\n      <th>kmean_label</th>\n      <th></th>\n    </tr>\n  </thead>\n  <tbody>\n    <tr>\n      <th>0</th>\n      <td>7</td>\n    </tr>\n    <tr>\n      <th>1</th>\n      <td>0</td>\n    </tr>\n    <tr>\n      <th>2</th>\n      <td>1</td>\n    </tr>\n    <tr>\n      <th>3</th>\n      <td>9</td>\n    </tr>\n    <tr>\n      <th>4</th>\n      <td>3</td>\n    </tr>\n    <tr>\n      <th>5</th>\n      <td>6</td>\n    </tr>\n    <tr>\n      <th>6</th>\n      <td>5</td>\n    </tr>\n    <tr>\n      <th>7</th>\n      <td>2</td>\n    </tr>\n    <tr>\n      <th>8</th>\n      <td>8</td>\n    </tr>\n    <tr>\n      <th>9</th>\n      <td>4</td>\n    </tr>\n  </tbody>\n</table>\n</div>"
     },
     "execution_count": 92,
     "metadata": {},
     "output_type": "execute_result"
    }
   ]
  },
  {
   "cell_type": "code",
   "source": [
    "correct_labels_tsne = []\n",
    "for i in range(10):\n",
    "  correct_labels_tsne.append(taken_labels_tsne.at[i, 'correct_label'])\n",
    "correct_labels_tsne"
   ],
   "metadata": {
    "colab": {
     "base_uri": "https://localhost:8080/"
    },
    "executionInfo": {
     "status": "ok",
     "timestamp": 1686697752787,
     "user_tz": -180,
     "elapsed": 383,
     "user": {
      "displayName": "Alexey Akulov",
      "userId": "01094635187180112136"
     }
    },
    "outputId": "e2cb05d5-2b1c-4605-c9bd-0364d683aeaf",
    "id": "b8366ZT0_Y1Z",
    "ExecuteTime": {
     "end_time": "2023-10-14T00:00:13.716545Z",
     "start_time": "2023-10-14T00:00:13.708115Z"
    }
   },
   "execution_count": 93,
   "outputs": [
    {
     "data": {
      "text/plain": "[7, 0, 1, 9, 3, 6, 5, 2, 8, 4]"
     },
     "execution_count": 93,
     "metadata": {},
     "output_type": "execute_result"
    }
   ]
  },
  {
   "cell_type": "markdown",
   "source": [
    "Вычислите точность модели на тренировчных данных."
   ],
   "metadata": {
    "id": "2UwbcgaMbH_1"
   }
  },
  {
   "cell_type": "code",
   "source": [
    "true_kmean_labels_tsne = [correct_labels_tsne[i] for i in labels_tsne]\n",
    "\n",
    "accuracy_score(y_train, true_kmean_labels_tsne)"
   ],
   "metadata": {
    "colab": {
     "base_uri": "https://localhost:8080/"
    },
    "executionInfo": {
     "status": "ok",
     "timestamp": 1686697773582,
     "user_tz": -180,
     "elapsed": 380,
     "user": {
      "displayName": "Alexey Akulov",
      "userId": "01094635187180112136"
     }
    },
    "outputId": "5c7b004e-bee5-49f5-937d-f03649bd4a85",
    "id": "QJOfJjxgAg3s",
    "ExecuteTime": {
     "end_time": "2023-10-14T00:00:13.806850Z",
     "start_time": "2023-10-14T00:00:13.714870Z"
    }
   },
   "execution_count": 94,
   "outputs": [
    {
     "data": {
      "text/plain": "0.8245"
     },
     "execution_count": 94,
     "metadata": {},
     "output_type": "execute_result"
    }
   ]
  },
  {
   "cell_type": "markdown",
   "source": [
    "Проблема, однако, известна. t-SNE — метод, который не дает правила получения проекций многомерного пространства на, например, двумерное. Тем самым, при появлении новых данных, проекции придется искать заново.\n",
    "\n",
    "В то же время, еще раз хочется подчеркнуть, как обучение без учителя позволило построить классификатор, который, как будто бы, является результатом решения задачи обучения с учителем."
   ],
   "metadata": {
    "id": "H_egb1zVKbaU"
   }
  },
  {
   "cell_type": "markdown",
   "source": [
    "Интересно отметить, что мы построили классификатор на основе кластеризации при том, что никакими «правильными ответами» мы не пользовались (разве что для оценки)."
   ],
   "metadata": {
    "id": "TI90b-KbL3WV",
    "pycharm": {
     "name": "#%% md\n"
    }
   }
  },
  {
   "cell_type": "markdown",
   "source": [
    "А сколько кластеров кажется оптимальным количеством, если использовать каменистую осыпь? Постройте график каменистой осыпи для числа кластеров от $7$ до $16$. Можно ли уверенно определить оптимальное число кластеров?"
   ],
   "metadata": {
    "id": "FPapZrhaOQNx",
    "pycharm": {
     "name": "#%% md\n"
    }
   }
  },
  {
   "cell_type": "code",
   "source": [
    "# список для хранения сумм квадратов расстояний от каждой точки до центра ее кластера\n",
    "wcss = []\n",
    "\n",
    "for i in range(7, 17):\n",
    "    kmeans = KMeans(random_state=7, n_clusters=i)\n",
    "    kmeans.fit(x_train)\n",
    "    wcss.append(kmeans.inertia_)"
   ],
   "metadata": {
    "id": "i74oNTK9Ok-y",
    "pycharm": {
     "name": "#%%\n"
    },
    "executionInfo": {
     "status": "ok",
     "timestamp": 1686699402785,
     "user_tz": -180,
     "elapsed": 143124,
     "user": {
      "displayName": "Alexey Akulov",
      "userId": "01094635187180112136"
     }
    },
    "ExecuteTime": {
     "end_time": "2023-10-14T00:01:05.651201Z",
     "start_time": "2023-10-14T00:00:13.721908Z"
    }
   },
   "execution_count": 95,
   "outputs": []
  },
  {
   "cell_type": "code",
   "source": [
    "plt.plot(range(7, 17), wcss)\n",
    "plt.title('Elbow Method')\n",
    "plt.xlabel('Number of clusters')\n",
    "plt.ylabel('WCSS')"
   ],
   "metadata": {
    "colab": {
     "base_uri": "https://localhost:8080/",
     "height": 489
    },
    "id": "9V5JjEkeHCVG",
    "executionInfo": {
     "status": "ok",
     "timestamp": 1686700039067,
     "user_tz": -180,
     "elapsed": 459,
     "user": {
      "displayName": "Alexey Akulov",
      "userId": "01094635187180112136"
     }
    },
    "outputId": "dfe84dc6-b217-49d0-e814-26b3a8048884",
    "ExecuteTime": {
     "end_time": "2023-10-14T00:01:05.753055Z",
     "start_time": "2023-10-14T00:01:05.661349Z"
    }
   },
   "execution_count": 96,
   "outputs": [
    {
     "data": {
      "text/plain": "Text(0, 0.5, 'WCSS')"
     },
     "execution_count": 96,
     "metadata": {},
     "output_type": "execute_result"
    },
    {
     "data": {
      "text/plain": "<Figure size 432x288 with 1 Axes>",
      "image/png": "[encoded data removed]"
     },
     "metadata": {
      "needs_background": "light"
     },
     "output_type": "display_data"
    }
   ]
  },
  {
   "cell_type": "markdown",
   "source": [
    "Все эти обучения черезчур уж долгие. Давайте сделаем «ход конем» и понизим размерность данных, пытаясь сохранять расстояния между объектами. Посмотрим, как это скажется на скорости и точности.\n",
    "\n",
    "Преобразуйте <b>тренировочный набор</b> данных при помощи метода <a href=\"https://scikit-learn.org/stable/modules/generated/sklearn.manifold.TSNE.html\"><code>TSNE</code></a> из библиотеки <code>sklearn</code>. Используйте параметры, указанные в вашем задании."
   ],
   "metadata": {
    "id": "cPTS3BeQS2Fj",
    "pycharm": {
     "name": "#%% md\n"
    }
   }
  },
  {
   "cell_type": "code",
   "source": [
    "# < ENTER YOUR CODE HERE >"
   ],
   "metadata": {
    "id": "8xmShbevTILq",
    "pycharm": {
     "name": "#%%\n"
    },
    "ExecuteTime": {
     "end_time": "2023-10-14T00:01:05.753252Z",
     "start_time": "2023-10-14T00:01:05.726054Z"
    }
   },
   "execution_count": 97,
   "outputs": []
  },
  {
   "cell_type": "markdown",
   "source": [
    "Произведите кластеризацию полученного набора данных при помощи <code>KMeans</code> с параметрами, указанными в вашем задании. Аналогично проделанному раньше переназначьте метки кластеров на основе метки большинства объектов в рамках кластера. Оцените точность модели на <b>тренировочных данных</b>."
   ],
   "metadata": {
    "id": "Od5ESMz1dNXv"
   }
  },
  {
   "cell_type": "code",
   "source": [
    "# < ENTER YOUR CODE HERE >"
   ],
   "metadata": {
    "id": "4qpZi15-THR-",
    "pycharm": {
     "name": "#%%\n"
    },
    "ExecuteTime": {
     "end_time": "2023-10-14T00:01:05.753308Z",
     "start_time": "2023-10-14T00:01:05.729509Z"
    }
   },
   "execution_count": 98,
   "outputs": []
  }
 ]
}
