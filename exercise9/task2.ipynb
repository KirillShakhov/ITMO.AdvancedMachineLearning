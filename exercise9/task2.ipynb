{
 "cells": [
  {
   "cell_type": "markdown",
   "metadata": {
    "id": "q9QLe_T6GZUd"
   },
   "source": [
    "# Задание на программирование"
   ]
  },
  {
   "cell_type": "markdown",
   "metadata": {
    "id": "EYlIf2yHv8hz"
   },
   "source": [
    "**Выполнять задание следует с текущими значениями гиперпараметров. Для проверки ниже будут приведены ответы, которые должны получиться в результате выполнения задания. После того, как все ответы совпадут, можно будет использовать полученный блокнот для выполнения индивидуального задания.**"
   ]
  },
  {
   "cell_type": "markdown",
   "metadata": {
    "id": "ZDQzNIZXAoFE"
   },
   "source": [
    "Зададим гиперпараметры модели"
   ]
  },
  {
   "cell_type": "code",
   "execution_count": 77,
   "metadata": {
    "id": "NOMw2ZbOAmOZ",
    "ExecuteTime": {
     "end_time": "2023-10-13T21:37:49.741944Z",
     "start_time": "2023-10-13T21:37:49.714331Z"
    }
   },
   "outputs": [],
   "source": [
    "epsilon = 0.05 # Параметр эпсилон при использовании эпсилон жадной стратегии\n",
    "gamma = 0.9 # Коэффциент дисконтирования гамма\n",
    "random_seed = 6 #Random seed\n",
    "time_delay = 1 # Задержка времени при отрисовке процесса игры после обучения (секунды)\n",
    "lr_rate = 0.9 #Коэффициент скорости обучения альфа"
   ]
  },
  {
   "cell_type": "markdown",
   "metadata": {
    "id": "pQu5IYHX8jId"
   },
   "source": [
    "Импортируем библиотеки, создаем свою среду размера 6х6. S обозначает точку старта. F -- лед безопасен, H -- проталина, G -- цель. Параметр `is_slippery=False` отвечает за условное отсутствие скольжения. То есть если агент выбрал действие пойти направо, то он переместится в соответствующее состояние. В общем случае из-за \"скольжения\" можно оказаться в другом состоянии. Мы также скопировали из библиотки GYM и слегка модифицировали функцию ```generate_random_map ```, для того, чтобы генерировать произвольные карты на основе ```random_seed ```.\n",
    "\n",
    "\n",
    "\n"
   ]
  },
  {
   "cell_type": "code",
   "execution_count": 78,
   "metadata": {
    "id": "M2G81i4_lOQE",
    "ExecuteTime": {
     "end_time": "2023-10-13T21:37:50.526325Z",
     "start_time": "2023-10-13T21:37:49.724046Z"
    }
   },
   "outputs": [
    {
     "name": "stdout",
     "output_type": "stream",
     "text": [
      "fatal: could not create work tree dir 'gym_0_18_0': No such file or directory\r\n",
      "[Errno 2] No such file or directory: 'gym_0_18_0'\n",
      "/Users/kirill/PycharmProjects/advanced-ml-python-deep-learning/exercise9/gym_0_18_0/gym_0_18_0/gym_0_18_0\n",
      "The folder you are executing pip from can no longer be found.\r\n",
      "Traceback (most recent call last):\r\n",
      "  File \"/opt/homebrew/Cellar/python@3.9/3.9.18/Frameworks/Python.framework/Versions/3.9/lib/python3.9/runpy.py\", line 197, in _run_module_as_main\r\n",
      "    return _run_code(code, main_globals, None,\r\n",
      "  File \"/opt/homebrew/Cellar/python@3.9/3.9.18/Frameworks/Python.framework/Versions/3.9/lib/python3.9/runpy.py\", line 87, in _run_code\r\n",
      "    exec(code, run_globals)\r\n",
      "  File \"/opt/homebrew/lib/python3.9/site-packages/pip/__main__.py\", line 8, in <module>\r\n",
      "    if sys.path[0] in (\"\", os.getcwd()):\r\n",
      "FileNotFoundError: [Errno 2] No such file or directory\r\n",
      "Note: you may need to restart the kernel to use updated packages.\n",
      "Traceback (most recent call last):\r\n",
      "  File \"/opt/homebrew/Cellar/python@3.9/3.9.18/Frameworks/Python.framework/Versions/3.9/lib/python3.9/runpy.py\", line 197, in _run_module_as_main\r\n",
      "    return _run_code(code, main_globals, None,\r\n",
      "  File \"/opt/homebrew/Cellar/python@3.9/3.9.18/Frameworks/Python.framework/Versions/3.9/lib/python3.9/runpy.py\", line 87, in _run_code\r\n",
      "    exec(code, run_globals)\r\n",
      "  File \"/opt/homebrew/lib/python3.9/site-packages/pip/__main__.py\", line 8, in <module>\r\n",
      "    if sys.path[0] in (\"\", os.getcwd()):\r\n",
      "FileNotFoundError: [Errno 2] No such file or directory\r\n",
      "Note: you may need to restart the kernel to use updated packages.\n"
     ]
    }
   ],
   "source": [
    "# Установим нужную версию библиотеки gym\n",
    "!git clone https://github.com/dvolchek/gym_0_18_0.git -q\n",
    "%cd gym_0_18_0\n",
    "!pip install -e. -q\n",
    "%pip install scipy\n",
    "%pip install matplotlib"
   ]
  },
  {
   "cell_type": "code",
   "execution_count": 79,
   "metadata": {
    "colab": {
     "base_uri": "https://localhost:8080/",
     "height": 153
    },
    "id": "awL7CCCwD6C3",
    "outputId": "5b2d42db-dc19-4cef-f753-805b8b6be9c3",
    "ExecuteTime": {
     "end_time": "2023-10-13T21:37:50.537656Z",
     "start_time": "2023-10-13T21:37:50.534243Z"
    }
   },
   "outputs": [
    {
     "name": "stdout",
     "output_type": "stream",
     "text": [
      "Ваша карта\n",
      "\n",
      "\u001B[41mS\u001B[0mFHFFF\n",
      "FFFFFF\n",
      "FFFHHF\n",
      "HHFFHF\n",
      "FFFHFF\n",
      "FHFFFG\n"
     ]
    }
   ],
   "source": [
    "import gym\n",
    "import numpy as np\n",
    "import time\n",
    "from IPython.display import clear_output\n",
    "\n",
    "\n",
    "def generate_random_map(size, p, sd):\n",
    "    \"\"\"Generates a random valid map (one that has a path from start to goal)\n",
    "    :param size: size of each side of the grid\n",
    "    :param p: probability that a tile is frozen\n",
    "    \"\"\"\n",
    "    valid = False\n",
    "    np.random.seed(sd)\n",
    "\n",
    "    # DFS to check that it's a valid path.\n",
    "    def is_valid(res):\n",
    "        frontier, discovered = [], set()\n",
    "        frontier.append((0,0))\n",
    "        while frontier:\n",
    "            r, c = frontier.pop()\n",
    "            if not (r,c) in discovered:\n",
    "                discovered.add((r,c))\n",
    "                directions = [(1, 0), (0, 1), (-1, 0), (0, -1)]\n",
    "                for x, y in directions:\n",
    "                    r_new = r + x\n",
    "                    c_new = c + y\n",
    "                    if r_new < 0 or r_new >= size or c_new < 0 or c_new >= size:\n",
    "                        continue\n",
    "                    if res[r_new][c_new] == 'G':\n",
    "                        return True\n",
    "                    if (res[r_new][c_new] not in '#H'):\n",
    "                        frontier.append((r_new, c_new))\n",
    "        return False\n",
    "\n",
    "    while not valid:\n",
    "        p = min(1, p)\n",
    "        res = np.random.choice(['F', 'H'], (size, size), p=[p, 1-p])\n",
    "        res[0][0] = 'S'\n",
    "        res[-1][-1] = 'G'\n",
    "        valid = is_valid(res)\n",
    "    return [\"\".join(x) for x in res]\n",
    "\n",
    "#Генерация карты\n",
    "random_map = generate_random_map(size=6, p=0.8, sd = random_seed) #Создаем свою карту\n",
    "env = gym.make(\"FrozenLake-v0\", desc=random_map, is_slippery=False) #Инициализируем среду\n",
    "print(\"Ваша карта\")\n",
    "env.render() #Выводим карту на экран"
   ]
  },
  {
   "cell_type": "markdown",
   "metadata": {
    "id": "MDCexoEU9a_c"
   },
   "source": [
    "Функции выбора действия и обновления таблицы ценности действий. Строчка *** используется для того, чтобы проверять ответы в openedx. Вне рамках академической задачи лучше использовать оригинальный метод класса `environment`, то есть:\n",
    "\n",
    "`action = env.action_space.sample()`"
   ]
  },
  {
   "cell_type": "markdown",
   "metadata": {
    "id": "D5TbDqn6G_Pt"
   },
   "source": [
    "# Задача 1\n",
    "Дополните функцию ```learn()```, чтобы в результате ее вызова обновлялось значение ценности текущего действия согласно алгоритму Q-обучения\n",
    "\n"
   ]
  },
  {
   "cell_type": "code",
   "execution_count": 80,
   "metadata": {
    "id": "CdQBpxaTOK7u",
    "ExecuteTime": {
     "end_time": "2023-10-13T21:37:50.541096Z",
     "start_time": "2023-10-13T21:37:50.539196Z"
    }
   },
   "outputs": [],
   "source": [
    "def choose_action(state):\n",
    "    action=0\n",
    "    if np.random.uniform(0, 1) < epsilon:\n",
    "        action = np.random.randint(0,env.action_space.n) #***\n",
    "    else:\n",
    "        action = np.random.choice(np.array(np.argwhere(Q[state, :] == np.amax(Q[state, :])).flatten().tolist()))\n",
    "    return action\n",
    "\n",
    "def learn(state, state2, reward, action, done):\n",
    "    # Вычисляем максимальное значение Q для нового состояния state2\n",
    "    # max_q = np.max(Q[state2, :])\n",
    "    \n",
    "    # Обновляем значение Q-функции для текущей пары состояние-действие\n",
    "    # Q[state, action] = (1 - lr_rate) * Q[state, action] + lr_rate * (reward + gamma * max_q)\n",
    "    Q[state, action] = Q[state, action] + lr_rate * (reward + gamma * np.max(Q[state2,:]) - Q[state, action])\n"
   ]
  },
  {
   "cell_type": "markdown",
   "metadata": {
    "id": "7COGeyA_Ist3"
   },
   "source": [
    "# Задача 2\n",
    "Дополните следующий код так, чтобы в результате обучения модели можно было узнать количество побед и номер игры (`game`), на котором агент впервые одержал пятую победу подряд."
   ]
  },
  {
   "cell_type": "markdown",
   "metadata": {
    "id": "0adDl7NvJoQP"
   },
   "source": [
    "Поясним, что возвращает функция ```env.step(action)```\n",
    "\n",
    "```state2``` -- следующее состояние\n",
    "\n",
    "```reward``` -- награда\n",
    "\n",
    "```done``` -- флаг окончания игры. True в случае победы или падения в проталину. False в остальных случаях.\n",
    "\n",
    "\n"
   ]
  },
  {
   "cell_type": "code",
   "execution_count": 81,
   "metadata": {
    "colab": {
     "base_uri": "https://localhost:8080/",
     "height": 34
    },
    "id": "aq92-dWiOchF",
    "outputId": "91ec4dc4-fb39-4818-ac78-79c9fe6d0ee7",
    "ExecuteTime": {
     "end_time": "2023-10-13T21:37:52.613940Z",
     "start_time": "2023-10-13T21:37:50.544799Z"
    }
   },
   "outputs": [
    {
     "name": "stderr",
     "output_type": "stream",
     "text": [
      "100%|██████████| 10000/10000 [00:02<00:00, 4841.59it/s]\n"
     ]
    }
   ],
   "source": [
    "from tqdm import tqdm\n",
    "\n",
    "# Inititalization\n",
    "np.random.seed(random_seed)\n",
    "total_games = 10000\n",
    "max_steps = 100\n",
    "Q = np.zeros((env.observation_space.n, env.action_space.n))\n",
    "wins_in_a_row = 0\n",
    "total_wins = 0\n",
    "game_of_fifth_win = None\n",
    "\n",
    "# Main cycle\n",
    "for game in tqdm(range(total_games)):\n",
    "    state = env.reset()\n",
    "    t = 0\n",
    "    while t < max_steps:\n",
    "        t += 1\n",
    "        action = choose_action(state)\n",
    "        state2, reward, done, info = env.step(action)\n",
    "        if t == max_steps:\n",
    "            done = True\n",
    "        learn(state, state2, reward, action, done)\n",
    "        state = state2\n",
    "        if done:\n",
    "            if reward > 0:  # if it's a win\n",
    "                total_wins += 1\n",
    "                wins_in_a_row += 1\n",
    "                if wins_in_a_row == 5 and game_of_fifth_win is None:\n",
    "                    game_of_fifth_win = game + 1\n",
    "            else:\n",
    "                wins_in_a_row = 0  # reset the wins in a row counter if the agent didn't win\n",
    "            break"
   ]
  },
  {
   "cell_type": "markdown",
   "metadata": {
    "id": "JFuxsqdRLOS9"
   },
   "source": [
    "Вывод ответов при заданных параметрах"
   ]
  },
  {
   "cell_type": "code",
   "execution_count": 82,
   "metadata": {
    "id": "xZbJtFnhLa7w",
    "ExecuteTime": {
     "end_time": "2023-10-13T21:37:52.616555Z",
     "start_time": "2023-10-13T21:37:52.614204Z"
    }
   },
   "outputs": [
    {
     "name": "stdout",
     "output_type": "stream",
     "text": [
      "Количество побед в серии из 10 000 игр:  2526\n",
      "Пять побед подряд впервые было одержано в игре  7309\n"
     ]
    }
   ],
   "source": [
    "print(\"Количество побед в серии из 10 000 игр: \", total_wins)\n",
    "print(\"Пять побед подряд впервые было одержано в игре \", game_of_fifth_win)\n"
   ]
  },
  {
   "cell_type": "markdown",
   "metadata": {
    "id": "TSXdSiG2WI71"
   },
   "source": [
    "Должны получиться следующие результаты.\n",
    "\n",
    "\n",
    "*  Количество побед в серии из 10 000 игр:  7914\n",
    "*  Пять побед подряд впервые было одержано в игре  885\n",
    "\n",
    "\n"
   ]
  },
  {
   "cell_type": "markdown",
   "metadata": {
    "id": "nazZaAbwQGBt"
   },
   "source": [
    "Произведем одну игру, чтобы проследить за действиями агента. При этом будем считать модель полностью обученной, то есть действия выбираются жадно, значения ценностей действий в таблице не обновляются."
   ]
  },
  {
   "cell_type": "code",
   "execution_count": 83,
   "metadata": {
    "colab": {
     "base_uri": "https://localhost:8080/",
     "height": 34
    },
    "id": "5ysllZjEQXLa",
    "outputId": "29ec2e79-a0d5-4fcb-a551-6209d40dd7ee"
   },
   "outputs": [
    {
     "name": "stdout",
     "output_type": "stream",
     "text": [
      "Победа!\n"
     ]
    }
   ],
   "source": [
    "import time\n",
    "#Жадный выбор действий\n",
    "def choose_action_one_game(state):\n",
    "    action = np.random.choice(np.array(np.argwhere(Q[state, :] == np.amax(Q[state, :])).flatten().tolist()))\n",
    "    return action\n",
    "\n",
    "states=[]#Массив для сохранения состояний агента в течение игры\n",
    "t = 0\n",
    "state = env.reset()\n",
    "wn = 0\n",
    "while(t<100):\n",
    "    env.render()\n",
    "    time.sleep(time_delay)\n",
    "    clear_output(wait=True)\n",
    "    action = choose_action_one_game(state)\n",
    "    state2, reward, done, info = env.step(action)\n",
    "    states.append(state)\n",
    "    state = state2\n",
    "    t += 1\n",
    "    if done and reward == 1:\n",
    "        wn=1\n",
    "    if done:\n",
    "        break\n",
    "if wn == 1:\n",
    "    print(\"Победа!\")"
   ]
  },
  {
   "cell_type": "markdown",
   "metadata": {
    "id": "x696NulpReFI"
   },
   "source": [
    "Отобразим маршрут"
   ]
  },
  {
   "cell_type": "code",
   "execution_count": 84,
   "metadata": {
    "colab": {
     "base_uri": "https://localhost:8080/",
     "height": 314
    },
    "id": "UKMCMdpOTcXy",
    "outputId": "bd9a32aa-b615-407f-bb4b-9a2ae654df4f",
    "ExecuteTime": {
     "end_time": "2023-10-13T21:38:02.837292Z",
     "start_time": "2023-10-13T21:38:02.698415Z"
    }
   },
   "outputs": [
    {
     "data": {
      "text/plain": "<matplotlib.image.AxesImage at 0x16b40c970>"
     },
     "execution_count": 84,
     "metadata": {},
     "output_type": "execute_result"
    },
    {
     "data": {
      "text/plain": "<Figure size 432x288 with 1 Axes>",
      "image/png": "[encoded data removed]"
     },
     "metadata": {
      "needs_background": "light"
     },
     "output_type": "display_data"
    }
   ],
   "source": [
    "import matplotlib.pyplot as plt\n",
    "\n",
    "def make_maze_pic(maze):\n",
    "    maze_pic=[]\n",
    "    for i in range(len(maze)):\n",
    "        row = []\n",
    "        for j in range(len(maze[i])):\n",
    "            if maze[i][j] == 'S':\n",
    "                row.append(0)\n",
    "            if maze[i][j] == 'F':\n",
    "                row.append(0)\n",
    "            if maze[i][j] == 'H':\n",
    "                row.append(1)\n",
    "            if maze[i][j] == 'G':\n",
    "                row.append(0)\n",
    "        maze_pic.append(row)\n",
    "    maze_pic = np.array(maze_pic)\n",
    "    return maze_pic\n",
    "\n",
    "\n",
    "#Make maze fit to plot\n",
    "maze_pic = make_maze_pic(random_map)\n",
    "nrows, ncols = maze_pic.shape\n",
    "\n",
    "rw = np.remainder(states, nrows)\n",
    "cl = np.floor_divide(states, nrows)\n",
    "\n",
    "if wn == 1:\n",
    "    rw = np.append(rw, [nrows-1])\n",
    "    cl = np.append(cl, [ncols-1])\n",
    "\n",
    "path = list(zip(rw, cl))\n",
    "\n",
    "fig, ax1 = plt.subplots(1, 1, tight_layout=True)\n",
    "ax1.clear()\n",
    "ax1.set_xticks(np.arange(0.5, nrows, step=1))\n",
    "ax1.set_xticklabels([])\n",
    "ax1.set_yticks(np.arange(0.5, ncols, step=1))\n",
    "ax1.set_yticklabels([])\n",
    "ax1.grid(True)\n",
    "ax1.plot([0], [0], \"gs\", markersize=40)\n",
    "ax1.text(0, 0.2, \"Start\", ha=\"center\", va=\"center\", color=\"white\", fontsize=12)\n",
    "ax1.plot([nrows-1], [ncols-1], \"rs\", markersize=40)\n",
    "ax1.text(nrows-1, ncols-1+0.2, \"Finish\", ha=\"center\", va=\"center\", color=\"white\", fontsize=12)\n",
    "ax1.plot(rw, cl, \"bo\")\n",
    "ax1.plot(path[0][0], path[0][1], \"go\", markersize=20)\n",
    "ax1.plot(path[-1][0], path[-1][1], \"ro\", markersize=20)\n",
    "for i in range(len(path)-1):\n",
    "    ax1.plot([path[i][0], path[i+1][0]], [path[i][1], path[i+1][1]], ls='-', color='blue')\n",
    "ax1.set_title('Маршрут последней игры', fontsize=14)\n",
    "ax1.imshow(maze_pic, cmap=\"binary\")"
   ]
  },
  {
   "cell_type": "code",
   "execution_count": 84,
   "outputs": [],
   "source": [],
   "metadata": {
    "collapsed": false,
    "ExecuteTime": {
     "end_time": "2023-10-13T21:38:02.837660Z",
     "start_time": "2023-10-13T21:38:02.823798Z"
    }
   }
  }
 ],
 "metadata": {
  "colab": {
   "provenance": []
  },
  "kernelspec": {
   "name": "python3",
   "language": "python",
   "display_name": "Python 3 (ipykernel)"
  },
  "language_info": {
   "codemirror_mode": {
    "name": "ipython",
    "version": 3
   },
   "file_extension": ".py",
   "mimetype": "text/x-python",
   "name": "python",
   "nbconvert_exporter": "python",
   "pygments_lexer": "ipython3",
   "version": "3.11.5"
  }
 },
 "nbformat": 4,
 "nbformat_minor": 0
}
