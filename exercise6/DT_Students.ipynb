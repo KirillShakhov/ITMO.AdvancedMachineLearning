{
 "cells": [
  {
   "cell_type": "markdown",
   "metadata": {
    "id": "WBsRp9afwB_k"
   },
   "source": [
    "# Классификация при помощи ДПР"
   ]
  },
  {
   "cell_type": "code",
   "execution_count": 71,
   "metadata": {
    "colab": {
     "background_save": true,
     "base_uri": "https://localhost:8080/"
    },
    "executionInfo": {
     "elapsed": 6107,
     "status": "ok",
     "timestamp": 1683019505096,
     "user": {
      "displayName": "Ппп Ппп",
      "userId": "14934001101230122694"
     },
     "user_tz": -180
    },
    "id": "NHi4YzIGxxj_",
    "ExecuteTime": {
     "end_time": "2023-10-14T01:35:58.465749Z",
     "start_time": "2023-10-14T01:35:54.598089Z"
    }
   },
   "outputs": [
    {
     "name": "stdout",
     "output_type": "stream",
     "text": [
      "\u001B[33mDEPRECATION: Configuring installation scheme with distutils config files is deprecated and will no longer work in the near future. If you are using a Homebrew or Linuxbrew Python, please see discussion at https://github.com/Homebrew/homebrew-core/issues/76621\u001B[0m\u001B[33m\r\n",
      "\u001B[0mRequirement already satisfied: imblearn in /opt/homebrew/lib/python3.9/site-packages (0.0)\r\n",
      "Requirement already satisfied: imbalanced-learn in /opt/homebrew/lib/python3.9/site-packages (from imblearn) (0.11.0)\r\n",
      "Requirement already satisfied: numpy>=1.17.3 in /opt/homebrew/lib/python3.9/site-packages (from imbalanced-learn->imblearn) (1.26.0)\r\n",
      "Requirement already satisfied: scipy>=1.5.0 in /opt/homebrew/lib/python3.9/site-packages (from imbalanced-learn->imblearn) (1.11.3)\r\n",
      "Requirement already satisfied: scikit-learn>=1.0.2 in /opt/homebrew/lib/python3.9/site-packages (from imbalanced-learn->imblearn) (1.3.1)\r\n",
      "Requirement already satisfied: joblib>=1.1.1 in /opt/homebrew/lib/python3.9/site-packages (from imbalanced-learn->imblearn) (1.3.2)\r\n",
      "Requirement already satisfied: threadpoolctl>=2.0.0 in /opt/homebrew/lib/python3.9/site-packages (from imbalanced-learn->imblearn) (3.2.0)\r\n",
      "\u001B[33mDEPRECATION: Configuring installation scheme with distutils config files is deprecated and will no longer work in the near future. If you are using a Homebrew or Linuxbrew Python, please see discussion at https://github.com/Homebrew/homebrew-core/issues/76621\u001B[0m\u001B[33m\r\n",
      "\u001B[0mNote: you may need to restart the kernel to use updated packages.\n",
      "1.1 Age, Experience\n",
      "1.2 ZIP Code\n",
      "2.1 23.19625\n",
      "2.2 23.06166\n"
     ]
    },
    {
     "data": {
      "text/plain": "<Figure size 432x288 with 12 Axes>",
      "image/png": "[encoded data removed]"
     },
     "metadata": {
      "needs_background": "light"
     },
     "output_type": "display_data"
    },
    {
     "name": "stdout",
     "output_type": "stream",
     "text": [
      "2.3 83\n",
      "2.4 3917\n",
      "3.1 0.8671328671328671\n",
      "3.2 0.8531468531468531\n",
      "3.3 0.881118881118881\n",
      "3.4 0.881118881118881\n",
      "3.5 0.9112671560804341\n",
      "3.6 2855\n",
      "3.7 0.8421052631578947\n",
      "3.8 0.8289473684210527\n"
     ]
    }
   ],
   "source": [
    "%pip install imblearn\n",
    "from sklearn.tree import DecisionTreeClassifier\n",
    "from sklearn.metrics import f1_score\n",
    "from sklearn.model_selection import train_test_split\n",
    "from imblearn.over_sampling import SMOTE\n",
    "from scipy.stats import zscore\n",
    "import matplotlib.pyplot as plt\n",
    "import pandas as pd\n",
    "\n",
    "df = pd.read_csv('https://courses.openedu.ru/assets/courseware/v1/0c61cf43490f9189f8ddb65a887dcc64/asset-v1:ITMOUniversity+ADVMLDEEPLEARN+fall_2023_ITMO_mag+type@asset+block/Bank_Personal_Loan_Modelling_train.csv')\n",
    "\n",
    "# 1. Разведочный анализ данных\n",
    "\n",
    "df.drop('ID', axis=1, inplace=True)\n",
    "\n",
    "c = df.corr()\n",
    "max_corr = 0\n",
    "max_corr_x = ''\n",
    "max_corr_y = ''\n",
    "for i in range(len(df.columns)):\n",
    "    for j in range(i+1, len(df.columns)):\n",
    "        if (i == j): continue\n",
    "\n",
    "        if (c.loc[df.columns[i]][df.columns[j]] > max_corr):\n",
    "            max_corr = c.loc[df.columns[i]][df.columns[j]]\n",
    "            max_corr_x = df.columns[i]\n",
    "            max_corr_y = df.columns[j]\n",
    "\n",
    "print(f'1.1 {max_corr_x}, {max_corr_y}')\n",
    "print(f'1.2 {c.abs().sum().idxmin()}')\n",
    "df.drop(c.abs().sum().idxmin(), axis=1, inplace=True)\n",
    "\n",
    "# 2. Предварительная подготовка данных\n",
    "# Модификация признаков\n",
    "df['Experience'] -= df['Experience'].min()\n",
    "print(f'2.1 {df[\"Experience\"].mean()}')\n",
    "df['CCAvg'] *= 12\n",
    "print(f'2.2 {df[\"CCAvg\"].mean()}')\n",
    "\n",
    "# Определение выбросов\n",
    "fig, axs = plt.subplots(3, 4)\n",
    "\n",
    "for i, col in enumerate(df.columns):\n",
    "    ax = axs[i // 4][i % 4]\n",
    "    ax.boxplot(df[col], vert=False)\n",
    "    ax.set_title(col)\n",
    "\n",
    "plt.show()\n",
    "\n",
    "# Для 2.3 2.4 по графику можно сделать\n",
    "# 2.3 тупо смотрите какой больше похож\n",
    "# 2.4 максимально растяните окно, и смотрите у кого больше точек.\n",
    "# У меня в 2.4 mortgage\n",
    "print('2.5', (zscore(df['Mortgage']) > 3).sum())\n",
    "df = df[~(zscore(df['Mortgage']) > 3)]\n",
    "print('2.6', len(df))\n",
    "\n",
    "# 3. Построение моделей\n",
    "# Базовый алгоритм\n",
    "x = df.drop('Personal Loan', axis=1)\n",
    "y = df['Personal Loan']\n",
    "x_train, x_test, y_train, y_test = train_test_split(x, y, test_size=0.2, random_state=27, stratify=y)\n",
    "tree = DecisionTreeClassifier(random_state=27, criterion='gini')\n",
    "tree.fit(x_train, y_train)\n",
    "y_pred = tree.predict(x_test)\n",
    "print('3.1', f1_score(y_test, y_pred))\n",
    "\n",
    "tree = DecisionTreeClassifier(random_state=27, criterion='entropy')\n",
    "tree.fit(x_train, y_train)\n",
    "y_pred = tree.predict(x_test)\n",
    "print('3.2', f1_score(y_test, y_pred))\n",
    "\n",
    "tree = DecisionTreeClassifier(random_state=27, criterion='gini', class_weight='balanced')\n",
    "tree.fit(x_train, y_train)\n",
    "y_pred = tree.predict(x_test)\n",
    "print('3.3', f1_score(y_test, y_pred))\n",
    "\n",
    "tree = DecisionTreeClassifier(random_state=27, criterion='entropy', class_weight='balanced')\n",
    "tree.fit(x_train, y_train)\n",
    "y_pred = tree.predict(x_test)\n",
    "print('3.4', f1_score(y_test, y_pred))\n",
    "\n",
    "# Upsampling обучающей выборки\n",
    "\n",
    "print('3.5', y_train.value_counts()[0] / len(y_train))\n",
    "\n",
    "smote = SMOTE(random_state=27)\n",
    "x_train, y_train = smote.fit_resample(x_train, y_train)\n",
    "print('3.6', y_train.value_counts()[1])\n",
    "\n",
    "tree = DecisionTreeClassifier(random_state=27, criterion='gini')\n",
    "tree.fit(x_train, y_train)\n",
    "y_pred = tree.predict(x_test)\n",
    "print('3.7', f1_score(y_test, y_pred))\n",
    "\n",
    "tree = DecisionTreeClassifier(random_state=27, criterion='entropy')\n",
    "tree.fit(x_train, y_train)\n",
    "y_pred = tree.predict(x_test)\n",
    "print('3.8', f1_score(y_test, y_pred))"
   ]
  },
  {
   "cell_type": "markdown",
   "metadata": {
    "id": "tAHDw8MfwMCs"
   },
   "source": [
    "# Описание набора данных"
   ]
  },
  {
   "cell_type": "markdown",
   "metadata": {
    "id": "xIaqzMrkMZq6"
   },
   "source": [
    "В этой лабораторной работе мы рассмотрим разные подходы к задаче классификации, в частности, деревья принятия решений, а также поговорим о том, как бороться с несбалансированностью датасета."
   ]
  },
  {
   "cell_type": "markdown",
   "metadata": {
    "id": "C_ayFAKDMjPs"
   },
   "source": [
    "Изучаемый нами набор данных — это набор данных о принятых предложениях по кредитам в банке **Thera-Bank**. Основные клиенты банка пользуются банком для того, чтобы разместить в нем свои денежные средства, то есть являются вкладчиками. В то же время, большую прибыль банку приносят кредиторы — люди, берущие в банке кредит. Поэтому банк хочет сформировать для своих вкладчиков выгодные предложения по кредиту. Кампания, проведенная банком для вкладчиков в прошлом году, показала, что коэффициент конверсии составил более 9,6%. Это побудило отдел маркетинга разработать кампании с улучшенным целевым маркетингом, чтобы увеличить вероятность успеха при, естественно, минимальном бюджете. Департамент хотел бы разработать классификатор, который поможет им определить потенциальных клиентов, которые с большей вероятностью приобретут кредит. Это повысит вероятность успеха при одновременном снижении стоимости кампании."
   ]
  },
  {
   "cell_type": "markdown",
   "metadata": {
    "id": "o7DY-rDVOGoE"
   },
   "source": [
    "Набор данных содержит как информацию о клиенте, так и информацию о его реакции на кампанию предыдущего года:\n",
    "\n",
    "*   **ID**: ID клиента\n",
    "\n",
    "*   **Age**: Возраст (полных лет)\n",
    "\n",
    "*   **Experience**: Стаж\n",
    "\n",
    "*   **Income**: Годовой доход (в тысячах)\n",
    "\n",
    "*   **Zipcode**: Индекс места проживания\n",
    "\n",
    "*   **Family**: Количество членов семьи\n",
    "\n",
    "*   **CCAvg**: Средние траты в месяц по кредитной карте (в тысячах)\n",
    "\n",
    "*   **Education**: Уровень образования (1: бакалавр, 2: магистр, 3: что-то большее)\n",
    "\n",
    "*   **Mortgage**: Стоимость ипотеки, если имеется (в тысячах)\n",
    "\n",
    "*   **Securities Account**: Наличие счета в ценных бумагах\n",
    "\n",
    "*   **CD Accoun**t: Наличие сертификата на депозит\n",
    "\n",
    "*   **Online**: Использует ли клиент интернет-банкинг\n",
    "\n",
    "*   **CreditCard**: Использует ли клиент кредитную карту, выпущенную данным банком\n",
    "\n",
    "*   **Personal Loan**: Принял ли клиент персональное предложение по кредиту (целевая переменная)"
   ]
  },
  {
   "cell_type": "markdown",
   "metadata": {
    "id": "npoTXkLETgmH"
   },
   "source": [
    "# Разведочный анализ данных"
   ]
  },
  {
   "cell_type": "markdown",
   "metadata": {
    "id": "8JD_Js7sBDX9"
   },
   "source": [
    "Считайте набор данных в датафрейм"
   ]
  },
  {
   "cell_type": "code",
   "execution_count": 72,
   "metadata": {
    "executionInfo": {
     "elapsed": 3041,
     "status": "ok",
     "timestamp": 1682937521275,
     "user": {
      "displayName": "Ппп Ппп",
      "userId": "14934001101230122694"
     },
     "user_tz": -180
    },
    "id": "N-EaF0UkMM--",
    "ExecuteTime": {
     "end_time": "2023-10-14T01:35:58.635154Z",
     "start_time": "2023-10-14T01:35:58.473560Z"
    }
   },
   "outputs": [],
   "source": [
    "import pandas as pd \n",
    "import numpy as np\n",
    "df = pd.read_csv('https://courses.openedu.ru/assets/courseware/v1/dddc0dd9f40894c81c3d3685d3a74f9d/asset-v1:ITMOUniversity+ADVMLDEEPLEARN+fall_2023_ITMO_mag+type@asset+block/Bank_Personal_Loan_Modelling_reserved.csv')"
   ]
  },
  {
   "cell_type": "markdown",
   "metadata": {
    "id": "czPRb3i9OD3E"
   },
   "source": [
    "При помощи метода <code>.describe()</code> изучите набор данных «с высоты птичьего полета»."
   ]
  },
  {
   "cell_type": "code",
   "execution_count": 73,
   "metadata": {
    "colab": {
     "base_uri": "https://localhost:8080/",
     "height": 382
    },
    "executionInfo": {
     "elapsed": 17,
     "status": "ok",
     "timestamp": 1682937542261,
     "user": {
      "displayName": "Ппп Ппп",
      "userId": "14934001101230122694"
     },
     "user_tz": -180
    },
    "id": "obERUrx2MS-_",
    "outputId": "ea34ad14-4a13-43ce-c98d-39f1704da4c6",
    "ExecuteTime": {
     "end_time": "2023-10-14T01:35:58.660866Z",
     "start_time": "2023-10-14T01:35:58.636082Z"
    }
   },
   "outputs": [
    {
     "data": {
      "text/plain": "                ID          Age   Experience       Income      ZIP Code  \\\ncount  1000.000000  1000.000000  1000.000000  1000.000000   1000.000000   \nmean   2511.770000    44.974000    19.738000    74.952000  93136.180000   \nstd    1419.093565    11.356685    11.336572    44.868239   1787.128983   \nmin       5.000000    23.000000    -2.000000     8.000000  90007.000000   \n25%    1277.500000    35.000000    10.000000    41.000000  91908.000000   \n50%    2554.000000    45.000000    20.000000    65.000000  93555.000000   \n75%    3696.750000    55.000000    29.000000   101.000000  94608.000000   \nmax    4995.000000    67.000000    42.000000   205.000000  96150.000000   \n\n            Family        CCAvg    Education     Mortgage  Securities Account  \\\ncount  1000.000000  1000.000000  1000.000000  1000.000000         1000.000000   \nmean      2.455000     2.002470     1.879000    58.621000            0.106000   \nstd       1.138099     1.781398     0.831294   104.332395            0.307992   \nmin       1.000000     0.000000     1.000000     0.000000            0.000000   \n25%       1.000000     0.700000     1.000000     0.000000            0.000000   \n50%       2.000000     1.700000     2.000000     0.000000            0.000000   \n75%       4.000000     2.600000     3.000000   103.000000            0.000000   \nmax       4.000000     9.000000     3.000000   590.000000            1.000000   \n\n        CD Account       Online   CreditCard  \ncount  1000.000000  1000.000000  1000.000000  \nmean      0.056000     0.588000     0.308000  \nstd       0.230037     0.492441     0.461898  \nmin       0.000000     0.000000     0.000000  \n25%       0.000000     0.000000     0.000000  \n50%       0.000000     1.000000     0.000000  \n75%       0.000000     1.000000     1.000000  \nmax       1.000000     1.000000     1.000000  ",
      "text/html": "<div>\n<style scoped>\n    .dataframe tbody tr th:only-of-type {\n        vertical-align: middle;\n    }\n\n    .dataframe tbody tr th {\n        vertical-align: top;\n    }\n\n    .dataframe thead th {\n        text-align: right;\n    }\n</style>\n<table border=\"1\" class=\"dataframe\">\n  <thead>\n    <tr style=\"text-align: right;\">\n      <th></th>\n      <th>ID</th>\n      <th>Age</th>\n      <th>Experience</th>\n      <th>Income</th>\n      <th>ZIP Code</th>\n      <th>Family</th>\n      <th>CCAvg</th>\n      <th>Education</th>\n      <th>Mortgage</th>\n      <th>Securities Account</th>\n      <th>CD Account</th>\n      <th>Online</th>\n      <th>CreditCard</th>\n    </tr>\n  </thead>\n  <tbody>\n    <tr>\n      <th>count</th>\n      <td>1000.000000</td>\n      <td>1000.000000</td>\n      <td>1000.000000</td>\n      <td>1000.000000</td>\n      <td>1000.000000</td>\n      <td>1000.000000</td>\n      <td>1000.000000</td>\n      <td>1000.000000</td>\n      <td>1000.000000</td>\n      <td>1000.000000</td>\n      <td>1000.000000</td>\n      <td>1000.000000</td>\n      <td>1000.000000</td>\n    </tr>\n    <tr>\n      <th>mean</th>\n      <td>2511.770000</td>\n      <td>44.974000</td>\n      <td>19.738000</td>\n      <td>74.952000</td>\n      <td>93136.180000</td>\n      <td>2.455000</td>\n      <td>2.002470</td>\n      <td>1.879000</td>\n      <td>58.621000</td>\n      <td>0.106000</td>\n      <td>0.056000</td>\n      <td>0.588000</td>\n      <td>0.308000</td>\n    </tr>\n    <tr>\n      <th>std</th>\n      <td>1419.093565</td>\n      <td>11.356685</td>\n      <td>11.336572</td>\n      <td>44.868239</td>\n      <td>1787.128983</td>\n      <td>1.138099</td>\n      <td>1.781398</td>\n      <td>0.831294</td>\n      <td>104.332395</td>\n      <td>0.307992</td>\n      <td>0.230037</td>\n      <td>0.492441</td>\n      <td>0.461898</td>\n    </tr>\n    <tr>\n      <th>min</th>\n      <td>5.000000</td>\n      <td>23.000000</td>\n      <td>-2.000000</td>\n      <td>8.000000</td>\n      <td>90007.000000</td>\n      <td>1.000000</td>\n      <td>0.000000</td>\n      <td>1.000000</td>\n      <td>0.000000</td>\n      <td>0.000000</td>\n      <td>0.000000</td>\n      <td>0.000000</td>\n      <td>0.000000</td>\n    </tr>\n    <tr>\n      <th>25%</th>\n      <td>1277.500000</td>\n      <td>35.000000</td>\n      <td>10.000000</td>\n      <td>41.000000</td>\n      <td>91908.000000</td>\n      <td>1.000000</td>\n      <td>0.700000</td>\n      <td>1.000000</td>\n      <td>0.000000</td>\n      <td>0.000000</td>\n      <td>0.000000</td>\n      <td>0.000000</td>\n      <td>0.000000</td>\n    </tr>\n    <tr>\n      <th>50%</th>\n      <td>2554.000000</td>\n      <td>45.000000</td>\n      <td>20.000000</td>\n      <td>65.000000</td>\n      <td>93555.000000</td>\n      <td>2.000000</td>\n      <td>1.700000</td>\n      <td>2.000000</td>\n      <td>0.000000</td>\n      <td>0.000000</td>\n      <td>0.000000</td>\n      <td>1.000000</td>\n      <td>0.000000</td>\n    </tr>\n    <tr>\n      <th>75%</th>\n      <td>3696.750000</td>\n      <td>55.000000</td>\n      <td>29.000000</td>\n      <td>101.000000</td>\n      <td>94608.000000</td>\n      <td>4.000000</td>\n      <td>2.600000</td>\n      <td>3.000000</td>\n      <td>103.000000</td>\n      <td>0.000000</td>\n      <td>0.000000</td>\n      <td>1.000000</td>\n      <td>1.000000</td>\n    </tr>\n    <tr>\n      <th>max</th>\n      <td>4995.000000</td>\n      <td>67.000000</td>\n      <td>42.000000</td>\n      <td>205.000000</td>\n      <td>96150.000000</td>\n      <td>4.000000</td>\n      <td>9.000000</td>\n      <td>3.000000</td>\n      <td>590.000000</td>\n      <td>1.000000</td>\n      <td>1.000000</td>\n      <td>1.000000</td>\n      <td>1.000000</td>\n    </tr>\n  </tbody>\n</table>\n</div>"
     },
     "execution_count": 73,
     "metadata": {},
     "output_type": "execute_result"
    }
   ],
   "source": [
    "df.describe()"
   ]
  },
  {
   "cell_type": "markdown",
   "metadata": {
    "id": "57sZel7LPRzB"
   },
   "source": [
    "Набор данных содержит 14 переменных, 1 из которых является целевой.\n",
    "\n",
    "1 номинальная переменная: **ID**\n",
    "\n",
    "5 числовых переменных: **Age**, **Experience**, **Income**, **CC_Avg**, **Mortgage**\n",
    "\n",
    "3 категориальные переменных: **Family**, **Education**, **Zip_Code**\n",
    "\n",
    "5 булевых переменных: **Personal_Loan**, **Securities Account**, **CD Account**, **Online**, **CreditCard**\n",
    "\n",
    "Пропущенных значений нет.\n",
    "\n",
    "Experience содержит какие-то отрицательные значения"
   ]
  },
  {
   "cell_type": "markdown",
   "metadata": {
    "id": "4Wl4T4lDyKAK"
   },
   "source": [
    "Удалите колонку ID, она нам не понадобится"
   ]
  },
  {
   "cell_type": "code",
   "execution_count": 74,
   "metadata": {
    "executionInfo": {
     "elapsed": 748,
     "status": "ok",
     "timestamp": 1682937616608,
     "user": {
      "displayName": "Ппп Ппп",
      "userId": "14934001101230122694"
     },
     "user_tz": -180
    },
    "id": "B3Wj00WZQiID",
    "ExecuteTime": {
     "end_time": "2023-10-14T01:35:58.673292Z",
     "start_time": "2023-10-14T01:35:58.667319Z"
    }
   },
   "outputs": [],
   "source": [
    "df.drop('ID',axis=1,inplace=True)"
   ]
  },
  {
   "cell_type": "markdown",
   "metadata": {
    "id": "8_S0yiCEQvbC"
   },
   "source": [
    "Имеет смысл попробовать отловить каике-либо зависимости или их отсутствие.\n",
    "\n",
    "Постройте матрицу корреляций"
   ]
  },
  {
   "cell_type": "code",
   "execution_count": 75,
   "metadata": {
    "colab": {
     "base_uri": "https://localhost:8080/",
     "height": 567
    },
    "executionInfo": {
     "elapsed": 2662,
     "status": "ok",
     "timestamp": 1682937693937,
     "user": {
      "displayName": "Ппп Ппп",
      "userId": "14934001101230122694"
     },
     "user_tz": -180
    },
    "id": "JGrHybCnQ0q1",
    "outputId": "9d9ee70b-0367-44e8-9877-e451de37db38",
    "ExecuteTime": {
     "end_time": "2023-10-14T01:35:59.441411Z",
     "start_time": "2023-10-14T01:35:58.674403Z"
    }
   },
   "outputs": [
    {
     "data": {
      "text/plain": "<Axes: >"
     },
     "execution_count": 75,
     "metadata": {},
     "output_type": "execute_result"
    },
    {
     "data": {
      "text/plain": "<Figure size 432x288 with 2 Axes>",
      "image/png": "[encoded data removed]"
     },
     "metadata": {
      "needs_background": "light"
     },
     "output_type": "display_data"
    }
   ],
   "source": [
    "import seaborn as sns \n",
    "sns.heatmap(df.corr())"
   ]
  },
  {
   "cell_type": "code",
   "execution_count": 76,
   "metadata": {
    "colab": {
     "base_uri": "https://localhost:8080/",
     "height": 591
    },
    "executionInfo": {
     "elapsed": 10,
     "status": "ok",
     "timestamp": 1682937720043,
     "user": {
      "displayName": "Ппп Ппп",
      "userId": "14934001101230122694"
     },
     "user_tz": -180
    },
    "id": "bzpq0nHJ55UR",
    "outputId": "cf317fc7-16ec-47b3-ede2-699b965394b0",
    "ExecuteTime": {
     "end_time": "2023-10-14T01:35:59.509515Z",
     "start_time": "2023-10-14T01:35:59.450361Z"
    }
   },
   "outputs": [
    {
     "data": {
      "text/plain": "                         Age  Experience    Income  ZIP Code    Family  \\\nAge                 1.000000    0.994542 -0.087012 -0.021298 -0.095815   \nExperience          0.994542    1.000000 -0.081614 -0.023373 -0.101619   \nIncome             -0.087012   -0.081614  1.000000 -0.020207 -0.164489   \nZIP Code           -0.021298   -0.023373 -0.020207  1.000000  0.040767   \nFamily             -0.095815   -0.101619 -0.164489  0.040767  1.000000   \nCCAvg              -0.094879   -0.094766  0.663867 -0.008338 -0.134115   \nEducation           0.098062    0.072897 -0.168695 -0.006107  0.042380   \nMortgage           -0.047322   -0.048645  0.245410  0.027870 -0.007162   \nSecurities Account -0.005793   -0.006946 -0.034328  0.031064  0.053602   \nCD Account         -0.017451   -0.016247  0.127988  0.081119 -0.005659   \nOnline             -0.041832   -0.039617  0.018857  0.058814  0.006180   \nCreditCard         -0.016791   -0.017645 -0.047876  0.038586  0.014967   \n\n                       CCAvg  Education  Mortgage  Securities Account  \\\nAge                -0.094879   0.098062 -0.047322           -0.005793   \nExperience         -0.094766   0.072897 -0.048645           -0.006946   \nIncome              0.663867  -0.168695  0.245410           -0.034328   \nZIP Code           -0.008338  -0.006107  0.027870            0.031064   \nFamily             -0.134115   0.042380 -0.007162            0.053602   \nCCAvg               1.000000  -0.147143  0.129451           -0.036894   \nEducation          -0.147143   1.000000 -0.052512           -0.000680   \nMortgage            0.129451  -0.052512  1.000000           -0.017346   \nSecurities Account -0.036894  -0.000680 -0.017346            1.000000   \nCD Account          0.102257   0.019766  0.073415            0.283476   \nOnline             -0.002388  -0.002083 -0.059485            0.004435   \nCreditCard         -0.050329   0.008520 -0.025181            0.009513   \n\n                    CD Account    Online  CreditCard  \nAge                  -0.017451 -0.041832   -0.016791  \nExperience           -0.016247 -0.039617   -0.017645  \nIncome                0.127988  0.018857   -0.047876  \nZIP Code              0.081119  0.058814    0.038586  \nFamily               -0.005659  0.006180    0.014967  \nCCAvg                 0.102257 -0.002388   -0.050329  \nEducation             0.019766 -0.002083    0.008520  \nMortgage              0.073415 -0.059485   -0.025181  \nSecurities Account    0.283476  0.004435    0.009513  \nCD Account            1.000000  0.168531    0.270869  \nOnline                0.168531  1.000000   -0.062069  \nCreditCard            0.270869 -0.062069    1.000000  ",
      "text/html": "<div>\n<style scoped>\n    .dataframe tbody tr th:only-of-type {\n        vertical-align: middle;\n    }\n\n    .dataframe tbody tr th {\n        vertical-align: top;\n    }\n\n    .dataframe thead th {\n        text-align: right;\n    }\n</style>\n<table border=\"1\" class=\"dataframe\">\n  <thead>\n    <tr style=\"text-align: right;\">\n      <th></th>\n      <th>Age</th>\n      <th>Experience</th>\n      <th>Income</th>\n      <th>ZIP Code</th>\n      <th>Family</th>\n      <th>CCAvg</th>\n      <th>Education</th>\n      <th>Mortgage</th>\n      <th>Securities Account</th>\n      <th>CD Account</th>\n      <th>Online</th>\n      <th>CreditCard</th>\n    </tr>\n  </thead>\n  <tbody>\n    <tr>\n      <th>Age</th>\n      <td>1.000000</td>\n      <td>0.994542</td>\n      <td>-0.087012</td>\n      <td>-0.021298</td>\n      <td>-0.095815</td>\n      <td>-0.094879</td>\n      <td>0.098062</td>\n      <td>-0.047322</td>\n      <td>-0.005793</td>\n      <td>-0.017451</td>\n      <td>-0.041832</td>\n      <td>-0.016791</td>\n    </tr>\n    <tr>\n      <th>Experience</th>\n      <td>0.994542</td>\n      <td>1.000000</td>\n      <td>-0.081614</td>\n      <td>-0.023373</td>\n      <td>-0.101619</td>\n      <td>-0.094766</td>\n      <td>0.072897</td>\n      <td>-0.048645</td>\n      <td>-0.006946</td>\n      <td>-0.016247</td>\n      <td>-0.039617</td>\n      <td>-0.017645</td>\n    </tr>\n    <tr>\n      <th>Income</th>\n      <td>-0.087012</td>\n      <td>-0.081614</td>\n      <td>1.000000</td>\n      <td>-0.020207</td>\n      <td>-0.164489</td>\n      <td>0.663867</td>\n      <td>-0.168695</td>\n      <td>0.245410</td>\n      <td>-0.034328</td>\n      <td>0.127988</td>\n      <td>0.018857</td>\n      <td>-0.047876</td>\n    </tr>\n    <tr>\n      <th>ZIP Code</th>\n      <td>-0.021298</td>\n      <td>-0.023373</td>\n      <td>-0.020207</td>\n      <td>1.000000</td>\n      <td>0.040767</td>\n      <td>-0.008338</td>\n      <td>-0.006107</td>\n      <td>0.027870</td>\n      <td>0.031064</td>\n      <td>0.081119</td>\n      <td>0.058814</td>\n      <td>0.038586</td>\n    </tr>\n    <tr>\n      <th>Family</th>\n      <td>-0.095815</td>\n      <td>-0.101619</td>\n      <td>-0.164489</td>\n      <td>0.040767</td>\n      <td>1.000000</td>\n      <td>-0.134115</td>\n      <td>0.042380</td>\n      <td>-0.007162</td>\n      <td>0.053602</td>\n      <td>-0.005659</td>\n      <td>0.006180</td>\n      <td>0.014967</td>\n    </tr>\n    <tr>\n      <th>CCAvg</th>\n      <td>-0.094879</td>\n      <td>-0.094766</td>\n      <td>0.663867</td>\n      <td>-0.008338</td>\n      <td>-0.134115</td>\n      <td>1.000000</td>\n      <td>-0.147143</td>\n      <td>0.129451</td>\n      <td>-0.036894</td>\n      <td>0.102257</td>\n      <td>-0.002388</td>\n      <td>-0.050329</td>\n    </tr>\n    <tr>\n      <th>Education</th>\n      <td>0.098062</td>\n      <td>0.072897</td>\n      <td>-0.168695</td>\n      <td>-0.006107</td>\n      <td>0.042380</td>\n      <td>-0.147143</td>\n      <td>1.000000</td>\n      <td>-0.052512</td>\n      <td>-0.000680</td>\n      <td>0.019766</td>\n      <td>-0.002083</td>\n      <td>0.008520</td>\n    </tr>\n    <tr>\n      <th>Mortgage</th>\n      <td>-0.047322</td>\n      <td>-0.048645</td>\n      <td>0.245410</td>\n      <td>0.027870</td>\n      <td>-0.007162</td>\n      <td>0.129451</td>\n      <td>-0.052512</td>\n      <td>1.000000</td>\n      <td>-0.017346</td>\n      <td>0.073415</td>\n      <td>-0.059485</td>\n      <td>-0.025181</td>\n    </tr>\n    <tr>\n      <th>Securities Account</th>\n      <td>-0.005793</td>\n      <td>-0.006946</td>\n      <td>-0.034328</td>\n      <td>0.031064</td>\n      <td>0.053602</td>\n      <td>-0.036894</td>\n      <td>-0.000680</td>\n      <td>-0.017346</td>\n      <td>1.000000</td>\n      <td>0.283476</td>\n      <td>0.004435</td>\n      <td>0.009513</td>\n    </tr>\n    <tr>\n      <th>CD Account</th>\n      <td>-0.017451</td>\n      <td>-0.016247</td>\n      <td>0.127988</td>\n      <td>0.081119</td>\n      <td>-0.005659</td>\n      <td>0.102257</td>\n      <td>0.019766</td>\n      <td>0.073415</td>\n      <td>0.283476</td>\n      <td>1.000000</td>\n      <td>0.168531</td>\n      <td>0.270869</td>\n    </tr>\n    <tr>\n      <th>Online</th>\n      <td>-0.041832</td>\n      <td>-0.039617</td>\n      <td>0.018857</td>\n      <td>0.058814</td>\n      <td>0.006180</td>\n      <td>-0.002388</td>\n      <td>-0.002083</td>\n      <td>-0.059485</td>\n      <td>0.004435</td>\n      <td>0.168531</td>\n      <td>1.000000</td>\n      <td>-0.062069</td>\n    </tr>\n    <tr>\n      <th>CreditCard</th>\n      <td>-0.016791</td>\n      <td>-0.017645</td>\n      <td>-0.047876</td>\n      <td>0.038586</td>\n      <td>0.014967</td>\n      <td>-0.050329</td>\n      <td>0.008520</td>\n      <td>-0.025181</td>\n      <td>0.009513</td>\n      <td>0.270869</td>\n      <td>-0.062069</td>\n      <td>1.000000</td>\n    </tr>\n  </tbody>\n</table>\n</div>"
     },
     "execution_count": 76,
     "metadata": {},
     "output_type": "execute_result"
    }
   ],
   "source": [
    "df.corr()"
   ]
  },
  {
   "cell_type": "markdown",
   "metadata": {
    "id": "33KxJRptS_wP"
   },
   "source": [
    "Определите две наиболее коррелированных переменных"
   ]
  },
  {
   "cell_type": "code",
   "execution_count": 77,
   "metadata": {
    "executionInfo": {
     "elapsed": 617,
     "status": "ok",
     "timestamp": 1682937911239,
     "user": {
      "displayName": "Ппп Ппп",
      "userId": "14934001101230122694"
     },
     "user_tz": -180
    },
    "id": "Xo1LgkW5ysoc",
    "ExecuteTime": {
     "end_time": "2023-10-14T01:35:59.527638Z",
     "start_time": "2023-10-14T01:35:59.479133Z"
    }
   },
   "outputs": [],
   "source": [
    "df.drop('ZIP Code',axis=1,inplace=True)"
   ]
  },
  {
   "cell_type": "markdown",
   "metadata": {
    "id": "MIAngsDe2ppM"
   },
   "source": [
    "Определите признак, который меньше всего коррелирует (можно считать почти не коррелирует) с остальными признаками (в том числе с откликом). Удалите этот признак из рассмотрения.\n",
    "\n",
    "Введите название удаленного признака."
   ]
  },
  {
   "cell_type": "code",
   "execution_count": 78,
   "metadata": {
    "id": "bqOQ1cVk27fb",
    "ExecuteTime": {
     "end_time": "2023-10-14T01:35:59.527784Z",
     "start_time": "2023-10-14T01:35:59.483820Z"
    }
   },
   "outputs": [],
   "source": [
    "# < ENTER YOUR CODE HERE > "
   ]
  },
  {
   "cell_type": "markdown",
   "metadata": {
    "id": "1T2nmzIqTleQ"
   },
   "source": [
    "# Предварительная подготовка данных"
   ]
  },
  {
   "cell_type": "markdown",
   "metadata": {
    "id": "owfKqPFi3JRb"
   },
   "source": [
    "## Модификация признаков"
   ]
  },
  {
   "cell_type": "markdown",
   "metadata": {
    "id": "mKAYY8dmX2v1"
   },
   "source": [
    "Стоит разобраться с полем <code>Experience</code>. Видно, что опыт коррелирует с возрастом. Однако, в поле <code>Experience</code> присутствуют отрицательные значения. Имеет смысл \"сдвинуть\" значения в этой колонке. Добавьте ко всем значениям колонки <code>Experience</code> одно число так, чтобы минимальное значение было равно $0$.\n",
    "\n",
    "Вычислите выборочное среднее колонки <code>Experience</code> после преобразования."
   ]
  },
  {
   "cell_type": "code",
   "execution_count": 79,
   "metadata": {
    "executionInfo": {
     "elapsed": 8,
     "status": "ok",
     "timestamp": 1682938042930,
     "user": {
      "displayName": "Ппп Ппп",
      "userId": "14934001101230122694"
     },
     "user_tz": -180
    },
    "id": "HacXjLu6X_FU",
    "ExecuteTime": {
     "end_time": "2023-10-14T01:35:59.527823Z",
     "start_time": "2023-10-14T01:35:59.488147Z"
    }
   },
   "outputs": [],
   "source": [
    "m = -df['Experience'].min()\n",
    "df['Experience']= df['Experience'].to_numpy()+m\n"
   ]
  },
  {
   "cell_type": "code",
   "execution_count": 80,
   "metadata": {
    "colab": {
     "base_uri": "https://localhost:8080/"
    },
    "executionInfo": {
     "elapsed": 5,
     "status": "ok",
     "timestamp": 1682938060949,
     "user": {
      "displayName": "Ппп Ппп",
      "userId": "14934001101230122694"
     },
     "user_tz": -180
    },
    "id": "jYDn6hyi7Il2",
    "outputId": "63ec6e86-3f02-4540-9707-a3aed3d41e46",
    "ExecuteTime": {
     "end_time": "2023-10-14T01:35:59.528495Z",
     "start_time": "2023-10-14T01:35:59.502546Z"
    }
   },
   "outputs": [
    {
     "data": {
      "text/plain": "21.738"
     },
     "execution_count": 80,
     "metadata": {},
     "output_type": "execute_result"
    }
   ],
   "source": [
    "df['Experience'].mean()"
   ]
  },
  {
   "cell_type": "markdown",
   "metadata": {
    "id": "0CPdKkpIb9Ko"
   },
   "source": [
    "Аналогично имеет смысл модфицировать поле <code>CCAvg</code>. Раз рассматривается годовой доход, то имеет смысл и значения трат рассматривать в рамках года.\n",
    "\n",
    "Вычислите выборочное среднее колонки <code>CCAvg</code> после преобразования."
   ]
  },
  {
   "cell_type": "code",
   "execution_count": 81,
   "metadata": {
    "colab": {
     "base_uri": "https://localhost:8080/"
    },
    "executionInfo": {
     "elapsed": 7,
     "status": "ok",
     "timestamp": 1682938156668,
     "user": {
      "displayName": "Ппп Ппп",
      "userId": "14934001101230122694"
     },
     "user_tz": -180
    },
    "id": "cE_wPGDeb7_J",
    "outputId": "86dada22-f18c-4b96-a77d-eee56b401ca0",
    "ExecuteTime": {
     "end_time": "2023-10-14T01:35:59.529623Z",
     "start_time": "2023-10-14T01:35:59.510128Z"
    }
   },
   "outputs": [
    {
     "data": {
      "text/plain": "24.02964"
     },
     "execution_count": 81,
     "metadata": {},
     "output_type": "execute_result"
    }
   ],
   "source": [
    "df['CCAvg']= df['CCAvg'].to_numpy()*12\n",
    "df['CCAvg'].mean()\n"
   ]
  },
  {
   "cell_type": "markdown",
   "metadata": {
    "id": "sck74wTfdwXF"
   },
   "source": [
    "## Определение выбросов"
   ]
  },
  {
   "cell_type": "markdown",
   "metadata": {
    "id": "_3rpqkJp3xY_"
   },
   "source": [
    "Постройте ящики с усами для всех предикторов. Рекомендуем использовать <code>sns.boxplot()</code>. Определите признак по изображению boxplot из вашего варианта."
   ]
  },
  {
   "cell_type": "code",
   "execution_count": 82,
   "metadata": {
    "colab": {
     "base_uri": "https://localhost:8080/",
     "height": 447
    },
    "executionInfo": {
     "elapsed": 1401,
     "status": "ok",
     "timestamp": 1682939864019,
     "user": {
      "displayName": "Ппп Ппп",
      "userId": "14934001101230122694"
     },
     "user_tz": -180
    },
    "id": "dqDNlzX3oKbT",
    "outputId": "b7edaaf5-d4f7-4827-bdc4-449304177633",
    "ExecuteTime": {
     "end_time": "2023-10-14T01:36:00.107319Z",
     "start_time": "2023-10-14T01:35:59.516968Z"
    }
   },
   "outputs": [
    {
     "data": {
      "text/plain": "<Axes: >"
     },
     "execution_count": 82,
     "metadata": {},
     "output_type": "execute_result"
    },
    {
     "data": {
      "text/plain": "<Figure size 432x288 with 1 Axes>",
      "image/png": "[encoded data removed]"
     },
     "metadata": {
      "needs_background": "light"
     },
     "output_type": "display_data"
    }
   ],
   "source": [
    "sns.boxplot(df)"
   ]
  },
  {
   "cell_type": "code",
   "execution_count": 82,
   "metadata": {
    "id": "WUxIm0uYxwU8",
    "ExecuteTime": {
     "end_time": "2023-10-14T01:36:00.107522Z",
     "start_time": "2023-10-14T01:36:00.098044Z"
    }
   },
   "outputs": [],
   "source": []
  },
  {
   "cell_type": "markdown",
   "metadata": {
    "id": "fv2fr5pLRU54"
   },
   "source": [
    "Определите признак, содержащий наибольшее число выбросов. Введите название этого признака.\n"
   ]
  },
  {
   "cell_type": "code",
   "execution_count": 83,
   "metadata": {
    "colab": {
     "base_uri": "https://localhost:8080/",
     "height": 466
    },
    "executionInfo": {
     "elapsed": 1394,
     "status": "ok",
     "timestamp": 1682939960036,
     "user": {
      "displayName": "Ппп Ппп",
      "userId": "14934001101230122694"
     },
     "user_tz": -180
    },
    "id": "mTJhkJZyzeoy",
    "outputId": "03f9c779-711c-439b-d7a8-d9276ba741f8",
    "ExecuteTime": {
     "end_time": "2023-10-14T01:36:00.431558Z",
     "start_time": "2023-10-14T01:36:00.105864Z"
    }
   },
   "outputs": [
    {
     "data": {
      "text/plain": "<Axes: xlabel='Mortgage', ylabel='Count'>"
     },
     "execution_count": 83,
     "metadata": {},
     "output_type": "execute_result"
    },
    {
     "data": {
      "text/plain": "<Figure size 432x288 with 1 Axes>",
      "image/png": "[encoded data removed]"
     },
     "metadata": {
      "needs_background": "light"
     },
     "output_type": "display_data"
    }
   ],
   "source": [
    "sns.histplot(df['Mortgage'])"
   ]
  },
  {
   "cell_type": "markdown",
   "metadata": {
    "id": "3YYxjhcmzfFB"
   },
   "source": [
    "Имеет смысл поработать с этим признаком, а для этого стоит руководствоваться следующими статистическими соображениями. Если вычесть из данных выборочное среднее, а после поделить на среднеквадратическое отклонение, то, пользуясь правилом 3-$\\sigma$ для нормального распределения, можно выбросить слишком далекие от нуля хвосты. Постройте гистограмму распределения значений в рамках этого признака."
   ]
  },
  {
   "cell_type": "code",
   "execution_count": 84,
   "metadata": {
    "id": "5dHRr6YD0U5U",
    "ExecuteTime": {
     "end_time": "2023-10-14T01:36:00.439814Z",
     "start_time": "2023-10-14T01:36:00.428374Z"
    }
   },
   "outputs": [],
   "source": [
    "# < ENTER YOUR CODE HERE > "
   ]
  },
  {
   "cell_type": "markdown",
   "metadata": {
    "id": "A1PjJGciS0JL"
   },
   "source": [
    "Очевидно в рамках этого признака есть небольшое количество значений, которые лежат далеко. Можно использовать <a href=\"https://docs.scipy.org/doc/scipy/reference/generated/scipy.stats.zscore.html\"><code>z-score</code></a> функцию из библиотеки <code>scipy</code>. \n",
    "\n",
    "Вспомнив курс теории вероятностей, становится понятно, что около $99.7\\%$ нормального распределения сождержатся в отрезке $[-3\\sigma, 3\\sigma]$. Определите число элементов, модуль <code>z-score</code> которых больше, чем $3$. "
   ]
  },
  {
   "cell_type": "code",
   "execution_count": 85,
   "metadata": {
    "id": "IAqVmGrDRq7J",
    "ExecuteTime": {
     "end_time": "2023-10-14T01:36:00.439982Z",
     "start_time": "2023-10-14T01:36:00.435181Z"
    }
   },
   "outputs": [],
   "source": [
    "# < ENTER YOUR CODE HERE > "
   ]
  },
  {
   "cell_type": "markdown",
   "metadata": {
    "id": "tUhbuuVkmG44"
   },
   "source": [
    "Итак, выбросов не очень множко, поэтому выбросите их из набора данных. Введите оставшееся в датасете число строк."
   ]
  },
  {
   "cell_type": "code",
   "execution_count": 86,
   "metadata": {
    "id": "BWLLchbGmKyx",
    "ExecuteTime": {
     "end_time": "2023-10-14T01:36:00.472363Z",
     "start_time": "2023-10-14T01:36:00.439179Z"
    }
   },
   "outputs": [],
   "source": [
    "# < ENTER YOUR CODE HERE > "
   ]
  },
  {
   "cell_type": "markdown",
   "metadata": {
    "id": "hMJ3LQA62_z7"
   },
   "source": [
    "# Построение моделей"
   ]
  },
  {
   "cell_type": "markdown",
   "metadata": {
    "id": "YraRCGS33aCP"
   },
   "source": [
    "# Базовый алгоритм"
   ]
  },
  {
   "cell_type": "markdown",
   "metadata": {
    "id": "-tN2AKL6myfS"
   },
   "source": [
    "При помощи <code>train_test_split</code> разобейте полученный набор данных на тренеровочную и тестовую выборки с параметрами, указанными в вашем варианте."
   ]
  },
  {
   "cell_type": "code",
   "execution_count": 87,
   "metadata": {
    "id": "y1YG3JZ9oDMI",
    "ExecuteTime": {
     "end_time": "2023-10-14T01:36:00.472527Z",
     "start_time": "2023-10-14T01:36:00.461291Z"
    }
   },
   "outputs": [],
   "source": [
    "# < ENTER YOUR CODE HERE > "
   ]
  },
  {
   "cell_type": "markdown",
   "metadata": {
    "id": "0NyWOkh13iNC"
   },
   "source": [
    "Обучите модель <code>DecisionTreeClassifier</code> с параметрами, указанными в вашем варианте на тренировочных данных, оцените на тестовых. Вычислите <code>f1_score</code> модели на тестовых данных."
   ]
  },
  {
   "cell_type": "code",
   "execution_count": 88,
   "metadata": {
    "id": "BJNg02bbaJj2",
    "ExecuteTime": {
     "end_time": "2023-10-14T01:36:00.490259Z",
     "start_time": "2023-10-14T01:36:00.472618Z"
    }
   },
   "outputs": [],
   "source": [
    "# < ENTER YOUR CODE HERE > "
   ]
  },
  {
   "cell_type": "markdown",
   "metadata": {
    "id": "nz9iFfBK4KhL"
   },
   "source": [
    "## Учет дисбаланса соотношения классов"
   ]
  },
  {
   "cell_type": "markdown",
   "metadata": {
    "id": "3x7OGwQwa8V6"
   },
   "source": [
    "А теперь, если вспомнить, что выборка несбалансирована, то можно указать дополнительный параметр <code>class_weight</code>. Обучите модель <code>DecisionTreeClassifier</code> с параметрами, указанными в вашем варианте на тренировочных данных, оцените на тестовых. Вычислите <code>f1_score</code> модели на тестовых данных."
   ]
  },
  {
   "cell_type": "code",
   "execution_count": 89,
   "metadata": {
    "id": "gug5fOXAbMC6",
    "ExecuteTime": {
     "end_time": "2023-10-14T01:36:00.490560Z",
     "start_time": "2023-10-14T01:36:00.481799Z"
    }
   },
   "outputs": [],
   "source": [
    "# < ENTER YOUR CODE HERE > "
   ]
  },
  {
   "cell_type": "markdown",
   "metadata": {
    "id": "8UgBmYo44pDE"
   },
   "source": [
    "## Upsampling обучающей выборки"
   ]
  },
  {
   "cell_type": "markdown",
   "metadata": {
    "id": "r5SQS_D0baaQ"
   },
   "source": [
    "Помимо очевидного присвоения весов несбалансированным классам, можно воспользоваться алгоритмом <code>SMOTE</code>. Ему на вход подаются экземпляры всех классов с их метками, а он в свою очередь пытается на их основе экстраполировать само распределение данных этого класса. После этого он сэмплирует новые объекты классов так, пока количество строк каждого класса не станет везде одинаковым.\n",
    "\n",
    "Получается, что в таком случае будет получена сбалансированная выборка, и пропадет нужда как-то ухищряться с весами и прочим. \n",
    "\n",
    "Определите долю элементов класса $0$ тренировочного набора данных."
   ]
  },
  {
   "cell_type": "code",
   "execution_count": 90,
   "metadata": {
    "id": "nOv98H3_ei8Z",
    "ExecuteTime": {
     "end_time": "2023-10-14T01:36:00.493385Z",
     "start_time": "2023-10-14T01:36:00.487424Z"
    }
   },
   "outputs": [],
   "source": [
    "# < ENTER YOUR CODE HERE > "
   ]
  },
  {
   "cell_type": "markdown",
   "metadata": {
    "id": "DUrm8j5R6-dq"
   },
   "source": [
    "Используя класс <a href=\"https://imbalanced-learn.org/stable/references/generated/imblearn.over_sampling.SMOTE.html\"><code>SMOTE</code></a> из модуля <code>imblearn.over_sampling</code> сбалансируйте обучающую выборку с параметрами, указанными в вашем варианте."
   ]
  },
  {
   "cell_type": "code",
   "execution_count": 91,
   "metadata": {
    "id": "YWr1Mll1eYcd",
    "ExecuteTime": {
     "end_time": "2023-10-14T01:36:00.542943Z",
     "start_time": "2023-10-14T01:36:00.493240Z"
    }
   },
   "outputs": [],
   "source": [
    "# < ENTER YOUR CODE HERE > "
   ]
  },
  {
   "cell_type": "markdown",
   "metadata": {
    "id": "4xd6pDvt9Yxj"
   },
   "source": [
    "Убедитесь, что теперь в выборке содержится одинаковое число представителей обоих классов. Введите количество объектов класса $1$."
   ]
  },
  {
   "cell_type": "code",
   "execution_count": 92,
   "metadata": {
    "id": "lASmMyIee9FB",
    "ExecuteTime": {
     "end_time": "2023-10-14T01:36:00.543193Z",
     "start_time": "2023-10-14T01:36:00.498034Z"
    }
   },
   "outputs": [],
   "source": [
    "# < ENTER YOUR CODE HERE > "
   ]
  },
  {
   "cell_type": "markdown",
   "metadata": {
    "id": "-7M3ua0zfCl5"
   },
   "source": [
    "Снова обучите модель <code>DecisionTreeClassifier</code> с параметрами, указанными в вашем варианте на тренировочных данных, оцените на тестовых. Вычислите <code>f1_score</code> модели на тестовых данных."
   ]
  },
  {
   "cell_type": "code",
   "execution_count": 93,
   "metadata": {
    "id": "3J1YZg6ufFxo",
    "ExecuteTime": {
     "end_time": "2023-10-14T01:36:00.543358Z",
     "start_time": "2023-10-14T01:36:00.505242Z"
    }
   },
   "outputs": [],
   "source": [
    "# < ENTER YOUR CODE HERE > "
   ]
  }
 ],
 "metadata": {
  "colab": {
   "name": "",
   "version": ""
  },
  "kernelspec": {
   "name": "python3",
   "language": "python",
   "display_name": "Python 3 (ipykernel)"
  },
  "language_info": {
   "name": "python"
  }
 },
 "nbformat": 4,
 "nbformat_minor": 0
}
