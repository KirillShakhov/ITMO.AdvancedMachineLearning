{
 "cells": [
  {
   "cell_type": "markdown",
   "metadata": {
    "id": "S2Zv-8wrSmbU"
   },
   "source": [
    "# Применение логистической регрессии для решения задачи классификации"
   ]
  },
  {
   "cell_type": "code",
   "source": [],
   "metadata": {
    "colab": {
     "base_uri": "https://localhost:8080/"
    },
    "id": "z6FtC1nLUv9T",
    "outputId": "8d97baa7-0e65-4e88-c813-82f9debd213f",
    "ExecuteTime": {
     "end_time": "2023-10-15T00:22:34.860027Z",
     "start_time": "2023-10-15T00:22:34.763083Z"
    }
   },
   "execution_count": 104,
   "outputs": []
  },
  {
   "cell_type": "markdown",
   "metadata": {
    "id": "Fsaq3T7JS9Ox"
   },
   "source": [
    "# Описание набора данных"
   ]
  },
  {
   "cell_type": "markdown",
   "metadata": {
    "id": "ekwIM8kmTAx5"
   },
   "source": [
    "Данный набор содержит информацию о пассажирах корабля «Титаник», затонувшего в ночь на 15-е апреля 1912 года. Некоторое количество пассажиров спаслось, чему способствовало множество различных факторов, включая их пол, возраст, на какой палубе находилась их кабина, социальный статус, и т.д.\n",
    "\n",
    "Набор данных состоит из различных признаков, описывающих информацию о пассажирах. Каждая строка таблицы — отдельный пассажир, вся информация о нем содержится в его строке. \n",
    "\n",
    "Описание датасета:\n",
    "- **Survived** (целевой признак): выжил ли пассажир (0 = Нет, 1 = Да);\n",
    "- **Pclass**: класс каюты (1 = 1st, 2 = 2nd, 3 = 3rd);\n",
    "- **Sex**: пол (female или male)\t\n",
    "- **Age**: возраст в годах\n",
    "- **SibSp**: количество братьев, сестёр (в том числе сводных) и супругов на борту\t\n",
    "- **Parch**: количество детей и родителей на борту\n",
    "- **Ticket**: номер билета\t\n",
    "- **Fare**: стоимость проезда пассажира\t\n",
    "- **Cabin**: номер каюты\t\n",
    "- **Embarked**: порт посадки пассажира (C = Cherbourg, Q = Queenstown, S = Southampton).\n",
    "\n",
    "Необходимо решить задачу классификации и научиться предсказывать целовой признак **Survived** — выживет ли пассажир — по соответсвующим ему нецелевым признакам.\n"
   ]
  },
  {
   "cell_type": "markdown",
   "metadata": {
    "id": "SjI-Ub1GYbKX",
    "tags": []
   },
   "source": [
    "# Подготовка и первичный анализ данных"
   ]
  },
  {
   "cell_type": "code",
   "execution_count": 105,
   "metadata": {
    "id": "a_MzT3cKTuR9",
    "tags": [],
    "ExecuteTime": {
     "end_time": "2023-10-15T00:22:34.878802Z",
     "start_time": "2023-10-15T00:22:34.775286Z"
    }
   },
   "outputs": [],
   "source": [
    "import numpy as np \n",
    "import pandas as pd\n",
    "import matplotlib.pyplot as plt\n",
    "import seaborn as sns\n",
    "from sklearn.linear_model import LogisticRegression\n",
    "from sklearn.model_selection import train_test_split \n",
    "from sklearn.metrics import f1_score\n",
    "from sklearn.metrics import classification_report"
   ]
  },
  {
   "cell_type": "markdown",
   "metadata": {
    "id": "KY4ZYwUuUNwx"
   },
   "source": [
    "Установите количество пропущенных значений поля <code>age</code>:"
   ]
  },
  {
   "cell_type": "code",
   "execution_count": 106,
   "metadata": {
    "tags": [],
    "colab": {
     "base_uri": "https://localhost:8080/",
     "height": 424
    },
    "id": "4lgqXVUsUpmu",
    "outputId": "16b65d32-b061-49c8-d42d-ae4c3f5d6e4b",
    "ExecuteTime": {
     "end_time": "2023-10-15T00:22:34.939011Z",
     "start_time": "2023-10-15T00:22:34.779739Z"
    }
   },
   "outputs": [
    {
     "data": {
      "text/plain": "     pclass  survived                                             name  \\\n0         3         1                               Smyth, Miss. Julia   \n1         3         1                         Glynn, Miss. Mary Agatha   \n2         3         1  Whabee, Mrs. George Joseph (Shawneene Abi-Saab)   \n3         3         0                                  Vovk, Mr. Janko   \n4         3         0                        de Pelsmaeker, Mr. Alfons   \n..      ...       ...                                              ...   \n976       3         1                      Howard, Miss. May Elizabeth   \n977       3         1                       Dorking, Mr. Edward Arthur   \n978       2         0                     Gillespie, Mr. William Henry   \n979       3         0                           Barton, Mr. David John   \n980       1         0                     Allison, Miss. Helen Loraine   \n\n        sex   age  sibsp  parch       ticket      fare    cabin embarked  \\\n0    female   NaN      0      0       335432    7.7333      NaN        Q   \n1    female   NaN      0      0       335677    7.7500      NaN        Q   \n2    female  38.0      0      0         2688    7.2292      NaN        C   \n3      male  22.0      0      0       349252    7.8958      NaN        S   \n4      male  16.0      0      0       345778    9.5000      NaN        S   \n..      ...   ...    ...    ...          ...       ...      ...      ...   \n976  female   NaN      0      0  A. 2. 39186    8.0500      NaN        S   \n977    male  19.0      0      0   A/5. 10482    8.0500      NaN        S   \n978    male  34.0      0      0        12233   13.0000      NaN        S   \n979    male  22.0      0      0       324669    8.0500      NaN        S   \n980  female   2.0      1      2       113781  151.5500  C22 C26        S   \n\n                            home.dest  \n0                                 NaN  \n1    Co Clare, Ireland Washington, DC  \n2                                 NaN  \n3                                 NaN  \n4                                 NaN  \n..                                ...  \n976                               NaN  \n977               England Oglesby, IL  \n978                     Vancouver, BC  \n979              England New York, NY  \n980   Montreal, PQ / Chesterville, ON  \n\n[981 rows x 12 columns]",
      "text/html": "<div>\n<style scoped>\n    .dataframe tbody tr th:only-of-type {\n        vertical-align: middle;\n    }\n\n    .dataframe tbody tr th {\n        vertical-align: top;\n    }\n\n    .dataframe thead th {\n        text-align: right;\n    }\n</style>\n<table border=\"1\" class=\"dataframe\">\n  <thead>\n    <tr style=\"text-align: right;\">\n      <th></th>\n      <th>pclass</th>\n      <th>survived</th>\n      <th>name</th>\n      <th>sex</th>\n      <th>age</th>\n      <th>sibsp</th>\n      <th>parch</th>\n      <th>ticket</th>\n      <th>fare</th>\n      <th>cabin</th>\n      <th>embarked</th>\n      <th>home.dest</th>\n    </tr>\n  </thead>\n  <tbody>\n    <tr>\n      <th>0</th>\n      <td>3</td>\n      <td>1</td>\n      <td>Smyth, Miss. Julia</td>\n      <td>female</td>\n      <td>NaN</td>\n      <td>0</td>\n      <td>0</td>\n      <td>335432</td>\n      <td>7.7333</td>\n      <td>NaN</td>\n      <td>Q</td>\n      <td>NaN</td>\n    </tr>\n    <tr>\n      <th>1</th>\n      <td>3</td>\n      <td>1</td>\n      <td>Glynn, Miss. Mary Agatha</td>\n      <td>female</td>\n      <td>NaN</td>\n      <td>0</td>\n      <td>0</td>\n      <td>335677</td>\n      <td>7.7500</td>\n      <td>NaN</td>\n      <td>Q</td>\n      <td>Co Clare, Ireland Washington, DC</td>\n    </tr>\n    <tr>\n      <th>2</th>\n      <td>3</td>\n      <td>1</td>\n      <td>Whabee, Mrs. George Joseph (Shawneene Abi-Saab)</td>\n      <td>female</td>\n      <td>38.0</td>\n      <td>0</td>\n      <td>0</td>\n      <td>2688</td>\n      <td>7.2292</td>\n      <td>NaN</td>\n      <td>C</td>\n      <td>NaN</td>\n    </tr>\n    <tr>\n      <th>3</th>\n      <td>3</td>\n      <td>0</td>\n      <td>Vovk, Mr. Janko</td>\n      <td>male</td>\n      <td>22.0</td>\n      <td>0</td>\n      <td>0</td>\n      <td>349252</td>\n      <td>7.8958</td>\n      <td>NaN</td>\n      <td>S</td>\n      <td>NaN</td>\n    </tr>\n    <tr>\n      <th>4</th>\n      <td>3</td>\n      <td>0</td>\n      <td>de Pelsmaeker, Mr. Alfons</td>\n      <td>male</td>\n      <td>16.0</td>\n      <td>0</td>\n      <td>0</td>\n      <td>345778</td>\n      <td>9.5000</td>\n      <td>NaN</td>\n      <td>S</td>\n      <td>NaN</td>\n    </tr>\n    <tr>\n      <th>...</th>\n      <td>...</td>\n      <td>...</td>\n      <td>...</td>\n      <td>...</td>\n      <td>...</td>\n      <td>...</td>\n      <td>...</td>\n      <td>...</td>\n      <td>...</td>\n      <td>...</td>\n      <td>...</td>\n      <td>...</td>\n    </tr>\n    <tr>\n      <th>976</th>\n      <td>3</td>\n      <td>1</td>\n      <td>Howard, Miss. May Elizabeth</td>\n      <td>female</td>\n      <td>NaN</td>\n      <td>0</td>\n      <td>0</td>\n      <td>A. 2. 39186</td>\n      <td>8.0500</td>\n      <td>NaN</td>\n      <td>S</td>\n      <td>NaN</td>\n    </tr>\n    <tr>\n      <th>977</th>\n      <td>3</td>\n      <td>1</td>\n      <td>Dorking, Mr. Edward Arthur</td>\n      <td>male</td>\n      <td>19.0</td>\n      <td>0</td>\n      <td>0</td>\n      <td>A/5. 10482</td>\n      <td>8.0500</td>\n      <td>NaN</td>\n      <td>S</td>\n      <td>England Oglesby, IL</td>\n    </tr>\n    <tr>\n      <th>978</th>\n      <td>2</td>\n      <td>0</td>\n      <td>Gillespie, Mr. William Henry</td>\n      <td>male</td>\n      <td>34.0</td>\n      <td>0</td>\n      <td>0</td>\n      <td>12233</td>\n      <td>13.0000</td>\n      <td>NaN</td>\n      <td>S</td>\n      <td>Vancouver, BC</td>\n    </tr>\n    <tr>\n      <th>979</th>\n      <td>3</td>\n      <td>0</td>\n      <td>Barton, Mr. David John</td>\n      <td>male</td>\n      <td>22.0</td>\n      <td>0</td>\n      <td>0</td>\n      <td>324669</td>\n      <td>8.0500</td>\n      <td>NaN</td>\n      <td>S</td>\n      <td>England New York, NY</td>\n    </tr>\n    <tr>\n      <th>980</th>\n      <td>1</td>\n      <td>0</td>\n      <td>Allison, Miss. Helen Loraine</td>\n      <td>female</td>\n      <td>2.0</td>\n      <td>1</td>\n      <td>2</td>\n      <td>113781</td>\n      <td>151.5500</td>\n      <td>C22 C26</td>\n      <td>S</td>\n      <td>Montreal, PQ / Chesterville, ON</td>\n    </tr>\n  </tbody>\n</table>\n<p>981 rows × 12 columns</p>\n</div>"
     },
     "execution_count": 106,
     "metadata": {},
     "output_type": "execute_result"
    }
   ],
   "source": [
    "dataset = pd.read_csv(\"data/titanic_train.csv\")\n",
    "dataset"
   ]
  },
  {
   "cell_type": "code",
   "execution_count": 107,
   "metadata": {
    "id": "Ii5ITpGJUShn",
    "tags": [],
    "colab": {
     "base_uri": "https://localhost:8080/"
    },
    "outputId": "c9b1ba01-c657-4c53-c079-68eca603f440",
    "ExecuteTime": {
     "end_time": "2023-10-15T00:22:34.952720Z",
     "start_time": "2023-10-15T00:22:34.794378Z"
    }
   },
   "outputs": [
    {
     "data": {
      "text/plain": "pclass         0\nsurvived       0\nname           0\nsex            0\nage          199\nsibsp          0\nparch          0\nticket         0\nfare           0\ncabin        769\nembarked       0\nhome.dest    414\ndtype: int64"
     },
     "execution_count": 107,
     "metadata": {},
     "output_type": "execute_result"
    }
   ],
   "source": [
    "dataset.isnull().sum()"
   ]
  },
  {
   "cell_type": "markdown",
   "metadata": {
    "id": "gOqnpfJkU6Ll"
   },
   "source": [
    "Определите долю выживших"
   ]
  },
  {
   "cell_type": "code",
   "execution_count": 108,
   "metadata": {
    "id": "dHdTN-odVAIb",
    "tags": [],
    "colab": {
     "base_uri": "https://localhost:8080/"
    },
    "outputId": "645e534e-a482-48d5-9077-65164f9fb680",
    "ExecuteTime": {
     "end_time": "2023-10-15T00:22:34.956148Z",
     "start_time": "2023-10-15T00:22:34.798257Z"
    }
   },
   "outputs": [
    {
     "data": {
      "text/plain": "0.382262996941896"
     },
     "execution_count": 108,
     "metadata": {},
     "output_type": "execute_result"
    }
   ],
   "source": [
    "len(dataset[dataset[\"survived\"]==1])/len(dataset)"
   ]
  },
  {
   "cell_type": "markdown",
   "metadata": {
    "id": "MJS0wozuVoWt"
   },
   "source": [
    "Определите долю пропущенных значений в рамках каждого признака и избавьтесь от тех признаков, где доля пропусков больше трети. Также удалите колонку <code>ticket</code>, вряд ли эта информация будет полезной."
   ]
  },
  {
   "cell_type": "code",
   "execution_count": 109,
   "metadata": {
    "id": "43ptqUREVz-t",
    "tags": [],
    "colab": {
     "base_uri": "https://localhost:8080/"
    },
    "outputId": "c9f3156b-efe8-472e-c8e5-89d582fb6b0c",
    "ExecuteTime": {
     "end_time": "2023-10-15T00:22:34.958584Z",
     "start_time": "2023-10-15T00:22:34.802999Z"
    }
   },
   "outputs": [
    {
     "data": {
      "text/plain": "pclass       0.000000\nsurvived     0.000000\nname         0.000000\nsex          0.000000\nage          0.202854\nsibsp        0.000000\nparch        0.000000\nticket       0.000000\nfare         0.000000\ncabin        0.783894\nembarked     0.000000\nhome.dest    0.422018\ndtype: float64"
     },
     "execution_count": 109,
     "metadata": {},
     "output_type": "execute_result"
    }
   ],
   "source": [
    "dataset.isnull().sum()/len(dataset)"
   ]
  },
  {
   "cell_type": "code",
   "execution_count": 110,
   "metadata": {
    "tags": [],
    "id": "YdnIKySAUpmx",
    "ExecuteTime": {
     "end_time": "2023-10-15T00:22:34.958643Z",
     "start_time": "2023-10-15T00:22:34.806261Z"
    }
   },
   "outputs": [],
   "source": [
    "dataset = dataset.drop(columns=[\"cabin\", \"ticket\", \"home.dest\"])"
   ]
  },
  {
   "cell_type": "markdown",
   "metadata": {
    "id": "5Porb6vGmpke"
   },
   "source": [
    "Из описания набора данных видно, что колонки <code>sibsp</code> и <code>parch</code> по сути отвечают за размер семьи. Замените эти две колонки на колонку <code>fam_size</code>, значения которой будут вычисляться как сумма соответствующих значений в колонках <code>sibsp</code> и <code>parch</code>. "
   ]
  },
  {
   "cell_type": "code",
   "execution_count": 111,
   "metadata": {
    "id": "knvpyHMrm4f-",
    "tags": [],
    "ExecuteTime": {
     "end_time": "2023-10-15T00:22:34.965870Z",
     "start_time": "2023-10-15T00:22:34.809108Z"
    }
   },
   "outputs": [],
   "source": [
    "dataset[\"fam_size\"] = dataset[\"sibsp\"]+dataset[\"parch\"]\n",
    "dataset = dataset.drop(columns=[\"sibsp\", \"parch\"])"
   ]
  },
  {
   "cell_type": "markdown",
   "metadata": {
    "id": "X9Cmdl5fmyoi"
   },
   "source": [
    "Полученный датасет будем называть **исходным** (выброшенные на этом этапе признаки не нужно возвращать ни на одном из последующих этапов выполнения задания). Вычислите полученное число предикторов."
   ]
  },
  {
   "cell_type": "code",
   "execution_count": 112,
   "metadata": {
    "id": "XdpdKkEBUT52",
    "tags": [],
    "colab": {
     "base_uri": "https://localhost:8080/"
    },
    "outputId": "66c889c3-7ff7-4d0d-c4b0-bd336b329287",
    "ExecuteTime": {
     "end_time": "2023-10-15T00:22:34.966134Z",
     "start_time": "2023-10-15T00:22:34.811884Z"
    }
   },
   "outputs": [
    {
     "data": {
      "text/plain": "(0.8664627930682977, 7)"
     },
     "execution_count": 112,
     "metadata": {},
     "output_type": "execute_result"
    }
   ],
   "source": [
    "dataset[\"fam_size\"].mean(), dataset.shape[1]-1"
   ]
  },
  {
   "cell_type": "markdown",
   "metadata": {
    "id": "wQOvPyj8Vx00"
   },
   "source": [
    "На основе имеющейся статистики оцените вероятность выжить если пассажир -- представитель определенной категории (указана в вашем индивидуальном задании)"
   ]
  },
  {
   "cell_type": "code",
   "execution_count": 113,
   "metadata": {
    "id": "hFpZp4LaeS9Q",
    "colab": {
     "base_uri": "https://localhost:8080/"
    },
    "outputId": "d356c324-e4ab-480a-9d21-282d3fea5087",
    "ExecuteTime": {
     "end_time": "2023-10-15T00:22:34.975574Z",
     "start_time": "2023-10-15T00:22:34.816264Z"
    }
   },
   "outputs": [
    {
     "data": {
      "text/plain": "0.8461538461538461"
     },
     "execution_count": 113,
     "metadata": {},
     "output_type": "execute_result"
    }
   ],
   "source": [
    "len(dataset[(dataset[\"sex\"] == \"female\") & (dataset[\"pclass\"] == 2) & (dataset[\"survived\"] == 1)])/len(dataset[(dataset[\"sex\"] == \"female\") & (dataset[\"pclass\"] == 2)])"
   ]
  },
  {
   "cell_type": "markdown",
   "metadata": {
    "id": "sXxprQtFhSy4"
   },
   "source": [
    "Постройте гистограммы выжиших и невыживших по возрастам."
   ]
  },
  {
   "cell_type": "code",
   "execution_count": 114,
   "metadata": {
    "id": "K3wHT2Uzr3nb",
    "colab": {
     "base_uri": "https://localhost:8080/",
     "height": 1000
    },
    "outputId": "6e371687-0a60-41db-af7d-c36426b0a57f",
    "ExecuteTime": {
     "end_time": "2023-10-15T00:22:35.223185Z",
     "start_time": "2023-10-15T00:22:34.820261Z"
    }
   },
   "outputs": [
    {
     "data": {
      "text/plain": "<seaborn.axisgrid.FacetGrid at 0x17ef8fcd0>"
     },
     "execution_count": 114,
     "metadata": {},
     "output_type": "execute_result"
    },
    {
     "data": {
      "text/plain": "<Figure size 360x360 with 1 Axes>",
      "image/png": "[encoded data removed]"
     },
     "metadata": {},
     "output_type": "display_data"
    },
    {
     "data": {
      "text/plain": "<Figure size 360x360 with 1 Axes>",
      "image/png": "[encoded data removed]"
     },
     "metadata": {},
     "output_type": "display_data"
    }
   ],
   "source": [
    "sns.displot(dataset[dataset[\"survived\"] == 1][\"age\"])\n",
    "sns.displot(dataset[dataset[\"survived\"] == 0][\"age\"])"
   ]
  },
  {
   "cell_type": "markdown",
   "metadata": {
    "id": "u_bO7O9v0ovG"
   },
   "source": [
    "# Модель на основе числовых признаков"
   ]
  },
  {
   "cell_type": "markdown",
   "metadata": {
    "id": "VJPhFX8M38SF"
   },
   "source": [
    "## Удаление строк с пропусками"
   ]
  },
  {
   "cell_type": "markdown",
   "metadata": {
    "id": "kAO1Bd2Q0qZr"
   },
   "source": [
    "В качестве базовой модели имеет смысл построить модель с минимальными трудозатратами.\n",
    "\n",
    "Из исходного датасета удалите все категориальные признаки, а также строки, содержащие пропуски.\n",
    "\n",
    "При помощи <code>train_test_split()</code> разбейте набор данных на обучающую и тестовую выборки<b> с параметрами, указанными в вашем задании</b>. Используйте стратификацию по колонке <code>survived</code>.\n",
    "\n",
    "Обучите модель <code>LogisticRegression()</code> <b>с параметрами, указанными в вашем задании</b>, на тренировочных данных, оцените на тестовых.\n",
    "\n",
    "Вычислите <code>f1_score</code> модели на тестовых данных (рекомендуем использовать <a href=\"https://scikit-learn.org/stable/modules/generated/sklearn.metrics.f1_score.html\">соответствующую функцию</a> с параметрами по умолчанию.\n",
    "\n"
   ]
  },
  {
   "cell_type": "code",
   "execution_count": 115,
   "metadata": {
    "id": "8JJ6qQT618Uz",
    "colab": {
     "base_uri": "https://localhost:8080/"
    },
    "outputId": "c850b37b-1e8d-4a3f-d4ae-3ad7fbd0e233",
    "ExecuteTime": {
     "end_time": "2023-10-15T00:22:35.223549Z",
     "start_time": "2023-10-15T00:22:35.151960Z"
    }
   },
   "outputs": [
    {
     "data": {
      "text/plain": "(     pclass   age     fare  fam_size\n 645       3  19.0  16.1000         1\n 762       3  45.0  14.1083         1\n 816       3  21.0   7.8000         0\n 770       2  30.0  13.0000         0\n 120       3  21.0   7.7500         0\n ..      ...   ...      ...       ...\n 664       3  39.0   7.2292         2\n 260       1  31.0  52.0000         1\n 333       3  30.5   7.7500         0\n 55        2  45.0  26.2500         2\n 235       3  55.5   8.0500         0\n \n [625 rows x 4 columns],\n      pclass   age     fare  fam_size\n 755       3  16.0   8.0500         0\n 156       2  34.0  13.0000         0\n 272       3  36.0   0.0000         0\n 832       3  41.0  20.2125         2\n 437       3  22.0   7.2292         0\n ..      ...   ...      ...       ...\n 711       1  40.0  27.7208         0\n 71        2  30.0  13.0000         0\n 152       3  30.0   8.0500         0\n 4         3  16.0   9.5000         0\n 352       3  32.0  22.5250         0\n \n [157 rows x 4 columns])"
     },
     "execution_count": 115,
     "metadata": {},
     "output_type": "execute_result"
    }
   ],
   "source": [
    "fdataset = dataset.dropna()\n",
    "X_train, X_test, y_train, y_test = train_test_split(fdataset.drop(columns=[\"name\", \"sex\", \"embarked\", \"survived\"]), fdataset[\"survived\"], stratify=fdataset[\"survived\"], test_size=0.2, random_state=11)\n",
    "X_train, X_test"
   ]
  },
  {
   "cell_type": "code",
   "execution_count": 116,
   "metadata": {
    "tags": [],
    "colab": {
     "base_uri": "https://localhost:8080/"
    },
    "id": "PQQkK9zlUpm1",
    "outputId": "baf74bee-3d5e-4bf5-f82d-eb2c07fd8b90",
    "ExecuteTime": {
     "end_time": "2023-10-15T00:22:35.224Z",
     "start_time": "2023-10-15T00:22:35.169140Z"
    }
   },
   "outputs": [
    {
     "data": {
      "text/plain": "0.5471698113207547"
     },
     "execution_count": 116,
     "metadata": {},
     "output_type": "execute_result"
    }
   ],
   "source": [
    "reg = LogisticRegression(random_state=11, max_iter=1000).fit(X_train, y_train)\n",
    "\n",
    "f1_score(y_test, reg.predict(X_test))"
   ]
  },
  {
   "cell_type": "markdown",
   "metadata": {
    "id": "UL6H4BxE3y-f"
   },
   "source": [
    "## Заполнение пропусков средним"
   ]
  },
  {
   "cell_type": "markdown",
   "metadata": {
    "id": "vD6NntW04OJF"
   },
   "source": [
    "Качество полученной модели оставляет желать лучшего. Имеет смысл попробовать заполнить пропуски. Из исходного набора данных удалите категориальные признаки, а пропуски заполните средним по столбцу. Далее аналогично: разделение, обучение, оценка.\n",
    "\n",
    "Вычислите <code>f1_score</code> модели на тестовых данных"
   ]
  },
  {
   "cell_type": "code",
   "execution_count": 117,
   "metadata": {
    "id": "zMYFLiWZ4Gw-",
    "colab": {
     "base_uri": "https://localhost:8080/"
    },
    "outputId": "9944bda5-a793-4b88-d538-e992978c00ae",
    "ExecuteTime": {
     "end_time": "2023-10-15T00:22:35.268718Z",
     "start_time": "2023-10-15T00:22:35.229833Z"
    }
   },
   "outputs": [
    {
     "ename": "TypeError",
     "evalue": "Could not convert ['Smyth, Miss. JuliaGlynn, Miss. Mary AgathaWhabee, Mrs. George Joseph (Shawneene Abi-Saab)Vovk, Mr. Jankode Pelsmaeker, Mr. AlfonsDaly, Mr. Eugene PatrickWiseman, Mr. PhillippeBirnbaum, Mr. JakobDanoff, Mr. YotoAsplund, Master. Filip OscarGreenfield, Mr. William BertramGoldenberg, Mr. Samuel LRobbins, Mr. VictorMcCrae, Mr. Arthur GordonVan Impe, Mr. Jean BaptisteRenouf, Mr. Peter HenryGilnagh, Miss. Katherine \"Katie\"Crosby, Miss. Harriet RShelley, Mrs. William (Imanita Parrish Hall)Laroche, Mrs. Joseph (Juliette Marie Louise Lafargue)Nicholson, Mr. Arthur ErnestDantcheff, Mr. RistiuCardeza, Mr. Thomas Drake MartinezMcCarthy, Mr. Timothy JWebber, Miss. SusanAbelseth, Mr. Olaus JorgensenJohnston, Master. William Arthur \"Willie\"Katavelas, Mr. Vassilios (\"Catavelas Vassilios\")Swift, Mrs. Frederick Joel (Margaret Welles Barron)Williams, Mr. Howard Hugh \"Harry\"Laroche, Miss. Simonne Marie Anne AndreeChaffee, Mr. Herbert FullerChristy, Miss. Julie RachelFunk, Miss. Annie ClemmerGiles, Mr. Frederick EdwardWilliams, Mr. LesliePorter, Mr. Walter ChamberlainVander Cruyssen, Mr. VictorHunt, Mr. George HenryWright, Mr. GeorgeNysten, Miss. Anna SofiaRichards, Master. George SibleyLarsson, Mr. Bengt EdvinTurpin, Mrs. William John Robert (Dorothy Ann Wonnacott)Lievens, Mr. Rene AimeBurns, Miss. Mary DeliaMayne, Mlle. Berthe Antonine (\"Mrs de Villiers\")Abbott, Mr. Rossmore EdwardDodge, Mrs. Washington (Ruth Vidaver)Chip, Mr. ChangWillard, Miss. ConstanceSmith, Mr. ThomasGibson, Miss. Dorothy WinifredMoubarek, Mrs. George (Omine \"Amenia\" Alexander)Asplund, Master. Carl EdgarHart, Mrs. Benjamin (Esther Ada Bloomfield)Krekorian, Mr. NeshanEitemiller, Mr. George FloydOreskovic, Mr. LukaSaad, Mr. KhalilThorne, Mrs. Gertrude MaybelleGuggenheim, Mr. BenjaminSchabert, Mrs. Paul (Emma Mock)Franklin, Mr. Charles (Charles Fardon)Jonkoff, Mr. LalioDavies, Mrs. John Morgan (Elizabeth Agnes Mary White) Skoog, Master. HaraldFortune, Mr. Charles AlexanderDaly, Miss. Margaret Marcella \"Maggie\"Rogers, Mr. William JohnDennis, Mr. SamuelAldworth, Mr. Charles AugustusCaldwell, Mrs. Albert Francis (Sylvia Mae Harbaugh)Panula, Mr. Jaako ArnoldLemberopolous, Mr. Peter LNiskanen, Mr. JuhaOlsvigen, Mr. Thor AndersonTenglin, Mr. Gunnar IsidorMcGowan, Miss. KatherineThorneycroft, Mrs. Percival (Florence Kate White)Lundin, Miss. Olga ElidaCribb, Miss. Laura AliceBryhl, Miss. Dagmar Jenny Ingeborg White, Mr. Percival WaylandWick, Mr. George DennickIsham, Miss. Ann ElizabethLam, Mr. AliChristmann, Mr. EmilFord, Mrs. Edward (Margaret Ann Watson)Goodwin, Miss. Lillian AmyCorey, Mrs. Percy C (Mary Phyllis Elizabeth Miller)Baclini, Miss. Marie CatherineParr, Mr. William Henry MarshAndersson, Miss. Sigrid ElisabethLefebre, Miss. JeannieWittevrongel, Mr. CamillePasic, Mr. JakobDika, Mr. MirkoSage, Mrs. John (Annie Bullen)Ilieff, Mr. YlioHolm, Mr. John Fredrik AlexanderVande Velde, Mr. Johannes JosephBostandyeff, Mr. GuentchoAllen, Mr. William HenryChronopoulos, Mr. DemetriosCor, Mr. LiudevitShutes, Miss. Elizabeth WGeiger, Miss. AmalieGivard, Mr. Hans KristensenSagesser, Mlle. EmmaCornell, Mrs. Robert Clifford (Malvina Helen Lamson)Slocovski, Mr. Selman FrancisLefebre, Miss. MathildeNilsson, Mr. August FerdinandDemetri, Mr. MarinkoMinahan, Miss. Daisy EMurphy, Miss. Katherine \"Kate\"Sjoblom, Miss. Anna SofiaGraham, Mrs. William Thompson (Edith Junkins)Stanley, Mr. Edward RolandCanavan, Mr. PatrickAndersson, Mr. Johan SamuelKhalil, Mr. BetrosFord, Miss. Robina Maggie \"Ruby\"Hirvonen, Miss. Hildur ELennon, Miss. MaryStrilic, Mr. IvanRazi, Mr. RaihedBishop, Mr. Dickinson HFahlstrom, Mr. Arne JonasBrown, Miss. Edith EileenNorman, Mr. Robert DouglasMyles, Mr. Thomas FrancisStrandberg, Miss. Ida SofiaDodge, Master. WashingtonKink-Heilmann, Miss. Luise GretchenCaram, Mrs. Joseph (Maria Elias)Clifford, Mr. George QuincyBetros, Master. SemanKraeff, Mr. TheodorTaussig, Mr. EmilButler, Mr. Reginald FentonLefebre, Mrs. Frank (Frances)Jonsson, Mr. CarlDrapkin, Miss. JennieHold, Mr. StephenHead, Mr. ChristopherDanbom, Master. Gilbert Sigvard EmanuelStengel, Mr. Charles Emil HenryDintcheff, Mr. ValtchoHays, Miss. Margaret BechsteinSerepeca, Miss. AugustaSomerton, Mr. Francis WilliamPernot, Mr. Renede Messemaeker, Mrs. Guillaume Joseph (Emma)Wells, Mrs. Arthur Henry (\"Addie\" Dart Trevaskis)Beesley, Mr. LawrenceAndersson, Master. Sigvard Harald EliasAttalah, Mr. SleimanBoulos, Miss. NourelainChisholm, Mr. Roderick Robert CrispinBowen, Miss. Grace ScottAhlin, Mrs. Johan (Johanna Persdotter Larsson)Widener, Mrs. George Dunton (Eleanor Elkins)Spedden, Mrs. Frederic Oakley (Margaretta Corning Stone)Wick, Miss. Mary NatalieBishop, Mrs. Dickinson H (Helen Walton)Humblen, Mr. Adolf Mathias Nicolai OlsenGill, Mr. John WilliamHarper, Rev. JohnWest, Miss. Barbara JWarren, Mr. Charles WilliamJacobsohn, Mrs. Sidney Samuel (Amy Frances Christy)Cotterill, Mr. Henry \"Harry\"Keeping, Mr. EdwinMitchell, Mr. Henry MichaelChronopoulos, Mr. ApostolosPalsson, Master. Paul FolkeFlegenheim, Mrs. Alfred (Antoinette)Goodwin, Master. Sidney LeonardBadt, Mr. MohamedDaniels, Miss. SarahStranden, Mr. JuhoDibden, Mr. WilliamScanlan, Mr. JamesWhite, Mr. Richard FrasarCairns, Mr. AlexanderGoodwin, Miss. Jessie AllisConlon, Mr. Thomas HenryVander Planke, Mr. JuliusNewell, Mr. Arthur WebsterPetroff, Mr. NedelioWarren, Mr. Frank ManleyChapman, Mr. Charles HenryStaneff, Mr. IvanZabour, Miss. HileniJacobsohn, Mr. Sidney SamuelNilsson, Miss. Berta OliviaCohen, Mr. Gurshon \"Gus\"Hamalainen, Mrs. William (Anna)Jermyn, Miss. AnnieStewart, Mr. Albert ADavies, Mr. EvanLeitch, Miss. Jessie WillsIsmay, Mr. Joseph BruceElias, Mr. DiboPotter, Mrs. Thomas Jr (Lily Alexenia Wilson)Navratil, Master. Michel MMaenpaa, Mr. Matti AlexanteriFoley, Mr. WilliamMcCarthy, Miss. Catherine \"Katie\"Vanden Steen, Mr. Leo PeterReeves, Mr. DavidMakinen, Mr. Kalle EdvardTikkanen, Mr. JuhoVan der hoef, Mr. WyckoffWest, Mrs. Edwy Arthur (Ada Mary Worth)McDermott, Miss. Brigdet DeliaBonnell, Miss. ElizabethShorney, Mr. Charles JosephNatsch, Mr. Charles HHagardon, Miss. KateCacic, Miss. MarijaCoutts, Master. Eden Leslie \"Neville\"Gronnestad, Mr. Daniel DanielsenCrosby, Mrs. Edward Gifford (Catherine Elizabeth Halstead)Andersson, Mrs. Anders Johan (Alfrida Konstantia Brogren)Pokrnic, Mr. MateSaether, Mr. Simon SivertsenCarr, Miss. JeanniePetroff, Mr. Pastcho (\"Pentcho\")Stephenson, Mrs. Walter Bertram (Martha Eustis)Christy, Mrs. (Alice Frances)Harrison, Mr. WilliamGiles, Mr. RalphMeo, Mr. AlfonzoWatt, Mrs. James (Elizabeth \"Bessie\" Inglis Milne)Troutt, Miss. Edwina Celia \"Winnie\"Carrau, Mr. Jose PedroLefebre, Master. Henry ForbesSeward, Mr. Frederic KimberOstby, Miss. Helene RagnhildOstby, Mr. Engelhart CorneliusYasbeck, Mr. AntoniFlynn, Mr. JohnWilliams, Mr. Charles DuanePekoniemi, Mr. EdvardMellors, Mr. William JohnMoran, Mr. Daniel JBurns, Miss. Elizabeth MargaretVander Planke, Mrs. Julius (Emelia Maria Vandemoortele)Kent, Mr. Edward AustinBecker, Mrs. Allen Oliver (Nellie E Baumgardner)O\\'Connor, Mr. MauriceLaroche, Miss. LouiseThorneycroft, Mr. PercivalMionoff, Mr. StoytchoNakid, Mrs. Said (Waika \"Mary\" Mowad)Olsson, Miss. ElinaConnaghton, Mr. MichaelDavidson, Mr. ThorntonBaumann, Mr. John DSkoog, Master. Karl ThorstenCumings, Mr. John BradleyBarkworth, Mr. Algernon Henry WilsonWilliams, Mr. Richard Norris IIHarper, Miss. Annie Jessie \"Nina\"Giles, Mr. EdgarHocking, Mr. Richard GeorgeGarfirth, Mr. JohnFrost, Mr. Anthony Wood \"Archie\"Lane, Mr. PatrickLeonard, Mr. LionelHocking, Miss. Ellen \"Nellie\"Lahtinen, Mrs. William (Anna Sylfven)Herman, Miss. AliceGustafsson, Mr. Karl GideonBirkeland, Mr. Hans Martin MonsenMontvila, Rev. JuozasEdvardsson, Mr. Gustaf HjalmarDahlberg, Miss. Gerda UlrikaMarkun, Mr. JohannChapman, Mr. John HenryLithman, Mr. SimonMellinger, Miss. Madeleine VioletLarsson, Mr. August ViktorRyan, Mr. EdwardMullens, Miss. Katherine \"Katie\"Petersen, Mr. MariusHoyt, Mr. William FisherCarver, Mr. Alfred JohnCampbell, Mr. WilliamVendel, Mr. Olof EdvinLaroche, Mr. Joseph Philippe LemercierSmiljanic, Mr. Milede Messemaeker, Mr. Guillaume JosephBaclini, Miss. EugenieBraund, Mr. Owen HarrisSharp, Mr. Percival James RNourney, Mr. Alfred (\"Baron von Drachstedt\")Gavey, Mr. LawrenceThayer, Mr. John Borland JrMadsen, Mr. Fridtjof ArneYrois, Miss. Henriette (\"Mrs Harbeck\")Elias, Mr. Joseph JrWilley, Mr. EdwardFillbrook, Mr. Joseph CharlesLeRoy, Miss. BerthaPettersson, Miss. Ellen NataliaMernagh, Mr. RobertPears, Mrs. Thomas (Edith Wearne)Dyker, Mr. Adolf FredrikNilsson, Miss. Helmina JosefinaGilinski, Mr. EliezerMannion, Miss. MargarethGoncalves, Mr. Manuel EstanslasMcGowan, Miss. Anna \"Annie\"Adams, Mr. JohnMcMahon, Mr. MartinHanna, Mr. MansourGiglio, Mr. VictorSage, Master. Thomas HenryFoo, Mr. ChoongDouglas, Mrs. Walter Donald (Mahala Dutton)Hagland, Mr. Ingvald Olai OlsenBadman, Miss. Emily LouisaEustis, Miss. Elizabeth MusseyThomas, Master. Assad AlexanderKink, Miss. MariaCor, Mr. IvanHoward, Mrs. Benjamin (Ellen Truelove Arman)Blackwell, Mr. Stephen WeartYasbeck, Mrs. Antoni (Selini Alexander)Mangan, Miss. MaryNewell, Miss. MadeleinePinsky, Mrs. (Rosa)Balkic, Mr. CerinPanula, Master. Eino ViljamiLeeni, Mr. Fahim (\"Philip Zenni\")Gibson, Mrs. Leonard (Pauline C Boeson)Jefferys, Mr. Ernest WilfredCarter, Mrs. Ernest Courtenay (Lilian Hughes)Jenkin, Mr. Stephen CurnowHedman, Mr. Oskar ArvidMamee, Mr. HannaSloper, Mr. William ThompsonBecker, Master. Richard FRice, Master. EugeneMcNeill, Miss. BridgetBowen, Mr. David John \"Dai\"Jones, Mr. Charles CressonBird, Miss. EllenAndersen, Mr. Albert KarvinAndrew, Mr. Frank ThomasRichard, Mr. EmileStrom, Mrs. Wilhelm (Elna Matilda Persson)van Billiard, Master. James WilliamElias, Mr. TannousDavison, Mr. Thomas HenryKeefe, Mr. ArthurReynaldo, Ms. EncarnacionSimmons, Mr. JohnKirkland, Rev. Charles LeonardParker, Mr. Clifford RichardMack, Mrs. (Mary)Celotti, Mr. FrancescoNiklasson, Mr. SamuelAbelson, Mr. SamuelKink-Heilmann, Mrs. Anton (Luise Heilmann)Thayer, Mr. John BorlandPeacock, Mrs. Benjamin (Edith Nile)Riihivouri, Miss. Susanna Juhantytar \"Sanni\"O\\'Driscoll, Miss. BridgetBackstrom, Mr. Karl AlfredSadowitz, Mr. HarryConnors, Mr. PatrickSundman, Mr. Johan JulianHiltunen, Miss. MartaPortaluppi, Mr. Emilio Ilario GiuseppeShaughnessy, Mr. PatrickGoldenberg, Mrs. Samuel L (Edwiga Grabowska)Faunthorpe, Mr. HarryLindblom, Miss. Augusta CharlottaLing, Mr. LeeAbelson, Mrs. Samuel (Hannah Wizosky)Taylor, Mr. Elmer ZebleySchmidt, Mr. AugustPokrnic, Mr. TomeBeauchamp, Mr. Henry JamesMahon, Mr. JohnWells, Master. Ralph LesterBing, Mr. LeeCarr, Miss. Helen \"Ellen\"Olsson, Mr. Oscar WilhelmDrew, Mr. James VivianBoulos, Mr. HannaBystrom, Mrs. (Karolina)Calic, Mr. PetarBazzani, Miss. AlbinaPalsson, Miss. Stina ViolaRice, Mrs. William (Margaret Norton)Barbara, Miss. SaiideBeane, Mrs. Edward (Ethel Clarke)Lemore, Mrs. (Amelia Milley)McCoy, Miss. Aliciade Brito, Mr. Jose JoaquimBraf, Miss. Elin Ester MariaSage, Miss. Stella AnnaQuick, Mrs. Frederick Charles (Jane Richards)Graham, Mr. George EdwardPallas y Castello, Mr. EmilioPulbaum, Mr. FranzCorbett, Mrs. Walter H (Irene Colvin)Newell, Miss. MarjorieMorley, Mr. Henry Samuel (\"Mr Henry Marshall\")Brown, Mrs. James Joseph (Margaret Tobin)Bengtsson, Mr. John ViktorGoldschmidt, Mr. George Bde Mulder, Mr. TheodoreThomas, Mrs. Alexander (Thamine \"Thelma\")Weir, Col. JohnTheobald, Mr. Thomas LeonardOmont, Mr. Alfred FernandRothschild, Mrs. Martin (Elizabeth L. Barrett)Stead, Mr. William ThomasSkoog, Mrs. William (Anna Bernhardina Karlsson)Crafton, Mr. John BertramWidener, Mr. Harry ElkinsBarbara, Mrs. (Catherine David)Dean, Master. Bertram VereStokes, Mr. Philip JosephNewsom, Miss. Helen MonypenyAbrahamsson, Mr. Abraham August JohannesLefebre, Miss. IdaAndersson, Miss. Erna AlexandraTorber, Mr. Ernst WilliamSilverthorne, Mr. Spencer VictorSirayanian, Mr. OrsenByles, Rev. Thomas Roussel DavidsKarlsson, Mr. Julius Konrad EugenCoutts, Mrs. William (Winnie \"Minnie\" Treanor)Zabour, Miss. ThamineMoore, Mr. Clarence BloomfieldMcCoy, Mr. BernardVande Walle, Mr. Nestor CyrielWidener, Mr. George DuntonHawksford, Mr. Walter JamesNaidenoff, Mr. PenkoZimmerman, Mr. LeoRosenbaum, Miss. Edith LouiseGee, Mr. Arthur HAssaf Khalil, Mrs. Mariana (\"Miriam\")Elsbury, Mr. William JamesKimball, Mr. Edwin Nelson JrFrancatelli, Miss. Laura MabelWheeler, Mr. Edwin \"Frederick\"Wheadon, Mr. Edward HHassab, Mr. HammadOlsson, Mr. Nils Johan GoranssonAndersson, Miss. Ingeborg ConstanziaNajib, Miss. Adele Kiamie \"Jane\"Oliva y Ocana, Dona. FerminaWindelov, Mr. EinarNenkoff, Mr. ChristoMidtsjo, Mr. Karl AlbertBoulos, Master. AkarDooley, Mr. PatrickMoraweck, Dr. ErnestLong, Mr. Milton ClydeAstor, Col. John JacobAks, Master. Philip FrankAndersen-Jensen, Miss. Carla Christine NielsineAsplund, Miss. Lillian GertrudHarder, Mrs. George Achilles (Dorothy Annan)Goodwin, Master. Harold VictorWare, Mr. William JefferyPeters, Miss. KatieBrady, Mr. John BertramO\\'Connor, Mr. PatrickAndersson, Miss. Ida Augusta MargaretaFinoli, Mr. LuigiFord, Miss. Doolina Margaret \"Daisy\"Panula, Mr. Ernesti ArvidRadeff, Mr. AlexanderJohanson, Mr. Jakob AlfredOsman, Mrs. MaraWatson, Mr. Ennis HastingsHolthen, Mr. Johan MartinPeduzzi, Mr. JosephTodoroff, Mr. LalioJohnson, Mrs. Oscar W (Elisabeth Vilhelmina Berg)Bradley, Miss. Bridget DeliaBeavan, Mr. William ThomasTobin, Mr. RogerBaxter, Mrs. James (Helene DeLaudeniere Chaput)Dowdell, Miss. ElizabethO\\'Sullivan, Miss. Bridget MaryMorrow, Mr. Thomas RowanJensen, Mr. Svend LauritzChaudanson, Miss. VictorineOtter, Mr. RichardFortune, Miss. Mabel HelenO\\'Keefe, Mr. PatrickPetranec, Miss. MatildaAndersson, Miss. Ellis Anna MariaLines, Mrs. Ernest H (Elizabeth Lindsey James)Baclini, Miss. Helene BarbaraChaffee, Mrs. Herbert Fuller (Carrie Constance Toogood)Hendekovic, Mr. IgnjacAllum, Mr. Owen GeorgeSnyder, Mrs. John Pillsbury (Nelle Stevenson)Frolicher-Stehli, Mr. MaxmillianGoldsmith, Master. Frank John William \"Frankie\"Hyman, Mr. AbrahamSmith, Mrs. Lucien Philip (Mary Eloise Hughes)Mallet, Mrs. Albert (Antoinette Magnin)Kreuchen, Miss. EmilieDelalic, Mr. RedjoDenkoff, Mr. MittoPalsson, Miss. Torborg DaniraPeacock, Miss. TreasteallVander Planke, Mr. Leo EdmondusMoubarek, Master. Halim Gonios (\"William George\")Phillips, Miss. Kate Florence (\"Mrs Kate Louise Phillips Marshall\")Padro y Manent, Mr. JulianBjorklund, Mr. Ernst HerbertSalander, Mr. Karl JohanBissette, Miss. AmeliaBrocklebank, Mr. William AlfredLaitinen, Miss. Kristina SofiaMcGovern, Miss. MaryJensen, Mr. Niels PederGale, Mr. HarryKantor, Mrs. Sinai (Miriam Sternin)Carter, Miss. Lucile PolkMaybery, Mr. Frank HubertPears, Mr. Thomas ClintonCarter, Master. William Thornton IIMcCoy, Miss. AgnesMinahan, Dr. William EdwardWatt, Miss. Bertha JKeane, Miss. Nora AEklund, Mr. Hans LinusBeane, Mr. EdwardOlsen, Mr. Ole MartinAndrews, Miss. Kornelia TheodosiaMorley, Mr. WilliamSincock, Miss. MaudeForeman, Mr. Benjamin LaventallStanton, Mr. Samuel WardRothes, the Countess. of (Lucy Noel Martha Dyer-Edwards)Turcin, Mr. StjepanJohansson, Mr. NilsHaas, Miss. AloisiaLennon, Mr. DenisTucker, Mr. Gilbert Milligan JrMcCaffry, Mr. Thomas FrancisVander Planke, Miss. Augusta MariaJohannesen-Bratthammer, Mr. BerntGreenfield, Mrs. Leo David (Blanche Strouse)Wiklund, Mr. Jakob AlfredKassem, Mr. FaredHerman, Miss. KateKelly, Mr. JamesDyker, Mrs. Adolf Fredrik (Anna Elisabeth Judith Andersson)Maisner, Mr. SimonDimic, Mr. JovanDodge, Dr. WashingtonReed, Mr. James GeorgeBryhl, Mr. Kurt Arnold GottfridCleaver, Miss. AliceIvanoff, Mr. KanioYousseff, Mr. GeriousRush, Mr. Alfred George JohnBailey, Mr. Percy AndrewMillet, Mr. Francis DavisWick, Mrs. George Dennick (Mary Hitchcock)Dulles, Mr. William CrothersKhalil, Mrs. Betros (Zahie \"Maria\" Elias)Carrau, Mr. Francisco MToomey, Miss. EllenKelly, Mrs. Florence \"Fannie\"Nicola-Yarred, Master. EliasWeisz, Mrs. Leopold (Mathilde Francoise Pede)Ward, Miss. AnnaAsplund, Master. Edvin Rojj FelixGreenberg, Mr. SamuelEarnshaw, Mrs. Boulton (Olive Potter)Baclini, Mrs. Solomon (Latifa Qurban)Nirva, Mr. Iisakki Antino AijoFortune, Mr. MarkBerglund, Mr. Karl Ivar SvenLahoud, Mr. SarkisBentham, Miss. Lilian WSimonius-Blumer, Col. Oberst AlfonsGale, Mr. ShadrachSage, Mr. John GeorgeHonkanen, Miss. EliinaHeininen, Miss. Wendla MariaO\\'Brien, Mr. TimothyStorey, Mr. ThomasBanfield, Mr. Frederick JamesWoolner, Mr. HughAlexander, Mr. WilliamMaguire, Mr. John EdwardTouma, Mrs. Darwis (Hanne Youssef Razi)Cherry, Miss. GladysJohnson, Master. Harold TheodorPatchett, Mr. GeorgeMallet, Master. AndreLeyson, Mr. Robert William NormanCarlsson, Mr. Frans OlofLam, Mr. LenGoodwin, Master. William FrederickTaussig, Miss. RuthOsen, Mr. Olaf ElonMock, Mr. Philipp EdmundMitkoff, Mr. MitoSutton, Mr. FrederickHellstrom, Miss. Hilda MariaFrauenthal, Mrs. Henry William (Clara Heinsheimer)Burke, Mr. JeremiahJalsevac, Mr. IvanDean, Mrs. Bertram (Eva Georgetta Light)Jansson, Mr. Carl OlofCarlsson, Mr. Carl RobertWalcroft, Miss. NellieAsplund, Mr. Carl Oscar Vilhelm GustafssonKenyon, Mrs. Frederick R (Marion)O\\'Donoghue, Ms. BridgetSalkjelsvik, Miss. Anna KristineKink, Mr. VincenzPickard, Mr. Berk (Berk Trembisky)Keane, Mr. DanielColley, Mr. Edward PomeroyHarper, Mr. Henry SleeperSdycoff, Mr. TodorLongley, Miss. Gretchen FiskeHale, Mr. ReginaldWare, Mr. FrederickLines, Miss. Mary ConoverFoley, Mr. JosephMangiavacchi, Mr. Serafino EmilioCacic, Mr. LukaTaylor, Mrs. Elmer Zebley (Juliet Cummins Wright)McNamee, Mrs. Neal (Eileen O\\'Leary)Spedden, Mr. Frederic OakleyRouse, Mr. Richard HenryArnold-Franchi, Mrs. Josef (Josefine Franchi)Sinkkonen, Miss. AnnaToufik, Mr. NakliHodges, Mr. Henry PriceAngheloff, Mr. MinkoMcNamee, Mr. NealKalvik, Mr. Johannes HalvorsenDouglas, Mrs. Frederick Charles (Mary Helene Baxter)Lester, Mr. JamesHipkins, Mr. William EdwardBall, Mrs. (Ada E Hall)Ryerson, Mrs. Arthur Larned (Emily Maria Borie)Spencer, Mrs. William Augustus (Marie Eugenie)Ross, Mr. John HugoCacic, Mr. Jego GrgaCalderhead, Mr. Edward PenningtonElias, Mr. JosephBaxter, Mr. Quigg Edmonddel Carlo, Mrs. Sebastiano (Argenia Genovesi)Hegarty, Miss. Hanora \"Nora\"Spedden, Master. Robert DouglasMarechal, Mr. PierreFrolicher-Stehli, Mrs. Maxmillian (Margaretha Emerentia Stehli)Ponesell, Mr. MartinMellinger, Mrs. (Elizabeth Anne Maidment)Fleming, Miss. HonoraMoss, Mr. Albert JohanRobert, Mrs. Edward Scott (Elisabeth Walton McMillan)Sage, Mr. George John JrMahon, Miss. Bridget DeliaHealy, Miss. Hanora \"Nora\"Fox, Mr. Patrickvan Melkebeke, Mr. PhilemonSalonen, Mr. Johan WernerCacic, Miss. MandaArnold-Franchi, Mr. JosefPain, Dr. AlfredAli, Mr. WilliamTurkula, Mrs. (Hedwig)Butt, Major. Archibald WillinghamDavies, Mr. Alfred JHakkarainen, Mr. Pekka PietariRugg, Miss. EmilyKeane, Mr. Andrew \"Andy\"Meek, Mrs. Thomas (Annie Louise Rowley)Lulic, Mr. NikolaHickman, Mr. Leonard MarkWenzel, Mr. LinhartRyerson, Miss. Susan Parker \"Suzette\"Hippach, Miss. Jean GertrudeKlasen, Mrs. (Hulda Kristina Eugenia Lofqvist)Goldsmith, Mr. Frank JohnWare, Mrs. John James (Florence Louise Long)Vestrom, Miss. Hulda Amanda AdolfinaPenasco y Castellana, Mrs. Victor de Satode (Maria Josefa Perez de Soto y Vallejo)Linehan, Mr. MichaelGarside, Miss. EthelCarlsson, Mr. August SigfridCavendish, Mrs. Tyrell William (Julia Florence Siegel)Adahl, Mr. Mauritz Nils MartinIlmakangas, Miss. Ida LivijaAndrews, Mr. Thomas JrDavison, Mrs. Thomas Henry (Mary E Finck)Uruchurtu, Don. Manuel EThomas, Mr. TannousKimball, Mrs. Edwin Nelson Jr (Gertrude Parsons)Sandstrom, Miss. Beatrice IreneMoutal, Mr. Rahamin HaimO\\'Brien, Mrs. Thomas (Johanna \"Hannah\" Godfrey)Wilkes, Mrs. James (Ellen Needs)Miles, Mr. FrankChambers, Mrs. Norman Campbell (Bertha Griggs)Sjostedt, Mr. Ernst AdolfKlasen, Mr. Klas AlbinNysveen, Mr. Johan HansenHenriksson, Miss. Jenny LovisaStahelin-Maeglin, Dr. MaxAbelseth, Miss. Karen MarieRice, Master. AlbertHarris, Mr. Henry BirkhardtClark, Mr. Walter MillerSawyer, Mr. Frederick CharlesPartner, Mr. AustenCameron, Miss. Clear AnnieSilvey, Mr. William BairdOhman, Miss. VelinMarvin, Mr. Daniel WarnerDoling, Mrs. John T (Ada Julia Bone)Reynolds, Mr. Harold JCarter, Mrs. William Ernest (Lucile Polk)Duane, Mr. FrankAyoub, Miss. BanouraSvensson, Mr. OlofFlynn, Mr. John Irwin (\"Irving\")Beattie, Mr. ThomsonKarlsson, Mr. Einar GervasiusIbrahim Shawah, Mr. YousseffZakarian, Mr. OrtinNasr, Mr. MustafaBjornstrom-Steffansson, Mr. Mauritz HakanStengel, Mrs. Charles Emil Henry (Annie May Morris)Rosenshine, Mr. George (\"Mr George Thorne\")Gilbert, Mr. WilliamTurja, Miss. Anna SofiaHosono, Mr. MasabumiSpinner, Mr. Henry JohnQuick, Miss. Phyllis MaySunderland, Mr. Victor FrancisCoxon, Mr. DanielLingane, Mr. JohnSweet, Mr. George FrederickNaughton, Miss. HannahO\\'Dwyer, Miss. Ellen \"Nellie\"Hays, Mr. Charles MelvilleHansen, Mrs. Claus Peter (Jennie L Howard)Parkes, Mr. Francis \"Frank\"Abbing, Mr. AnthonySvensson, Mr. JohanHee, Mr. LingAli, Mr. AhmedDoyle, Miss. ElizabethSage, Mr. Douglas BullenMatthews, Mr. William JohnParrish, Mrs. (Lutie Davis)Rintamaki, Mr. MattiKilgannon, Mr. Thomas JRekic, Mr. TidoPerkin, Mr. John HenrySobey, Mr. Samuel James HaydenMudd, Mr. Thomas CharlesCarter, Rev. Ernest CourtenayHomer, Mr. Harry (\"Mr E Haven\")Coelho, Mr. Domingos FernandeoMineff, Mr. IvanSilvey, Mrs. William Baird (Alice Munger)Hewlett, Mrs. (Mary D Kingcome) Bateman, Rev. Robert JamesSvensson, Mr. Johan CervinRyerson, Miss. Emily BorieAbrahim, Mrs. Joseph (Sophie Halaut Easu)Hakkarainen, Mrs. Pekka Pietari (Elin Matilda Dolck)Nakid, Mr. SahidKelly, Miss. MarySmith, Mr. Lucien PhilipPayne, Mr. Vivian PonsonbyPearce, Mr. ErnestTaussig, Mrs. Emil (Tillie Mandelbaum)Maioni, Miss. RobertaFutrelle, Mr. Jacques HeathNankoff, Mr. MinkoCollyer, Mr. HarveyChapman, Mrs. John Henry (Sara Elizabeth Lawry)Lundstrom, Mr. Thure EdvinBorebank, Mr. John JamesFortune, Miss. Ethel FloraDuran y More, Miss. AsuncionClarke, Mr. Charles ValentineHart, Mr. BenjaminAsplund, Mr. Johan CharlesThomas, Mr. Charles PSaalfeld, Mr. AdolpheMinkoff, Mr. LazarBourke, Mrs. John (Catherine)Kallio, Mr. Nikolai ErlandMadigan, Miss. Margaret \"Maggie\"Ford, Mr. William NealTouma, Master. Georges YoussefJohnson, Mr. Malkolm JoackimNosworthy, Mr. Richard CaterFord, Mr. Edward WatsonBarah, Mr. Hanna AssiMcCormack, Mr. Thomas JosephRichards, Mrs. Sidney (Emily Hocking)Sandstrom, Mrs. Hjalmar (Agnes Charlotta Bengtsson)Risien, Mr. Samuel BeardBlank, Mr. HenrySlabenoff, Mr. PetcoRice, Master. ArthurPalsson, Mrs. Nils (Alma Cornelia Berglund)Moran, Mr. JamesMoubarek, Master. GeriosNancarrow, Mr. William HenrySlemen, Mr. Richard JamesAsplund, Master. Clarence Gustaf HugoRosblom, Mrs. Viktor (Helena Wilhelmina)Hickman, Mr. LewisHocking, Mr. Samuel James MetcalfeFynney, Mr. Joseph JJohnson, Miss. Eleanor IleenRheims, Mr. George Alexander LucienMcGough, Mr. James RobertAlbimona, Mr. Nassef CassemGoodwin, Mr. Charles EdwardKarlsson, Mr. Nils AugustWilliams, Mr. Charles EugeneHenry, Miss. DeliaDaniel, Mr. Robert WilliamsBaccos, Mr. RaffullFlynn, Mr. JamesSaundercock, Mr. William HenryCoutts, Master. William Loch \"William\"Fortune, Miss. Alice ElizabethIlett, Miss. BerthaEverett, Mr. Thomas JamesHart, Miss. Eva MiriamJohnson, Mr. AlfredKlasen, Miss. Gertrud EmiliaRyan, Mr. PatrickHansen, Mr. Claus PeterMeanwell, Miss. (Marion Ogden)Warren, Mrs. Frank Manley (Anna Sophia Atkinson)Heikkinen, Miss. LainaMurdlin, Mr. JosephVeal, Mr. JamesHickman, Mr. Stanley GeorgeAndersson, Mr. Anders JohanCaldwell, Mr. Albert FrancisAndrew, Mr. Edgardo SamuelAngle, Mr. William AAndersson, Mr. August Edvard (\"Wennerstrom\")Karnes, Mrs. J Frank (Claire Bennett)Quick, Miss. Winifred VeraOxenham, Mr. Percy ThomasBarry, Miss. JuliaLaleff, Mr. KristoCarbines, Mr. WilliamSadlier, Mr. MatthewMcKane, Mr. Peter DavidAsplund, Mrs. Carl Oscar (Selma Augusta Emilia Johansson)Johnston, Mrs. Andrew G (Elizabeth \"Lily\" Watson)Riordan, Miss. Johanna \"Hannah\"Andreasson, Mr. Paul EdvinBourke, Miss. MaryLouch, Mrs. Charles Alexander (Alice Adelaide Slow)Shine, Miss. Ellen NataliaBracken, Mr. James HMasselmani, Mrs. FatimaKenyon, Mr. Frederick RMallet, Mr. AlbertHarder, Mr. George AchillesHolverson, Mr. Alexander OskarCaram, Mr. JosephHarknett, Miss. Alice PhoebeKiernan, Mr. PhilipFarrell, Mr. JamesAssam, Mr. AliRothschild, Mr. MartinSirota, Mr. MauriceCarter, Mr. William ErnestLewy, Mr. Ervin GFranklin, Mr. Thomas ParhamKaraic, Mr. MilanPeter, Mrs. Catherine (Catherine Rizk)Corn, Mr. HarryBotsford, Mr. William HullClarke, Mrs. Charles V (Ada Maria Winfield)Emir, Mr. Farred ChehabCollett, Mr. Sidney C StuartSap, Mr. JuliusMoore, Mr. Leonard CharlesOlsen, Mr. Henry MargidoThomas, Mr. JohnAllison, Mrs. Hudson J C (Bessie Waldo Daniels)Roebling, Mr. Washington Augustus IILouch, Mr. Charles AlexanderWest, Mr. Edwy ArthurRobins, Mr. Alexander AMulvihill, Miss. Bertha EHampe, Mr. LeonGheorgheff, Mr. StanioCandee, Mrs. Edward (Helen Churchill Hungerford)O\\'Connell, Mr. Patrick DSamaan, Mr. HannaFrauenthal, Mr. Isaac GeraldMatinoff, Mr. NicolaMinahan, Mrs. William Edward (Lillian E Thorpe)Gaskell, Mr. AlfredCanavan, Miss. MaryRyerson, Mr. Arthur LarnedColbert, Mr. PatrickHogeboom, Mrs. John C (Anna Andrews)Allison, Master. Hudson TrevorHamalainen, Master. ViljoWidegren, Mr. Carl/Charles PeterSedgwick, Mr. Charles Frederick WaddingtonJohansson, Mr. Gustaf JoelBowenur, Mr. SolomonKarun, Mr. FranzHarper, Mrs. Henry Sleeper (Myna Haxtun)Skoog, Miss. MabelKnight, Mr. Robert JO\\'Leary, Miss. Hanora \"Norah\"Davies, Mr. Charles HenryLoring, Mr. Joseph HollandMolson, Mr. Harry MarklandCumings, Mrs. John Bradley (Florence Briggs Thayer)Smith, Mr. Richard WilliamKantor, Mr. SinaiBucknell, Mrs. William Robert (Emma Eliza Ward)Ringhini, Mr. SanteDownton, Mr. William JamesDavidson, Mrs. Thornton (Orian Hays)Drew, Master. Marshall BrinesHarris, Mr. GeorgeGreen, Mr. George HenrySilven, Miss. Lyyli KaroliinaCrosby, Capt. Edward GiffordColeridge, Mr. Reginald CharlesCollander, Mr. Erik GustafBecker, Miss. Ruth ElizabethCompton, Miss. Sara RebeccaRice, Master. George HughMarvin, Mrs. Daniel Warner (Mary Graham Carmichael Farquarson)Aronsson, Mr. Ernst Axel AlgotLindqvist, Mr. Eino WilliamDick, Mr. Albert AdrianCalic, Mr. JovoYoung, Miss. Marie GriceHays, Mrs. Charles Melville (Clara Jennings Gregg)Torfa, Mr. AssadNakid, Miss. Maria (\"Mary\")Stoytcheff, Mr. IliaOlsen, Master. Artur KarlFrauenthal, Dr. Henry WilliamGoldsmith, Mr. NathanHocking, Mrs. Elizabeth (Eliza Needs)Davies, Mr. JosephPengelly, Mr. Frederick WilliamHoward, Miss. May ElizabethDorking, Mr. Edward ArthurGillespie, Mr. William HenryBarton, Mr. David JohnAllison, Miss. Helen Loraine'\n 'femalefemalefemalemalemalemalemalemalemalemalemalemalemalemalemalemalefemalefemalefemalefemalemalemalemalemalefemalemalemalemalefemalemalefemalemalefemalefemalemalemalemalemalemalemalefemalemalemalefemalemalefemalefemalemalefemalemalefemalemalefemalefemalemalefemalemalemalemalemalefemalemalefemalemalemalefemalemalemalefemalemalemalemalefemalemalemalemalemalemalefemalefemalefemalefemalefemalemalemalefemalemalemalefemalefemalefemalefemalemalefemalefemalemalemalemalefemalemalemalemalemalemalemalemalefemalefemalemalefemalefemalemalefemalemalemalefemalefemalefemalefemalemalemalemalemalefemalefemalefemalemalemalemalemalefemalemalemalefemalemalefemalefemalemalemalemalemalemalefemalemalefemalemalemalemalemalemalefemalefemalemalemalefemalefemalemalemalemalefemalemalefemalefemalefemalefemalefemalefemalemalemalemalefemalemalefemalemalemalemalemalemalefemalemalemalefemalemalemalemalemalemalefemalemalemalemalemalemalemalemalefemalemalefemalemalefemalefemalemalemalefemalemalemalefemalemalemalemalefemalemalemalemalemalemalefemalefemalefemalemalemalefemalefemalemalemalefemalefemalemalemalefemalemalefemalefemalemalemalemalefemalefemalemalemalemalefemalemalemalemalemalemalemalemalefemalefemalemalefemalemalefemalemalemalefemalefemalemalemalemalemalemalemalemalefemalemalemalemalemalemalemalefemalefemalefemalemalemalemalemalefemalemalemalemalefemalemalemalefemalemalemalemalemalemalemalemalemalefemalemalemalemalemalemalemalefemalemalemalemalefemalefemalemalefemalemalefemalemalefemalemalefemalemalemalemalemalemalemalefemalemalefemalefemalemalefemalemalefemalemalefemalefemalefemalefemalemalemalemalefemalemalefemalemalemalemalemalemalemalefemalemalemalefemalemalemalemalefemalemalemalemalemalefemalemalemalemalefemalemalemalemalefemalemalefemalefemalefemalemalemalemalemalefemalemalemalefemalemalefemalemalefemalemalemalemalemalemalemalemalefemalemalemalemalefemalemalefemalefemalefemalefemalefemalefemalefemalemalefemalefemalefemalemalemalemalefemalefemalemalefemalemalemalemalefemalemalemalemalefemalemalefemalemalemalefemalemalemalefemalemalefemalefemalemalemalemalemalemalefemalefemalemalemalemalemalemalemalemalefemalemalefemalemalemalefemalemalemalemalemalefemalefemalefemalemalemalemalemalemalemalemalemalemalefemalefemalefemalemalemalefemalemalemalefemalemalefemalemalemalemalefemalemalemalemalemalefemalefemalemalemalefemalefemalefemalemalemalefemalemalefemalemalefemalefemalefemalefemalefemalemalemalefemalemalemalemalefemalefemalefemalemalemalefemalefemalemalemalefemalemalemalemalefemalemalefemalefemalemalemalefemalefemalemalemalemalefemalemalefemalefemalemalemalemalefemalemalefemalemalemalefemalemalemalefemalemalemalemalefemalemalefemalemalemalefemalemalefemalemalemalemalemalemalefemalemalemalemalemalemalefemalemalefemalemalefemalefemalemalefemalefemalemalemalefemalefemalemalemalemalemalefemalemalemalemalefemalefemalemalemalemalemalemalemalefemalefemalemalemalemalemalemalemalemalefemalemalemalemalemalefemalefemalemalemalefemalemalemalefemalemalefemalefemalefemalemalemalemalemalemalemalefemalemalemalefemalemalemalemalefemalefemalemalemalefemalefemalemalemalemalemalemalefemalemalemalefemalefemalefemalemalemalemalemalemalefemalefemalemalemalefemalemalefemalefemalemalefemalemalefemalefemalemalemalemalefemalemalemalemalefemalemalemalemalefemalemalefemalemalemalemalefemalefemalefemalemalefemalefemalefemalemalefemalemalefemalemalefemalemalefemalemalemalefemalefemalemalefemalefemalemalefemalemalemalemalefemalemalefemalemalemalemalemalemalefemalemalefemalemalefemalemalefemalemalefemalemalemalemalemalemalemalemalemalefemalemalemalefemalemalemalefemalemalemalemalemalefemalefemalemalefemalemalemalemalemalemalefemalemalemalefemalemalemalemalemalemalemalemalemalemalemalefemalefemalemalemalefemalefemalefemalemalefemalemalemalemalefemalefemalemalemalemalefemalemalemalefemalefemalemalemalemalemalemalemalefemalemalefemalemalemalemalemalemalemalemalefemalefemalemalemalemalemalefemalemalemalemalemalemalefemalemalemalemalefemalemalemalemalemalemalemalefemalemalemalemalemalemalefemalefemalemalefemalemalefemalemalemalefemalefemalefemalemalemalemalemalemalemalemalemalefemalefemalemalefemalemalemalemalemalefemalefemalefemalemalefemalefemalefemalemalefemalemalemalemalemalemalefemalemalemalemalemalemalemalemalemalemalefemalemalemalefemalemalemalemalemalemalemalefemalemalemalemalemalefemalemalemalefemalemalemalemalemalefemalemalefemalemalemalefemalemalemalemalemalemalemalemalefemalefemalemalefemalemalemalemalefemalemalemalefemalemalemalefemalemalemalemalefemalemalemalemalefemalefemalemalefemalemalemalemalemalefemalefemalemalefemalemalemalemalemalefemalemalemalefemalemalemalemalefemale'\n 'QQCSSQSCSSCCCSSSQSSCSSCSSSSCSSCSSSSSSSSSSSSSSQCSSSSQCCSSCSSCCCCSSSSSQSSSSSCSSSQSSSSSSCSSSSSCSSSSSSSSSSSSCSSCSCSSSSSQQSSSQSCSSQSCCSSSQSSSCSCCSSSSSSSSCSCCSCSSSSCCSCSCCSCSSSSSSSCSCSSSCSSSQSSSQSCSCSSCSSSSQCSSSCCSSQQSSSSSSQSSCQSSSSSSSQSCSSSSSSSSSCCCQCSSQCSCSQCSSCSQSSSCSCSSSSSQSSSSSSSSSSSSSSQQSCSSSCSSCSSCSCSSCSSCSQSSSSQSQSQCCSSCSSCCSSSSCQCSSSCCSSSSCSSQQSSSSSCSSCSSSSQSSSSCSCSSQSSQSSCQCSSSCSSSSQSSQSSCSSCSQCSSQSSSSSCCSCSCSCSCSSCCSSSCCSSSSSSSSCSSSCSQSCSSSCSCSSCSSCSSCCSSSCQSSCSSSCSSQSQSSSSSSSSSSSSQSQCSQQSCSSQSSSCSSSSCSSSCSSSSSSCSCSSSSSQSSSSSSSQQSQSSSSSSCCSSSSQCCSSCSCSSSSSSSSSSCSSSSCCSSSCSCSSCCSSSCSCSSSSQSSSSSCSSSCSSSSSSCSSSSQCSSSSSSQSSSQSCSSSSSQCSSSCSSSCSSSSCSSSCCCSSCCCQCCCSSQSSSQQQSSSSSSSSSSSQSSSSCCSSSSCQSSSSSSSCCSSSQSSSSSSSCSQSCSSSSSSSSSQCSSCSCCCSCCSSSSSSSQSQQSSSSSSSQSSSSQSSSSSCSSSSSSCCSCQSSSSSSSSSSSSCSSSCSSQSQSCSSSCQSSSCSQSQCSSSSSSSSSSCSSSQSCQSSSSSSSSQSSCSSSSSSSSSSSSQSSQSSSQSQSQSCSCCSCSQQSCSSCSSCSSSCSSSSCSSSSSQSCCQCCCQSQCQSSSSSSSCCSSQSSSCSSCCSSSSSSSSSSCQSSSSSCSCCSSSSSSSSSSSS'] to numeric",
     "output_type": "error",
     "traceback": [
      "\u001B[0;31m---------------------------------------------------------------------------\u001B[0m",
      "\u001B[0;31mTypeError\u001B[0m                                 Traceback (most recent call last)",
      "Input \u001B[0;32mIn [117]\u001B[0m, in \u001B[0;36m<cell line: 1>\u001B[0;34m()\u001B[0m\n\u001B[0;32m----> 1\u001B[0m fdataset \u001B[38;5;241m=\u001B[39m dataset\u001B[38;5;241m.\u001B[39mfillna(\u001B[43mdataset\u001B[49m\u001B[38;5;241;43m.\u001B[39;49m\u001B[43mmean\u001B[49m\u001B[43m(\u001B[49m\u001B[43m)\u001B[49m)\u001B[38;5;241m.\u001B[39mdrop(columns\u001B[38;5;241m=\u001B[39m[\u001B[38;5;124m\"\u001B[39m\u001B[38;5;124mname\u001B[39m\u001B[38;5;124m\"\u001B[39m, \u001B[38;5;124m\"\u001B[39m\u001B[38;5;124msex\u001B[39m\u001B[38;5;124m\"\u001B[39m, \u001B[38;5;124m\"\u001B[39m\u001B[38;5;124membarked\u001B[39m\u001B[38;5;124m\"\u001B[39m])\n\u001B[1;32m      2\u001B[0m X_train, X_test, y_train, y_test \u001B[38;5;241m=\u001B[39m train_test_split(fdataset\u001B[38;5;241m.\u001B[39mdrop(columns\u001B[38;5;241m=\u001B[39m[\u001B[38;5;124m\"\u001B[39m\u001B[38;5;124msurvived\u001B[39m\u001B[38;5;124m\"\u001B[39m]), fdataset[\u001B[38;5;124m\"\u001B[39m\u001B[38;5;124msurvived\u001B[39m\u001B[38;5;124m\"\u001B[39m], stratify\u001B[38;5;241m=\u001B[39mfdataset[\u001B[38;5;124m\"\u001B[39m\u001B[38;5;124msurvived\u001B[39m\u001B[38;5;124m\"\u001B[39m], test_size\u001B[38;5;241m=\u001B[39m\u001B[38;5;241m0.2\u001B[39m, random_state\u001B[38;5;241m=\u001B[39m\u001B[38;5;241m11\u001B[39m)\n\u001B[1;32m      3\u001B[0m X_train, X_test\n",
      "File \u001B[0;32m/opt/homebrew/lib/python3.9/site-packages/pandas/core/frame.py:11338\u001B[0m, in \u001B[0;36mDataFrame.mean\u001B[0;34m(self, axis, skipna, numeric_only, **kwargs)\u001B[0m\n\u001B[1;32m  11330\u001B[0m \u001B[38;5;129m@doc\u001B[39m(make_doc(\u001B[38;5;124m\"\u001B[39m\u001B[38;5;124mmean\u001B[39m\u001B[38;5;124m\"\u001B[39m, ndim\u001B[38;5;241m=\u001B[39m\u001B[38;5;241m2\u001B[39m))\n\u001B[1;32m  11331\u001B[0m \u001B[38;5;28;01mdef\u001B[39;00m \u001B[38;5;21mmean\u001B[39m(\n\u001B[1;32m  11332\u001B[0m     \u001B[38;5;28mself\u001B[39m,\n\u001B[0;32m   (...)\u001B[0m\n\u001B[1;32m  11336\u001B[0m     \u001B[38;5;241m*\u001B[39m\u001B[38;5;241m*\u001B[39mkwargs,\n\u001B[1;32m  11337\u001B[0m ):\n\u001B[0;32m> 11338\u001B[0m     result \u001B[38;5;241m=\u001B[39m \u001B[38;5;28;43msuper\u001B[39;49m\u001B[43m(\u001B[49m\u001B[43m)\u001B[49m\u001B[38;5;241;43m.\u001B[39;49m\u001B[43mmean\u001B[49m\u001B[43m(\u001B[49m\u001B[43maxis\u001B[49m\u001B[43m,\u001B[49m\u001B[43m \u001B[49m\u001B[43mskipna\u001B[49m\u001B[43m,\u001B[49m\u001B[43m \u001B[49m\u001B[43mnumeric_only\u001B[49m\u001B[43m,\u001B[49m\u001B[43m \u001B[49m\u001B[38;5;241;43m*\u001B[39;49m\u001B[38;5;241;43m*\u001B[39;49m\u001B[43mkwargs\u001B[49m\u001B[43m)\u001B[49m\n\u001B[1;32m  11339\u001B[0m     \u001B[38;5;28;01mif\u001B[39;00m \u001B[38;5;28misinstance\u001B[39m(result, Series):\n\u001B[1;32m  11340\u001B[0m         result \u001B[38;5;241m=\u001B[39m result\u001B[38;5;241m.\u001B[39m__finalize__(\u001B[38;5;28mself\u001B[39m, method\u001B[38;5;241m=\u001B[39m\u001B[38;5;124m\"\u001B[39m\u001B[38;5;124mmean\u001B[39m\u001B[38;5;124m\"\u001B[39m)\n",
      "File \u001B[0;32m/opt/homebrew/lib/python3.9/site-packages/pandas/core/generic.py:11978\u001B[0m, in \u001B[0;36mNDFrame.mean\u001B[0;34m(self, axis, skipna, numeric_only, **kwargs)\u001B[0m\n\u001B[1;32m  11971\u001B[0m \u001B[38;5;28;01mdef\u001B[39;00m \u001B[38;5;21mmean\u001B[39m(\n\u001B[1;32m  11972\u001B[0m     \u001B[38;5;28mself\u001B[39m,\n\u001B[1;32m  11973\u001B[0m     axis: Axis \u001B[38;5;241m|\u001B[39m \u001B[38;5;28;01mNone\u001B[39;00m \u001B[38;5;241m=\u001B[39m \u001B[38;5;241m0\u001B[39m,\n\u001B[0;32m   (...)\u001B[0m\n\u001B[1;32m  11976\u001B[0m     \u001B[38;5;241m*\u001B[39m\u001B[38;5;241m*\u001B[39mkwargs,\n\u001B[1;32m  11977\u001B[0m ) \u001B[38;5;241m-\u001B[39m\u001B[38;5;241m>\u001B[39m Series \u001B[38;5;241m|\u001B[39m \u001B[38;5;28mfloat\u001B[39m:\n\u001B[0;32m> 11978\u001B[0m     \u001B[38;5;28;01mreturn\u001B[39;00m \u001B[38;5;28;43mself\u001B[39;49m\u001B[38;5;241;43m.\u001B[39;49m\u001B[43m_stat_function\u001B[49m\u001B[43m(\u001B[49m\n\u001B[1;32m  11979\u001B[0m \u001B[43m        \u001B[49m\u001B[38;5;124;43m\"\u001B[39;49m\u001B[38;5;124;43mmean\u001B[39;49m\u001B[38;5;124;43m\"\u001B[39;49m\u001B[43m,\u001B[49m\u001B[43m \u001B[49m\u001B[43mnanops\u001B[49m\u001B[38;5;241;43m.\u001B[39;49m\u001B[43mnanmean\u001B[49m\u001B[43m,\u001B[49m\u001B[43m \u001B[49m\u001B[43maxis\u001B[49m\u001B[43m,\u001B[49m\u001B[43m \u001B[49m\u001B[43mskipna\u001B[49m\u001B[43m,\u001B[49m\u001B[43m \u001B[49m\u001B[43mnumeric_only\u001B[49m\u001B[43m,\u001B[49m\u001B[43m \u001B[49m\u001B[38;5;241;43m*\u001B[39;49m\u001B[38;5;241;43m*\u001B[39;49m\u001B[43mkwargs\u001B[49m\n\u001B[1;32m  11980\u001B[0m \u001B[43m    \u001B[49m\u001B[43m)\u001B[49m\n",
      "File \u001B[0;32m/opt/homebrew/lib/python3.9/site-packages/pandas/core/generic.py:11935\u001B[0m, in \u001B[0;36mNDFrame._stat_function\u001B[0;34m(self, name, func, axis, skipna, numeric_only, **kwargs)\u001B[0m\n\u001B[1;32m  11931\u001B[0m nv\u001B[38;5;241m.\u001B[39mvalidate_func(name, (), kwargs)\n\u001B[1;32m  11933\u001B[0m validate_bool_kwarg(skipna, \u001B[38;5;124m\"\u001B[39m\u001B[38;5;124mskipna\u001B[39m\u001B[38;5;124m\"\u001B[39m, none_allowed\u001B[38;5;241m=\u001B[39m\u001B[38;5;28;01mFalse\u001B[39;00m)\n\u001B[0;32m> 11935\u001B[0m \u001B[38;5;28;01mreturn\u001B[39;00m \u001B[38;5;28;43mself\u001B[39;49m\u001B[38;5;241;43m.\u001B[39;49m\u001B[43m_reduce\u001B[49m\u001B[43m(\u001B[49m\n\u001B[1;32m  11936\u001B[0m \u001B[43m    \u001B[49m\u001B[43mfunc\u001B[49m\u001B[43m,\u001B[49m\u001B[43m \u001B[49m\u001B[43mname\u001B[49m\u001B[38;5;241;43m=\u001B[39;49m\u001B[43mname\u001B[49m\u001B[43m,\u001B[49m\u001B[43m \u001B[49m\u001B[43maxis\u001B[49m\u001B[38;5;241;43m=\u001B[39;49m\u001B[43maxis\u001B[49m\u001B[43m,\u001B[49m\u001B[43m \u001B[49m\u001B[43mskipna\u001B[49m\u001B[38;5;241;43m=\u001B[39;49m\u001B[43mskipna\u001B[49m\u001B[43m,\u001B[49m\u001B[43m \u001B[49m\u001B[43mnumeric_only\u001B[49m\u001B[38;5;241;43m=\u001B[39;49m\u001B[43mnumeric_only\u001B[49m\n\u001B[1;32m  11937\u001B[0m \u001B[43m\u001B[49m\u001B[43m)\u001B[49m\n",
      "File \u001B[0;32m/opt/homebrew/lib/python3.9/site-packages/pandas/core/frame.py:11207\u001B[0m, in \u001B[0;36mDataFrame._reduce\u001B[0;34m(self, op, name, axis, skipna, numeric_only, filter_type, **kwds)\u001B[0m\n\u001B[1;32m  11203\u001B[0m     df \u001B[38;5;241m=\u001B[39m df\u001B[38;5;241m.\u001B[39mT\n\u001B[1;32m  11205\u001B[0m \u001B[38;5;66;03m# After possibly _get_data and transposing, we are now in the\u001B[39;00m\n\u001B[1;32m  11206\u001B[0m \u001B[38;5;66;03m#  simple case where we can use BlockManager.reduce\u001B[39;00m\n\u001B[0;32m> 11207\u001B[0m res \u001B[38;5;241m=\u001B[39m \u001B[43mdf\u001B[49m\u001B[38;5;241;43m.\u001B[39;49m\u001B[43m_mgr\u001B[49m\u001B[38;5;241;43m.\u001B[39;49m\u001B[43mreduce\u001B[49m\u001B[43m(\u001B[49m\u001B[43mblk_func\u001B[49m\u001B[43m)\u001B[49m\n\u001B[1;32m  11208\u001B[0m out \u001B[38;5;241m=\u001B[39m df\u001B[38;5;241m.\u001B[39m_constructor_from_mgr(res, axes\u001B[38;5;241m=\u001B[39mres\u001B[38;5;241m.\u001B[39maxes)\u001B[38;5;241m.\u001B[39miloc[\u001B[38;5;241m0\u001B[39m]\n\u001B[1;32m  11209\u001B[0m \u001B[38;5;28;01mif\u001B[39;00m out_dtype \u001B[38;5;129;01mis\u001B[39;00m \u001B[38;5;129;01mnot\u001B[39;00m \u001B[38;5;28;01mNone\u001B[39;00m \u001B[38;5;129;01mand\u001B[39;00m out\u001B[38;5;241m.\u001B[39mdtype \u001B[38;5;241m!=\u001B[39m \u001B[38;5;124m\"\u001B[39m\u001B[38;5;124mboolean\u001B[39m\u001B[38;5;124m\"\u001B[39m:\n",
      "File \u001B[0;32m/opt/homebrew/lib/python3.9/site-packages/pandas/core/internals/managers.py:1459\u001B[0m, in \u001B[0;36mBlockManager.reduce\u001B[0;34m(self, func)\u001B[0m\n\u001B[1;32m   1457\u001B[0m res_blocks: \u001B[38;5;28mlist\u001B[39m[Block] \u001B[38;5;241m=\u001B[39m []\n\u001B[1;32m   1458\u001B[0m \u001B[38;5;28;01mfor\u001B[39;00m blk \u001B[38;5;129;01min\u001B[39;00m \u001B[38;5;28mself\u001B[39m\u001B[38;5;241m.\u001B[39mblocks:\n\u001B[0;32m-> 1459\u001B[0m     nbs \u001B[38;5;241m=\u001B[39m \u001B[43mblk\u001B[49m\u001B[38;5;241;43m.\u001B[39;49m\u001B[43mreduce\u001B[49m\u001B[43m(\u001B[49m\u001B[43mfunc\u001B[49m\u001B[43m)\u001B[49m\n\u001B[1;32m   1460\u001B[0m     res_blocks\u001B[38;5;241m.\u001B[39mextend(nbs)\n\u001B[1;32m   1462\u001B[0m index \u001B[38;5;241m=\u001B[39m Index([\u001B[38;5;28;01mNone\u001B[39;00m])  \u001B[38;5;66;03m# placeholder\u001B[39;00m\n",
      "File \u001B[0;32m/opt/homebrew/lib/python3.9/site-packages/pandas/core/internals/blocks.py:377\u001B[0m, in \u001B[0;36mBlock.reduce\u001B[0;34m(self, func)\u001B[0m\n\u001B[1;32m    371\u001B[0m \u001B[38;5;129m@final\u001B[39m\n\u001B[1;32m    372\u001B[0m \u001B[38;5;28;01mdef\u001B[39;00m \u001B[38;5;21mreduce\u001B[39m(\u001B[38;5;28mself\u001B[39m, func) \u001B[38;5;241m-\u001B[39m\u001B[38;5;241m>\u001B[39m \u001B[38;5;28mlist\u001B[39m[Block]:\n\u001B[1;32m    373\u001B[0m     \u001B[38;5;66;03m# We will apply the function and reshape the result into a single-row\u001B[39;00m\n\u001B[1;32m    374\u001B[0m     \u001B[38;5;66;03m#  Block with the same mgr_locs; squeezing will be done at a higher level\u001B[39;00m\n\u001B[1;32m    375\u001B[0m     \u001B[38;5;28;01massert\u001B[39;00m \u001B[38;5;28mself\u001B[39m\u001B[38;5;241m.\u001B[39mndim \u001B[38;5;241m==\u001B[39m \u001B[38;5;241m2\u001B[39m\n\u001B[0;32m--> 377\u001B[0m     result \u001B[38;5;241m=\u001B[39m \u001B[43mfunc\u001B[49m\u001B[43m(\u001B[49m\u001B[38;5;28;43mself\u001B[39;49m\u001B[38;5;241;43m.\u001B[39;49m\u001B[43mvalues\u001B[49m\u001B[43m)\u001B[49m\n\u001B[1;32m    379\u001B[0m     \u001B[38;5;28;01mif\u001B[39;00m \u001B[38;5;28mself\u001B[39m\u001B[38;5;241m.\u001B[39mvalues\u001B[38;5;241m.\u001B[39mndim \u001B[38;5;241m==\u001B[39m \u001B[38;5;241m1\u001B[39m:\n\u001B[1;32m    380\u001B[0m         res_values \u001B[38;5;241m=\u001B[39m result\n",
      "File \u001B[0;32m/opt/homebrew/lib/python3.9/site-packages/pandas/core/frame.py:11139\u001B[0m, in \u001B[0;36mDataFrame._reduce.<locals>.blk_func\u001B[0;34m(values, axis)\u001B[0m\n\u001B[1;32m  11137\u001B[0m         \u001B[38;5;28;01mreturn\u001B[39;00m np\u001B[38;5;241m.\u001B[39marray([result])\n\u001B[1;32m  11138\u001B[0m \u001B[38;5;28;01melse\u001B[39;00m:\n\u001B[0;32m> 11139\u001B[0m     \u001B[38;5;28;01mreturn\u001B[39;00m \u001B[43mop\u001B[49m\u001B[43m(\u001B[49m\u001B[43mvalues\u001B[49m\u001B[43m,\u001B[49m\u001B[43m \u001B[49m\u001B[43maxis\u001B[49m\u001B[38;5;241;43m=\u001B[39;49m\u001B[43maxis\u001B[49m\u001B[43m,\u001B[49m\u001B[43m \u001B[49m\u001B[43mskipna\u001B[49m\u001B[38;5;241;43m=\u001B[39;49m\u001B[43mskipna\u001B[49m\u001B[43m,\u001B[49m\u001B[43m \u001B[49m\u001B[38;5;241;43m*\u001B[39;49m\u001B[38;5;241;43m*\u001B[39;49m\u001B[43mkwds\u001B[49m\u001B[43m)\u001B[49m\n",
      "File \u001B[0;32m/opt/homebrew/lib/python3.9/site-packages/pandas/core/nanops.py:147\u001B[0m, in \u001B[0;36mbottleneck_switch.__call__.<locals>.f\u001B[0;34m(values, axis, skipna, **kwds)\u001B[0m\n\u001B[1;32m    145\u001B[0m         result \u001B[38;5;241m=\u001B[39m alt(values, axis\u001B[38;5;241m=\u001B[39maxis, skipna\u001B[38;5;241m=\u001B[39mskipna, \u001B[38;5;241m*\u001B[39m\u001B[38;5;241m*\u001B[39mkwds)\n\u001B[1;32m    146\u001B[0m \u001B[38;5;28;01melse\u001B[39;00m:\n\u001B[0;32m--> 147\u001B[0m     result \u001B[38;5;241m=\u001B[39m \u001B[43malt\u001B[49m\u001B[43m(\u001B[49m\u001B[43mvalues\u001B[49m\u001B[43m,\u001B[49m\u001B[43m \u001B[49m\u001B[43maxis\u001B[49m\u001B[38;5;241;43m=\u001B[39;49m\u001B[43maxis\u001B[49m\u001B[43m,\u001B[49m\u001B[43m \u001B[49m\u001B[43mskipna\u001B[49m\u001B[38;5;241;43m=\u001B[39;49m\u001B[43mskipna\u001B[49m\u001B[43m,\u001B[49m\u001B[43m \u001B[49m\u001B[38;5;241;43m*\u001B[39;49m\u001B[38;5;241;43m*\u001B[39;49m\u001B[43mkwds\u001B[49m\u001B[43m)\u001B[49m\n\u001B[1;32m    149\u001B[0m \u001B[38;5;28;01mreturn\u001B[39;00m result\n",
      "File \u001B[0;32m/opt/homebrew/lib/python3.9/site-packages/pandas/core/nanops.py:404\u001B[0m, in \u001B[0;36m_datetimelike_compat.<locals>.new_func\u001B[0;34m(values, axis, skipna, mask, **kwargs)\u001B[0m\n\u001B[1;32m    401\u001B[0m \u001B[38;5;28;01mif\u001B[39;00m datetimelike \u001B[38;5;129;01mand\u001B[39;00m mask \u001B[38;5;129;01mis\u001B[39;00m \u001B[38;5;28;01mNone\u001B[39;00m:\n\u001B[1;32m    402\u001B[0m     mask \u001B[38;5;241m=\u001B[39m isna(values)\n\u001B[0;32m--> 404\u001B[0m result \u001B[38;5;241m=\u001B[39m \u001B[43mfunc\u001B[49m\u001B[43m(\u001B[49m\u001B[43mvalues\u001B[49m\u001B[43m,\u001B[49m\u001B[43m \u001B[49m\u001B[43maxis\u001B[49m\u001B[38;5;241;43m=\u001B[39;49m\u001B[43maxis\u001B[49m\u001B[43m,\u001B[49m\u001B[43m \u001B[49m\u001B[43mskipna\u001B[49m\u001B[38;5;241;43m=\u001B[39;49m\u001B[43mskipna\u001B[49m\u001B[43m,\u001B[49m\u001B[43m \u001B[49m\u001B[43mmask\u001B[49m\u001B[38;5;241;43m=\u001B[39;49m\u001B[43mmask\u001B[49m\u001B[43m,\u001B[49m\u001B[43m \u001B[49m\u001B[38;5;241;43m*\u001B[39;49m\u001B[38;5;241;43m*\u001B[39;49m\u001B[43mkwargs\u001B[49m\u001B[43m)\u001B[49m\n\u001B[1;32m    406\u001B[0m \u001B[38;5;28;01mif\u001B[39;00m datetimelike:\n\u001B[1;32m    407\u001B[0m     result \u001B[38;5;241m=\u001B[39m _wrap_results(result, orig_values\u001B[38;5;241m.\u001B[39mdtype, fill_value\u001B[38;5;241m=\u001B[39miNaT)\n",
      "File \u001B[0;32m/opt/homebrew/lib/python3.9/site-packages/pandas/core/nanops.py:720\u001B[0m, in \u001B[0;36mnanmean\u001B[0;34m(values, axis, skipna, mask)\u001B[0m\n\u001B[1;32m    718\u001B[0m count \u001B[38;5;241m=\u001B[39m _get_counts(values\u001B[38;5;241m.\u001B[39mshape, mask, axis, dtype\u001B[38;5;241m=\u001B[39mdtype_count)\n\u001B[1;32m    719\u001B[0m the_sum \u001B[38;5;241m=\u001B[39m values\u001B[38;5;241m.\u001B[39msum(axis, dtype\u001B[38;5;241m=\u001B[39mdtype_sum)\n\u001B[0;32m--> 720\u001B[0m the_sum \u001B[38;5;241m=\u001B[39m \u001B[43m_ensure_numeric\u001B[49m\u001B[43m(\u001B[49m\u001B[43mthe_sum\u001B[49m\u001B[43m)\u001B[49m\n\u001B[1;32m    722\u001B[0m \u001B[38;5;28;01mif\u001B[39;00m axis \u001B[38;5;129;01mis\u001B[39;00m \u001B[38;5;129;01mnot\u001B[39;00m \u001B[38;5;28;01mNone\u001B[39;00m \u001B[38;5;129;01mand\u001B[39;00m \u001B[38;5;28mgetattr\u001B[39m(the_sum, \u001B[38;5;124m\"\u001B[39m\u001B[38;5;124mndim\u001B[39m\u001B[38;5;124m\"\u001B[39m, \u001B[38;5;28;01mFalse\u001B[39;00m):\n\u001B[1;32m    723\u001B[0m     count \u001B[38;5;241m=\u001B[39m cast(np\u001B[38;5;241m.\u001B[39mndarray, count)\n",
      "File \u001B[0;32m/opt/homebrew/lib/python3.9/site-packages/pandas/core/nanops.py:1678\u001B[0m, in \u001B[0;36m_ensure_numeric\u001B[0;34m(x)\u001B[0m\n\u001B[1;32m   1675\u001B[0m inferred \u001B[38;5;241m=\u001B[39m lib\u001B[38;5;241m.\u001B[39minfer_dtype(x)\n\u001B[1;32m   1676\u001B[0m \u001B[38;5;28;01mif\u001B[39;00m inferred \u001B[38;5;129;01min\u001B[39;00m [\u001B[38;5;124m\"\u001B[39m\u001B[38;5;124mstring\u001B[39m\u001B[38;5;124m\"\u001B[39m, \u001B[38;5;124m\"\u001B[39m\u001B[38;5;124mmixed\u001B[39m\u001B[38;5;124m\"\u001B[39m]:\n\u001B[1;32m   1677\u001B[0m     \u001B[38;5;66;03m# GH#44008, GH#36703 avoid casting e.g. strings to numeric\u001B[39;00m\n\u001B[0;32m-> 1678\u001B[0m     \u001B[38;5;28;01mraise\u001B[39;00m \u001B[38;5;167;01mTypeError\u001B[39;00m(\u001B[38;5;124mf\u001B[39m\u001B[38;5;124m\"\u001B[39m\u001B[38;5;124mCould not convert \u001B[39m\u001B[38;5;132;01m{\u001B[39;00mx\u001B[38;5;132;01m}\u001B[39;00m\u001B[38;5;124m to numeric\u001B[39m\u001B[38;5;124m\"\u001B[39m)\n\u001B[1;32m   1679\u001B[0m \u001B[38;5;28;01mtry\u001B[39;00m:\n\u001B[1;32m   1680\u001B[0m     x \u001B[38;5;241m=\u001B[39m x\u001B[38;5;241m.\u001B[39mastype(np\u001B[38;5;241m.\u001B[39mcomplex128)\n",
      "\u001B[0;31mTypeError\u001B[0m: Could not convert ['Smyth, Miss. JuliaGlynn, Miss. Mary AgathaWhabee, Mrs. George Joseph (Shawneene Abi-Saab)Vovk, Mr. Jankode Pelsmaeker, Mr. AlfonsDaly, Mr. Eugene PatrickWiseman, Mr. PhillippeBirnbaum, Mr. JakobDanoff, Mr. YotoAsplund, Master. Filip OscarGreenfield, Mr. William BertramGoldenberg, Mr. Samuel LRobbins, Mr. VictorMcCrae, Mr. Arthur GordonVan Impe, Mr. Jean BaptisteRenouf, Mr. Peter HenryGilnagh, Miss. Katherine \"Katie\"Crosby, Miss. Harriet RShelley, Mrs. William (Imanita Parrish Hall)Laroche, Mrs. Joseph (Juliette Marie Louise Lafargue)Nicholson, Mr. Arthur ErnestDantcheff, Mr. RistiuCardeza, Mr. Thomas Drake MartinezMcCarthy, Mr. Timothy JWebber, Miss. SusanAbelseth, Mr. Olaus JorgensenJohnston, Master. William Arthur \"Willie\"Katavelas, Mr. Vassilios (\"Catavelas Vassilios\")Swift, Mrs. Frederick Joel (Margaret Welles Barron)Williams, Mr. Howard Hugh \"Harry\"Laroche, Miss. Simonne Marie Anne AndreeChaffee, Mr. Herbert FullerChristy, Miss. Julie RachelFunk, Miss. Annie ClemmerGiles, Mr. Frederick EdwardWilliams, Mr. LesliePorter, Mr. Walter ChamberlainVander Cruyssen, Mr. VictorHunt, Mr. George HenryWright, Mr. GeorgeNysten, Miss. Anna SofiaRichards, Master. George SibleyLarsson, Mr. Bengt EdvinTurpin, Mrs. William John Robert (Dorothy Ann Wonnacott)Lievens, Mr. Rene AimeBurns, Miss. Mary DeliaMayne, Mlle. Berthe Antonine (\"Mrs de Villiers\")Abbott, Mr. Rossmore EdwardDodge, Mrs. Washington (Ruth Vidaver)Chip, Mr. ChangWillard, Miss. ConstanceSmith, Mr. ThomasGibson, Miss. Dorothy WinifredMoubarek, Mrs. George (Omine \"Amenia\" Alexander)Asplund, Master. Carl EdgarHart, Mrs. Benjamin (Esther Ada Bloomfield)Krekorian, Mr. NeshanEitemiller, Mr. George FloydOreskovic, Mr. LukaSaad, Mr. KhalilThorne, Mrs. Gertrude MaybelleGuggenheim, Mr. BenjaminSchabert, Mrs. Paul (Emma Mock)Franklin, Mr. Charles (Charles Fardon)Jonkoff, Mr. LalioDavies, Mrs. John Morgan (Elizabeth Agnes Mary White) Skoog, Master. HaraldFortune, Mr. Charles AlexanderDaly, Miss. Margaret Marcella \"Maggie\"Rogers, Mr. William JohnDennis, Mr. SamuelAldworth, Mr. Charles AugustusCaldwell, Mrs. Albert Francis (Sylvia Mae Harbaugh)Panula, Mr. Jaako ArnoldLemberopolous, Mr. Peter LNiskanen, Mr. JuhaOlsvigen, Mr. Thor AndersonTenglin, Mr. Gunnar IsidorMcGowan, Miss. KatherineThorneycroft, Mrs. Percival (Florence Kate White)Lundin, Miss. Olga ElidaCribb, Miss. Laura AliceBryhl, Miss. Dagmar Jenny Ingeborg White, Mr. Percival WaylandWick, Mr. George DennickIsham, Miss. Ann ElizabethLam, Mr. AliChristmann, Mr. EmilFord, Mrs. Edward (Margaret Ann Watson)Goodwin, Miss. Lillian AmyCorey, Mrs. Percy C (Mary Phyllis Elizabeth Miller)Baclini, Miss. Marie CatherineParr, Mr. William Henry MarshAndersson, Miss. Sigrid ElisabethLefebre, Miss. JeannieWittevrongel, Mr. CamillePasic, Mr. JakobDika, Mr. MirkoSage, Mrs. John (Annie Bullen)Ilieff, Mr. YlioHolm, Mr. John Fredrik AlexanderVande Velde, Mr. Johannes JosephBostandyeff, Mr. GuentchoAllen, Mr. William HenryChronopoulos, Mr. DemetriosCor, Mr. LiudevitShutes, Miss. Elizabeth WGeiger, Miss. AmalieGivard, Mr. Hans KristensenSagesser, Mlle. EmmaCornell, Mrs. Robert Clifford (Malvina Helen Lamson)Slocovski, Mr. Selman FrancisLefebre, Miss. MathildeNilsson, Mr. August FerdinandDemetri, Mr. MarinkoMinahan, Miss. Daisy EMurphy, Miss. Katherine \"Kate\"Sjoblom, Miss. Anna SofiaGraham, Mrs. William Thompson (Edith Junkins)Stanley, Mr. Edward RolandCanavan, Mr. PatrickAndersson, Mr. Johan SamuelKhalil, Mr. BetrosFord, Miss. Robina Maggie \"Ruby\"Hirvonen, Miss. Hildur ELennon, Miss. MaryStrilic, Mr. IvanRazi, Mr. RaihedBishop, Mr. Dickinson HFahlstrom, Mr. Arne JonasBrown, Miss. Edith EileenNorman, Mr. Robert DouglasMyles, Mr. Thomas FrancisStrandberg, Miss. Ida SofiaDodge, Master. WashingtonKink-Heilmann, Miss. Luise GretchenCaram, Mrs. Joseph (Maria Elias)Clifford, Mr. George QuincyBetros, Master. SemanKraeff, Mr. TheodorTaussig, Mr. EmilButler, Mr. Reginald FentonLefebre, Mrs. Frank (Frances)Jonsson, Mr. CarlDrapkin, Miss. JennieHold, Mr. StephenHead, Mr. ChristopherDanbom, Master. Gilbert Sigvard EmanuelStengel, Mr. Charles Emil HenryDintcheff, Mr. ValtchoHays, Miss. Margaret BechsteinSerepeca, Miss. AugustaSomerton, Mr. Francis WilliamPernot, Mr. Renede Messemaeker, Mrs. Guillaume Joseph (Emma)Wells, Mrs. Arthur Henry (\"Addie\" Dart Trevaskis)Beesley, Mr. LawrenceAndersson, Master. Sigvard Harald EliasAttalah, Mr. SleimanBoulos, Miss. NourelainChisholm, Mr. Roderick Robert CrispinBowen, Miss. Grace ScottAhlin, Mrs. Johan (Johanna Persdotter Larsson)Widener, Mrs. George Dunton (Eleanor Elkins)Spedden, Mrs. Frederic Oakley (Margaretta Corning Stone)Wick, Miss. Mary NatalieBishop, Mrs. Dickinson H (Helen Walton)Humblen, Mr. Adolf Mathias Nicolai OlsenGill, Mr. John WilliamHarper, Rev. JohnWest, Miss. Barbara JWarren, Mr. Charles WilliamJacobsohn, Mrs. Sidney Samuel (Amy Frances Christy)Cotterill, Mr. Henry \"Harry\"Keeping, Mr. EdwinMitchell, Mr. Henry MichaelChronopoulos, Mr. ApostolosPalsson, Master. Paul FolkeFlegenheim, Mrs. Alfred (Antoinette)Goodwin, Master. Sidney LeonardBadt, Mr. MohamedDaniels, Miss. SarahStranden, Mr. JuhoDibden, Mr. WilliamScanlan, Mr. JamesWhite, Mr. Richard FrasarCairns, Mr. AlexanderGoodwin, Miss. Jessie AllisConlon, Mr. Thomas HenryVander Planke, Mr. JuliusNewell, Mr. Arthur WebsterPetroff, Mr. NedelioWarren, Mr. Frank ManleyChapman, Mr. Charles HenryStaneff, Mr. IvanZabour, Miss. HileniJacobsohn, Mr. Sidney SamuelNilsson, Miss. Berta OliviaCohen, Mr. Gurshon \"Gus\"Hamalainen, Mrs. William (Anna)Jermyn, Miss. AnnieStewart, Mr. Albert ADavies, Mr. EvanLeitch, Miss. Jessie WillsIsmay, Mr. Joseph BruceElias, Mr. DiboPotter, Mrs. Thomas Jr (Lily Alexenia Wilson)Navratil, Master. Michel MMaenpaa, Mr. Matti AlexanteriFoley, Mr. WilliamMcCarthy, Miss. Catherine \"Katie\"Vanden Steen, Mr. Leo PeterReeves, Mr. DavidMakinen, Mr. Kalle EdvardTikkanen, Mr. JuhoVan der hoef, Mr. WyckoffWest, Mrs. Edwy Arthur (Ada Mary Worth)McDermott, Miss. Brigdet DeliaBonnell, Miss. ElizabethShorney, Mr. Charles JosephNatsch, Mr. Charles HHagardon, Miss. KateCacic, Miss. MarijaCoutts, Master. Eden Leslie \"Neville\"Gronnestad, Mr. Daniel DanielsenCrosby, Mrs. Edward Gifford (Catherine Elizabeth Halstead)Andersson, Mrs. Anders Johan (Alfrida Konstantia Brogren)Pokrnic, Mr. MateSaether, Mr. Simon SivertsenCarr, Miss. JeanniePetroff, Mr. Pastcho (\"Pentcho\")Stephenson, Mrs. Walter Bertram (Martha Eustis)Christy, Mrs. (Alice Frances)Harrison, Mr. WilliamGiles, Mr. RalphMeo, Mr. AlfonzoWatt, Mrs. James (Elizabeth \"Bessie\" Inglis Milne)Troutt, Miss. Edwina Celia \"Winnie\"Carrau, Mr. Jose PedroLefebre, Master. Henry ForbesSeward, Mr. Frederic KimberOstby, Miss. Helene RagnhildOstby, Mr. Engelhart CorneliusYasbeck, Mr. AntoniFlynn, Mr. JohnWilliams, Mr. Charles DuanePekoniemi, Mr. EdvardMellors, Mr. William JohnMoran, Mr. Daniel JBurns, Miss. Elizabeth MargaretVander Planke, Mrs. Julius (Emelia Maria Vandemoortele)Kent, Mr. Edward AustinBecker, Mrs. Allen Oliver (Nellie E Baumgardner)O\\'Connor, Mr. MauriceLaroche, Miss. LouiseThorneycroft, Mr. PercivalMionoff, Mr. StoytchoNakid, Mrs. Said (Waika \"Mary\" Mowad)Olsson, Miss. ElinaConnaghton, Mr. MichaelDavidson, Mr. ThorntonBaumann, Mr. John DSkoog, Master. Karl ThorstenCumings, Mr. John BradleyBarkworth, Mr. Algernon Henry WilsonWilliams, Mr. Richard Norris IIHarper, Miss. Annie Jessie \"Nina\"Giles, Mr. EdgarHocking, Mr. Richard GeorgeGarfirth, Mr. JohnFrost, Mr. Anthony Wood \"Archie\"Lane, Mr. PatrickLeonard, Mr. LionelHocking, Miss. Ellen \"Nellie\"Lahtinen, Mrs. William (Anna Sylfven)Herman, Miss. AliceGustafsson, Mr. Karl GideonBirkeland, Mr. Hans Martin MonsenMontvila, Rev. JuozasEdvardsson, Mr. Gustaf HjalmarDahlberg, Miss. Gerda UlrikaMarkun, Mr. JohannChapman, Mr. John HenryLithman, Mr. SimonMellinger, Miss. Madeleine VioletLarsson, Mr. August ViktorRyan, Mr. EdwardMullens, Miss. Katherine \"Katie\"Petersen, Mr. MariusHoyt, Mr. William FisherCarver, Mr. Alfred JohnCampbell, Mr. WilliamVendel, Mr. Olof EdvinLaroche, Mr. Joseph Philippe LemercierSmiljanic, Mr. Milede Messemaeker, Mr. Guillaume JosephBaclini, Miss. EugenieBraund, Mr. Owen HarrisSharp, Mr. Percival James RNourney, Mr. Alfred (\"Baron von Drachstedt\")Gavey, Mr. LawrenceThayer, Mr. John Borland JrMadsen, Mr. Fridtjof ArneYrois, Miss. Henriette (\"Mrs Harbeck\")Elias, Mr. Joseph JrWilley, Mr. EdwardFillbrook, Mr. Joseph CharlesLeRoy, Miss. BerthaPettersson, Miss. Ellen NataliaMernagh, Mr. RobertPears, Mrs. Thomas (Edith Wearne)Dyker, Mr. Adolf FredrikNilsson, Miss. Helmina JosefinaGilinski, Mr. EliezerMannion, Miss. MargarethGoncalves, Mr. Manuel EstanslasMcGowan, Miss. Anna \"Annie\"Adams, Mr. JohnMcMahon, Mr. MartinHanna, Mr. MansourGiglio, Mr. VictorSage, Master. Thomas HenryFoo, Mr. ChoongDouglas, Mrs. Walter Donald (Mahala Dutton)Hagland, Mr. Ingvald Olai OlsenBadman, Miss. Emily LouisaEustis, Miss. Elizabeth MusseyThomas, Master. Assad AlexanderKink, Miss. MariaCor, Mr. IvanHoward, Mrs. Benjamin (Ellen Truelove Arman)Blackwell, Mr. Stephen WeartYasbeck, Mrs. Antoni (Selini Alexander)Mangan, Miss. MaryNewell, Miss. MadeleinePinsky, Mrs. (Rosa)Balkic, Mr. CerinPanula, Master. Eino ViljamiLeeni, Mr. Fahim (\"Philip Zenni\")Gibson, Mrs. Leonard (Pauline C Boeson)Jefferys, Mr. Ernest WilfredCarter, Mrs. Ernest Courtenay (Lilian Hughes)Jenkin, Mr. Stephen CurnowHedman, Mr. Oskar ArvidMamee, Mr. HannaSloper, Mr. William ThompsonBecker, Master. Richard FRice, Master. EugeneMcNeill, Miss. BridgetBowen, Mr. David John \"Dai\"Jones, Mr. Charles CressonBird, Miss. EllenAndersen, Mr. Albert KarvinAndrew, Mr. Frank ThomasRichard, Mr. EmileStrom, Mrs. Wilhelm (Elna Matilda Persson)van Billiard, Master. James WilliamElias, Mr. TannousDavison, Mr. Thomas HenryKeefe, Mr. ArthurReynaldo, Ms. EncarnacionSimmons, Mr. JohnKirkland, Rev. Charles LeonardParker, Mr. Clifford RichardMack, Mrs. (Mary)Celotti, Mr. FrancescoNiklasson, Mr. SamuelAbelson, Mr. SamuelKink-Heilmann, Mrs. Anton (Luise Heilmann)Thayer, Mr. John BorlandPeacock, Mrs. Benjamin (Edith Nile)Riihivouri, Miss. Susanna Juhantytar \"Sanni\"O\\'Driscoll, Miss. BridgetBackstrom, Mr. Karl AlfredSadowitz, Mr. HarryConnors, Mr. PatrickSundman, Mr. Johan JulianHiltunen, Miss. MartaPortaluppi, Mr. Emilio Ilario GiuseppeShaughnessy, Mr. PatrickGoldenberg, Mrs. Samuel L (Edwiga Grabowska)Faunthorpe, Mr. HarryLindblom, Miss. Augusta CharlottaLing, Mr. LeeAbelson, Mrs. Samuel (Hannah Wizosky)Taylor, Mr. Elmer ZebleySchmidt, Mr. AugustPokrnic, Mr. TomeBeauchamp, Mr. Henry JamesMahon, Mr. JohnWells, Master. Ralph LesterBing, Mr. LeeCarr, Miss. Helen \"Ellen\"Olsson, Mr. Oscar WilhelmDrew, Mr. James VivianBoulos, Mr. HannaBystrom, Mrs. (Karolina)Calic, Mr. PetarBazzani, Miss. AlbinaPalsson, Miss. Stina ViolaRice, Mrs. William (Margaret Norton)Barbara, Miss. SaiideBeane, Mrs. Edward (Ethel Clarke)Lemore, Mrs. (Amelia Milley)McCoy, Miss. Aliciade Brito, Mr. Jose JoaquimBraf, Miss. Elin Ester MariaSage, Miss. Stella AnnaQuick, Mrs. Frederick Charles (Jane Richards)Graham, Mr. George EdwardPallas y Castello, Mr. EmilioPulbaum, Mr. FranzCorbett, Mrs. Walter H (Irene Colvin)Newell, Miss. MarjorieMorley, Mr. Henry Samuel (\"Mr Henry Marshall\")Brown, Mrs. James Joseph (Margaret Tobin)Bengtsson, Mr. John ViktorGoldschmidt, Mr. George Bde Mulder, Mr. TheodoreThomas, Mrs. Alexander (Thamine \"Thelma\")Weir, Col. JohnTheobald, Mr. Thomas LeonardOmont, Mr. Alfred FernandRothschild, Mrs. Martin (Elizabeth L. Barrett)Stead, Mr. William ThomasSkoog, Mrs. William (Anna Bernhardina Karlsson)Crafton, Mr. John BertramWidener, Mr. Harry ElkinsBarbara, Mrs. (Catherine David)Dean, Master. Bertram VereStokes, Mr. Philip JosephNewsom, Miss. Helen MonypenyAbrahamsson, Mr. Abraham August JohannesLefebre, Miss. IdaAndersson, Miss. Erna AlexandraTorber, Mr. Ernst WilliamSilverthorne, Mr. Spencer VictorSirayanian, Mr. OrsenByles, Rev. Thomas Roussel DavidsKarlsson, Mr. Julius Konrad EugenCoutts, Mrs. William (Winnie \"Minnie\" Treanor)Zabour, Miss. ThamineMoore, Mr. Clarence BloomfieldMcCoy, Mr. BernardVande Walle, Mr. Nestor CyrielWidener, Mr. George DuntonHawksford, Mr. Walter JamesNaidenoff, Mr. PenkoZimmerman, Mr. LeoRosenbaum, Miss. Edith LouiseGee, Mr. Arthur HAssaf Khalil, Mrs. Mariana (\"Miriam\")Elsbury, Mr. William JamesKimball, Mr. Edwin Nelson JrFrancatelli, Miss. Laura MabelWheeler, Mr. Edwin \"Frederick\"Wheadon, Mr. Edward HHassab, Mr. HammadOlsson, Mr. Nils Johan GoranssonAndersson, Miss. Ingeborg ConstanziaNajib, Miss. Adele Kiamie \"Jane\"Oliva y Ocana, Dona. FerminaWindelov, Mr. EinarNenkoff, Mr. ChristoMidtsjo, Mr. Karl AlbertBoulos, Master. AkarDooley, Mr. PatrickMoraweck, Dr. ErnestLong, Mr. Milton ClydeAstor, Col. John JacobAks, Master. Philip FrankAndersen-Jensen, Miss. Carla Christine NielsineAsplund, Miss. Lillian GertrudHarder, Mrs. George Achilles (Dorothy Annan)Goodwin, Master. Harold VictorWare, Mr. William JefferyPeters, Miss. KatieBrady, Mr. John BertramO\\'Connor, Mr. PatrickAndersson, Miss. Ida Augusta MargaretaFinoli, Mr. LuigiFord, Miss. Doolina Margaret \"Daisy\"Panula, Mr. Ernesti ArvidRadeff, Mr. AlexanderJohanson, Mr. Jakob AlfredOsman, Mrs. MaraWatson, Mr. Ennis HastingsHolthen, Mr. Johan MartinPeduzzi, Mr. JosephTodoroff, Mr. LalioJohnson, Mrs. Oscar W (Elisabeth Vilhelmina Berg)Bradley, Miss. Bridget DeliaBeavan, Mr. William ThomasTobin, Mr. RogerBaxter, Mrs. James (Helene DeLaudeniere Chaput)Dowdell, Miss. ElizabethO\\'Sullivan, Miss. Bridget MaryMorrow, Mr. Thomas RowanJensen, Mr. Svend LauritzChaudanson, Miss. VictorineOtter, Mr. RichardFortune, Miss. Mabel HelenO\\'Keefe, Mr. PatrickPetranec, Miss. MatildaAndersson, Miss. Ellis Anna MariaLines, Mrs. Ernest H (Elizabeth Lindsey James)Baclini, Miss. Helene BarbaraChaffee, Mrs. Herbert Fuller (Carrie Constance Toogood)Hendekovic, Mr. IgnjacAllum, Mr. Owen GeorgeSnyder, Mrs. John Pillsbury (Nelle Stevenson)Frolicher-Stehli, Mr. MaxmillianGoldsmith, Master. Frank John William \"Frankie\"Hyman, Mr. AbrahamSmith, Mrs. Lucien Philip (Mary Eloise Hughes)Mallet, Mrs. Albert (Antoinette Magnin)Kreuchen, Miss. EmilieDelalic, Mr. RedjoDenkoff, Mr. MittoPalsson, Miss. Torborg DaniraPeacock, Miss. TreasteallVander Planke, Mr. Leo EdmondusMoubarek, Master. Halim Gonios (\"William George\")Phillips, Miss. Kate Florence (\"Mrs Kate Louise Phillips Marshall\")Padro y Manent, Mr. JulianBjorklund, Mr. Ernst HerbertSalander, Mr. Karl JohanBissette, Miss. AmeliaBrocklebank, Mr. William AlfredLaitinen, Miss. Kristina SofiaMcGovern, Miss. MaryJensen, Mr. Niels PederGale, Mr. HarryKantor, Mrs. Sinai (Miriam Sternin)Carter, Miss. Lucile PolkMaybery, Mr. Frank HubertPears, Mr. Thomas ClintonCarter, Master. William Thornton IIMcCoy, Miss. AgnesMinahan, Dr. William EdwardWatt, Miss. Bertha JKeane, Miss. Nora AEklund, Mr. Hans LinusBeane, Mr. EdwardOlsen, Mr. Ole MartinAndrews, Miss. Kornelia TheodosiaMorley, Mr. WilliamSincock, Miss. MaudeForeman, Mr. Benjamin LaventallStanton, Mr. Samuel WardRothes, the Countess. of (Lucy Noel Martha Dyer-Edwards)Turcin, Mr. StjepanJohansson, Mr. NilsHaas, Miss. AloisiaLennon, Mr. DenisTucker, Mr. Gilbert Milligan JrMcCaffry, Mr. Thomas FrancisVander Planke, Miss. Augusta MariaJohannesen-Bratthammer, Mr. BerntGreenfield, Mrs. Leo David (Blanche Strouse)Wiklund, Mr. Jakob AlfredKassem, Mr. FaredHerman, Miss. KateKelly, Mr. JamesDyker, Mrs. Adolf Fredrik (Anna Elisabeth Judith Andersson)Maisner, Mr. SimonDimic, Mr. JovanDodge, Dr. WashingtonReed, Mr. James GeorgeBryhl, Mr. Kurt Arnold GottfridCleaver, Miss. AliceIvanoff, Mr. KanioYousseff, Mr. GeriousRush, Mr. Alfred George JohnBailey, Mr. Percy AndrewMillet, Mr. Francis DavisWick, Mrs. George Dennick (Mary Hitchcock)Dulles, Mr. William CrothersKhalil, Mrs. Betros (Zahie \"Maria\" Elias)Carrau, Mr. Francisco MToomey, Miss. EllenKelly, Mrs. Florence \"Fannie\"Nicola-Yarred, Master. EliasWeisz, Mrs. Leopold (Mathilde Francoise Pede)Ward, Miss. AnnaAsplund, Master. Edvin Rojj FelixGreenberg, Mr. SamuelEarnshaw, Mrs. Boulton (Olive Potter)Baclini, Mrs. Solomon (Latifa Qurban)Nirva, Mr. Iisakki Antino AijoFortune, Mr. MarkBerglund, Mr. Karl Ivar SvenLahoud, Mr. SarkisBentham, Miss. Lilian WSimonius-Blumer, Col. Oberst AlfonsGale, Mr. ShadrachSage, Mr. John GeorgeHonkanen, Miss. EliinaHeininen, Miss. Wendla MariaO\\'Brien, Mr. TimothyStorey, Mr. ThomasBanfield, Mr. Frederick JamesWoolner, Mr. HughAlexander, Mr. WilliamMaguire, Mr. John EdwardTouma, Mrs. Darwis (Hanne Youssef Razi)Cherry, Miss. GladysJohnson, Master. Harold TheodorPatchett, Mr. GeorgeMallet, Master. AndreLeyson, Mr. Robert William NormanCarlsson, Mr. Frans OlofLam, Mr. LenGoodwin, Master. William FrederickTaussig, Miss. RuthOsen, Mr. Olaf ElonMock, Mr. Philipp EdmundMitkoff, Mr. MitoSutton, Mr. FrederickHellstrom, Miss. Hilda MariaFrauenthal, Mrs. Henry William (Clara Heinsheimer)Burke, Mr. JeremiahJalsevac, Mr. IvanDean, Mrs. Bertram (Eva Georgetta Light)Jansson, Mr. Carl OlofCarlsson, Mr. Carl RobertWalcroft, Miss. NellieAsplund, Mr. Carl Oscar Vilhelm GustafssonKenyon, Mrs. Frederick R (Marion)O\\'Donoghue, Ms. BridgetSalkjelsvik, Miss. Anna KristineKink, Mr. VincenzPickard, Mr. Berk (Berk Trembisky)Keane, Mr. DanielColley, Mr. Edward PomeroyHarper, Mr. Henry SleeperSdycoff, Mr. TodorLongley, Miss. Gretchen FiskeHale, Mr. ReginaldWare, Mr. FrederickLines, Miss. Mary ConoverFoley, Mr. JosephMangiavacchi, Mr. Serafino EmilioCacic, Mr. LukaTaylor, Mrs. Elmer Zebley (Juliet Cummins Wright)McNamee, Mrs. Neal (Eileen O\\'Leary)Spedden, Mr. Frederic OakleyRouse, Mr. Richard HenryArnold-Franchi, Mrs. Josef (Josefine Franchi)Sinkkonen, Miss. AnnaToufik, Mr. NakliHodges, Mr. Henry PriceAngheloff, Mr. MinkoMcNamee, Mr. NealKalvik, Mr. Johannes HalvorsenDouglas, Mrs. Frederick Charles (Mary Helene Baxter)Lester, Mr. JamesHipkins, Mr. William EdwardBall, Mrs. (Ada E Hall)Ryerson, Mrs. Arthur Larned (Emily Maria Borie)Spencer, Mrs. William Augustus (Marie Eugenie)Ross, Mr. John HugoCacic, Mr. Jego GrgaCalderhead, Mr. Edward PenningtonElias, Mr. JosephBaxter, Mr. Quigg Edmonddel Carlo, Mrs. Sebastiano (Argenia Genovesi)Hegarty, Miss. Hanora \"Nora\"Spedden, Master. Robert DouglasMarechal, Mr. PierreFrolicher-Stehli, Mrs. Maxmillian (Margaretha Emerentia Stehli)Ponesell, Mr. MartinMellinger, Mrs. (Elizabeth Anne Maidment)Fleming, Miss. HonoraMoss, Mr. Albert JohanRobert, Mrs. Edward Scott (Elisabeth Walton McMillan)Sage, Mr. George John JrMahon, Miss. Bridget DeliaHealy, Miss. Hanora \"Nora\"Fox, Mr. Patrickvan Melkebeke, Mr. PhilemonSalonen, Mr. Johan WernerCacic, Miss. MandaArnold-Franchi, Mr. JosefPain, Dr. AlfredAli, Mr. WilliamTurkula, Mrs. (Hedwig)Butt, Major. Archibald WillinghamDavies, Mr. Alfred JHakkarainen, Mr. Pekka PietariRugg, Miss. EmilyKeane, Mr. Andrew \"Andy\"Meek, Mrs. Thomas (Annie Louise Rowley)Lulic, Mr. NikolaHickman, Mr. Leonard MarkWenzel, Mr. LinhartRyerson, Miss. Susan Parker \"Suzette\"Hippach, Miss. Jean GertrudeKlasen, Mrs. (Hulda Kristina Eugenia Lofqvist)Goldsmith, Mr. Frank JohnWare, Mrs. John James (Florence Louise Long)Vestrom, Miss. Hulda Amanda AdolfinaPenasco y Castellana, Mrs. Victor de Satode (Maria Josefa Perez de Soto y Vallejo)Linehan, Mr. MichaelGarside, Miss. EthelCarlsson, Mr. August SigfridCavendish, Mrs. Tyrell William (Julia Florence Siegel)Adahl, Mr. Mauritz Nils MartinIlmakangas, Miss. Ida LivijaAndrews, Mr. Thomas JrDavison, Mrs. Thomas Henry (Mary E Finck)Uruchurtu, Don. Manuel EThomas, Mr. TannousKimball, Mrs. Edwin Nelson Jr (Gertrude Parsons)Sandstrom, Miss. Beatrice IreneMoutal, Mr. Rahamin HaimO\\'Brien, Mrs. Thomas (Johanna \"Hannah\" Godfrey)Wilkes, Mrs. James (Ellen Needs)Miles, Mr. FrankChambers, Mrs. Norman Campbell (Bertha Griggs)Sjostedt, Mr. Ernst AdolfKlasen, Mr. Klas AlbinNysveen, Mr. Johan HansenHenriksson, Miss. Jenny LovisaStahelin-Maeglin, Dr. MaxAbelseth, Miss. Karen MarieRice, Master. AlbertHarris, Mr. Henry BirkhardtClark, Mr. Walter MillerSawyer, Mr. Frederick CharlesPartner, Mr. AustenCameron, Miss. Clear AnnieSilvey, Mr. William BairdOhman, Miss. VelinMarvin, Mr. Daniel WarnerDoling, Mrs. John T (Ada Julia Bone)Reynolds, Mr. Harold JCarter, Mrs. William Ernest (Lucile Polk)Duane, Mr. FrankAyoub, Miss. BanouraSvensson, Mr. OlofFlynn, Mr. John Irwin (\"Irving\")Beattie, Mr. ThomsonKarlsson, Mr. Einar GervasiusIbrahim Shawah, Mr. YousseffZakarian, Mr. OrtinNasr, Mr. MustafaBjornstrom-Steffansson, Mr. Mauritz HakanStengel, Mrs. Charles Emil Henry (Annie May Morris)Rosenshine, Mr. George (\"Mr George Thorne\")Gilbert, Mr. WilliamTurja, Miss. Anna SofiaHosono, Mr. MasabumiSpinner, Mr. Henry JohnQuick, Miss. Phyllis MaySunderland, Mr. Victor FrancisCoxon, Mr. DanielLingane, Mr. JohnSweet, Mr. George FrederickNaughton, Miss. HannahO\\'Dwyer, Miss. Ellen \"Nellie\"Hays, Mr. Charles MelvilleHansen, Mrs. Claus Peter (Jennie L Howard)Parkes, Mr. Francis \"Frank\"Abbing, Mr. AnthonySvensson, Mr. JohanHee, Mr. LingAli, Mr. AhmedDoyle, Miss. ElizabethSage, Mr. Douglas BullenMatthews, Mr. William JohnParrish, Mrs. (Lutie Davis)Rintamaki, Mr. MattiKilgannon, Mr. Thomas JRekic, Mr. TidoPerkin, Mr. John HenrySobey, Mr. Samuel James HaydenMudd, Mr. Thomas CharlesCarter, Rev. Ernest CourtenayHomer, Mr. Harry (\"Mr E Haven\")Coelho, Mr. Domingos FernandeoMineff, Mr. IvanSilvey, Mrs. William Baird (Alice Munger)Hewlett, Mrs. (Mary D Kingcome) Bateman, Rev. Robert JamesSvensson, Mr. Johan CervinRyerson, Miss. Emily BorieAbrahim, Mrs. Joseph (Sophie Halaut Easu)Hakkarainen, Mrs. Pekka Pietari (Elin Matilda Dolck)Nakid, Mr. SahidKelly, Miss. MarySmith, Mr. Lucien PhilipPayne, Mr. Vivian PonsonbyPearce, Mr. ErnestTaussig, Mrs. Emil (Tillie Mandelbaum)Maioni, Miss. RobertaFutrelle, Mr. Jacques HeathNankoff, Mr. MinkoCollyer, Mr. HarveyChapman, Mrs. John Henry (Sara Elizabeth Lawry)Lundstrom, Mr. Thure EdvinBorebank, Mr. John JamesFortune, Miss. Ethel FloraDuran y More, Miss. AsuncionClarke, Mr. Charles ValentineHart, Mr. BenjaminAsplund, Mr. Johan CharlesThomas, Mr. Charles PSaalfeld, Mr. AdolpheMinkoff, Mr. LazarBourke, Mrs. John (Catherine)Kallio, Mr. Nikolai ErlandMadigan, Miss. Margaret \"Maggie\"Ford, Mr. William NealTouma, Master. Georges YoussefJohnson, Mr. Malkolm JoackimNosworthy, Mr. Richard CaterFord, Mr. Edward WatsonBarah, Mr. Hanna AssiMcCormack, Mr. Thomas JosephRichards, Mrs. Sidney (Emily Hocking)Sandstrom, Mrs. Hjalmar (Agnes Charlotta Bengtsson)Risien, Mr. Samuel BeardBlank, Mr. HenrySlabenoff, Mr. PetcoRice, Master. ArthurPalsson, Mrs. Nils (Alma Cornelia Berglund)Moran, Mr. JamesMoubarek, Master. GeriosNancarrow, Mr. William HenrySlemen, Mr. Richard JamesAsplund, Master. Clarence Gustaf HugoRosblom, Mrs. Viktor (Helena Wilhelmina)Hickman, Mr. LewisHocking, Mr. Samuel James MetcalfeFynney, Mr. Joseph JJohnson, Miss. Eleanor IleenRheims, Mr. George Alexander LucienMcGough, Mr. James RobertAlbimona, Mr. Nassef CassemGoodwin, Mr. Charles EdwardKarlsson, Mr. Nils AugustWilliams, Mr. Charles EugeneHenry, Miss. DeliaDaniel, Mr. Robert WilliamsBaccos, Mr. RaffullFlynn, Mr. JamesSaundercock, Mr. William HenryCoutts, Master. William Loch \"William\"Fortune, Miss. Alice ElizabethIlett, Miss. BerthaEverett, Mr. Thomas JamesHart, Miss. Eva MiriamJohnson, Mr. AlfredKlasen, Miss. Gertrud EmiliaRyan, Mr. PatrickHansen, Mr. Claus PeterMeanwell, Miss. (Marion Ogden)Warren, Mrs. Frank Manley (Anna Sophia Atkinson)Heikkinen, Miss. LainaMurdlin, Mr. JosephVeal, Mr. JamesHickman, Mr. Stanley GeorgeAndersson, Mr. Anders JohanCaldwell, Mr. Albert FrancisAndrew, Mr. Edgardo SamuelAngle, Mr. William AAndersson, Mr. August Edvard (\"Wennerstrom\")Karnes, Mrs. J Frank (Claire Bennett)Quick, Miss. Winifred VeraOxenham, Mr. Percy ThomasBarry, Miss. JuliaLaleff, Mr. KristoCarbines, Mr. WilliamSadlier, Mr. MatthewMcKane, Mr. Peter DavidAsplund, Mrs. Carl Oscar (Selma Augusta Emilia Johansson)Johnston, Mrs. Andrew G (Elizabeth \"Lily\" Watson)Riordan, Miss. Johanna \"Hannah\"Andreasson, Mr. Paul EdvinBourke, Miss. MaryLouch, Mrs. Charles Alexander (Alice Adelaide Slow)Shine, Miss. Ellen NataliaBracken, Mr. James HMasselmani, Mrs. FatimaKenyon, Mr. Frederick RMallet, Mr. AlbertHarder, Mr. George AchillesHolverson, Mr. Alexander OskarCaram, Mr. JosephHarknett, Miss. Alice PhoebeKiernan, Mr. PhilipFarrell, Mr. JamesAssam, Mr. AliRothschild, Mr. MartinSirota, Mr. MauriceCarter, Mr. William ErnestLewy, Mr. Ervin GFranklin, Mr. Thomas ParhamKaraic, Mr. MilanPeter, Mrs. Catherine (Catherine Rizk)Corn, Mr. HarryBotsford, Mr. William HullClarke, Mrs. Charles V (Ada Maria Winfield)Emir, Mr. Farred ChehabCollett, Mr. Sidney C StuartSap, Mr. JuliusMoore, Mr. Leonard CharlesOlsen, Mr. Henry MargidoThomas, Mr. JohnAllison, Mrs. Hudson J C (Bessie Waldo Daniels)Roebling, Mr. Washington Augustus IILouch, Mr. Charles AlexanderWest, Mr. Edwy ArthurRobins, Mr. Alexander AMulvihill, Miss. Bertha EHampe, Mr. LeonGheorgheff, Mr. StanioCandee, Mrs. Edward (Helen Churchill Hungerford)O\\'Connell, Mr. Patrick DSamaan, Mr. HannaFrauenthal, Mr. Isaac GeraldMatinoff, Mr. NicolaMinahan, Mrs. William Edward (Lillian E Thorpe)Gaskell, Mr. AlfredCanavan, Miss. MaryRyerson, Mr. Arthur LarnedColbert, Mr. PatrickHogeboom, Mrs. John C (Anna Andrews)Allison, Master. Hudson TrevorHamalainen, Master. ViljoWidegren, Mr. Carl/Charles PeterSedgwick, Mr. Charles Frederick WaddingtonJohansson, Mr. Gustaf JoelBowenur, Mr. SolomonKarun, Mr. FranzHarper, Mrs. Henry Sleeper (Myna Haxtun)Skoog, Miss. MabelKnight, Mr. Robert JO\\'Leary, Miss. Hanora \"Norah\"Davies, Mr. Charles HenryLoring, Mr. Joseph HollandMolson, Mr. Harry MarklandCumings, Mrs. John Bradley (Florence Briggs Thayer)Smith, Mr. Richard WilliamKantor, Mr. SinaiBucknell, Mrs. William Robert (Emma Eliza Ward)Ringhini, Mr. SanteDownton, Mr. William JamesDavidson, Mrs. Thornton (Orian Hays)Drew, Master. Marshall BrinesHarris, Mr. GeorgeGreen, Mr. George HenrySilven, Miss. Lyyli KaroliinaCrosby, Capt. Edward GiffordColeridge, Mr. Reginald CharlesCollander, Mr. Erik GustafBecker, Miss. Ruth ElizabethCompton, Miss. Sara RebeccaRice, Master. George HughMarvin, Mrs. Daniel Warner (Mary Graham Carmichael Farquarson)Aronsson, Mr. Ernst Axel AlgotLindqvist, Mr. Eino WilliamDick, Mr. Albert AdrianCalic, Mr. JovoYoung, Miss. Marie GriceHays, Mrs. Charles Melville (Clara Jennings Gregg)Torfa, Mr. AssadNakid, Miss. Maria (\"Mary\")Stoytcheff, Mr. IliaOlsen, Master. Artur KarlFrauenthal, Dr. Henry WilliamGoldsmith, Mr. NathanHocking, Mrs. Elizabeth (Eliza Needs)Davies, Mr. JosephPengelly, Mr. Frederick WilliamHoward, Miss. May ElizabethDorking, Mr. Edward ArthurGillespie, Mr. William HenryBarton, Mr. David JohnAllison, Miss. Helen Loraine'\n 'femalefemalefemalemalemalemalemalemalemalemalemalemalemalemalemalemalefemalefemalefemalefemalemalemalemalemalefemalemalemalemalefemalemalefemalemalefemalefemalemalemalemalemalemalemalefemalemalemalefemalemalefemalefemalemalefemalemalefemalemalefemalefemalemalefemalemalemalemalemalefemalemalefemalemalemalefemalemalemalefemalemalemalemalefemalemalemalemalemalemalefemalefemalefemalefemalefemalemalemalefemalemalemalefemalefemalefemalefemalemalefemalefemalemalemalemalefemalemalemalemalemalemalemalemalefemalefemalemalefemalefemalemalefemalemalemalefemalefemalefemalefemalemalemalemalemalefemalefemalefemalemalemalemalemalefemalemalemalefemalemalefemalefemalemalemalemalemalemalefemalemalefemalemalemalemalemalemalefemalefemalemalemalefemalefemalemalemalemalefemalemalefemalefemalefemalefemalefemalefemalemalemalemalefemalemalefemalemalemalemalemalemalefemalemalemalefemalemalemalemalemalemalefemalemalemalemalemalemalemalemalefemalemalefemalemalefemalefemalemalemalefemalemalemalefemalemalemalemalefemalemalemalemalemalemalefemalefemalefemalemalemalefemalefemalemalemalefemalefemalemalemalefemalemalefemalefemalemalemalemalefemalefemalemalemalemalefemalemalemalemalemalemalemalemalefemalefemalemalefemalemalefemalemalemalefemalefemalemalemalemalemalemalemalemalefemalemalemalemalemalemalemalefemalefemalefemalemalemalemalemalefemalemalemalemalefemalemalemalefemalemalemalemalemalemalemalemalemalefemalemalemalemalemalemalemalefemalemalemalemalefemalefemalemalefemalemalefemalemalefemalemalefemalemalemalemalemalemalemalefemalemalefemalefemalemalefemalemalefemalemalefemalefemalefemalefemalemalemalemalefemalemalefemalemalemalemalemalemalemalefemalemalemalefemalemalemalemalefemalemalemalemalemalefemalemalemalemalefemalemalemalemalefemalemalefemalefemalefemalemalemalemalemalefemalemalemalefemalemalefemalemalefemalemalemalemalemalemalemalemalefemalemalemalemalefemalemalefemalefemalefemalefemalefemalefemalefemalemalefemalefemalefemalemalemalemalefemalefemalemalefemalemalemalemalefemalemalemalemalefemalemalefemalemalemalefemalemalemalefemalemalefemalefemalemalemalemalemalemalefemalefemalemalemalemalemalemalemalemalefemalemalefemalemalemalefemalemalemalemalemalefemalefemalefemalemalemalemalemalemalemalemalemalemalefemalefemalefemalemalemalefemalemalemalefemalemalefemalemalemalemalefemalemalemalemalemalefemalefemalemalemalefemalefemalefemalemalemalefemalemalefemalemalefemalefemalefemalefemalefemalemalemalefemalemalemalemalefemalefemalefemalemalemalefemalefemalemalemalefemalemalemalemalefemalemalefemalefemalemalemalefemalefemalemalemalemalefemalemalefemalefemalemalemalemalefemalemalefemalemalemalefemalemalemalefemalemalemalemalefemalemalefemalemalemalefemalemalefemalemalemalemalemalemalefemalemalemalemalemalemalefemalemalefemalemalefemalefemalemalefemalefemalemalemalefemalefemalemalemalemalemalefemalemalemalemalefemalefemalemalemalemalemalemalemalefemalefemalemalemalemalemalemalemalemalefemalemalemalemalemalefemalefemalemalemalefemalemalemalefemalemalefemalefemalefemalemalemalemalemalemalemalefemalemalemalefemalemalemalemalefemalefemalemalemalefemalefemalemalemalemalemalemalefemalemalemalefemalefemalefemalemalemalemalemalemalefemalefemalemalemalefemalemalefemalefemalemalefemalemalefemalefemalemalemalemalefemalemalemalemalefemalemalemalemalefemalemalefemalemalemalemalefemalefemalefemalemalefemalefemalefemalemalefemalemalefemalemalefemalemalefemalemalemalefemalefemalemalefemalefemalemalefemalemalemalemalefemalemalefemalemalemalemalemalemalefemalemalefemalemalefemalemalefemalemalefemalemalemalemalemalemalemalemalemalefemalemalemalefemalemalemalefemalemalemalemalemalefemalefemalemalefemalemalemalemalemalemalefemalemalemalefemalemalemalemalemalemalemalemalemalemalemalefemalefemalemalemalefemalefemalefemalemalefemalemalemalemalefemalefemalemalemalemalefemalemalemalefemalefemalemalemalemalemalemalemalefemalemalefemalemalemalemalemalemalemalemalefemalefemalemalemalemalemalefemalemalemalemalemalemalefemalemalemalemalefemalemalemalemalemalemalemalefemalemalemalemalemalemalefemalefemalemalefemalemalefemalemalemalefemalefemalefemalemalemalemalemalemalemalemalemalefemalefemalemalefemalemalemalemalemalefemalefemalefemalemalefemalefemalefemalemalefemalemalemalemalemalemalefemalemalemalemalemalemalemalemalemalemalefemalemalemalefemalemalemalemalemalemalemalefemalemalemalemalemalefemalemalemalefemalemalemalemalemalefemalemalefemalemalemalefemalemalemalemalemalemalemalemalefemalefemalemalefemalemalemalemalefemalemalemalefemalemalemalefemalemalemalemalefemalemalemalemalefemalefemalemalefemalemalemalemalemalefemalefemalemalefemalemalemalemalemalefemalemalemalefemalemalemalemalefemale'\n 'QQCSSQSCSSCCCSSSQSSCSSCSSSSCSSCSSSSSSSSSSSSSSQCSSSSQCCSSCSSCCCCSSSSSQSSSSSCSSSQSSSSSSCSSSSSCSSSSSSSSSSSSCSSCSCSSSSSQQSSSQSCSSQSCCSSSQSSSCSCCSSSSSSSSCSCCSCSSSSCCSCSCCSCSSSSSSSCSCSSSCSSSQSSSQSCSCSSCSSSSQCSSSCCSSQQSSSSSSQSSCQSSSSSSSQSCSSSSSSSSSCCCQCSSQCSCSQCSSCSQSSSCSCSSSSSQSSSSSSSSSSSSSSQQSCSSSCSSCSSCSCSSCSSCSQSSSSQSQSQCCSSCSSCCSSSSCQCSSSCCSSSSCSSQQSSSSSCSSCSSSSQSSSSCSCSSQSSQSSCQCSSSCSSSSQSSQSSCSSCSQCSSQSSSSSCCSCSCSCSCSSCCSSSCCSSSSSSSSCSSSCSQSCSSSCSCSSCSSCSSCCSSSCQSSCSSSCSSQSQSSSSSSSSSSSSQSQCSQQSCSSQSSSCSSSSCSSSCSSSSSSCSCSSSSSQSSSSSSSQQSQSSSSSSCCSSSSQCCSSCSCSSSSSSSSSSCSSSSCCSSSCSCSSCCSSSCSCSSSSQSSSSSCSSSCSSSSSSCSSSSQCSSSSSSQSSSQSCSSSSSQCSSSCSSSCSSSSCSSSCCCSSCCCQCCCSSQSSSQQQSSSSSSSSSSSQSSSSCCSSSSCQSSSSSSSCCSSSQSSSSSSSCSQSCSSSSSSSSSQCSSCSCCCSCCSSSSSSSQSQQSSSSSSSQSSSSQSSSSSCSSSSSSCCSCQSSSSSSSSSSSSCSSSCSSQSQSCSSSCQSSSCSQSQCSSSSSSSSSSCSSSQSCQSSSSSSSSQSSCSSSSSSSSSSSSQSSQSSSQSQSQSCSCCSCSQQSCSSCSSCSSSCSSSSCSSSSSQSCCQCCCQSQCQSSSSSSSCCSSQSSSCSSCCSSSSSSSSSSCQSSSSSCSCCSSSSSSSSSSSS'] to numeric"
     ]
    }
   ],
   "source": [
    "fdataset = dataset.fillna(dataset.mean()).drop(columns=[\"name\", \"sex\", \"embarked\"])\n",
    "X_train, X_test, y_train, y_test = train_test_split(fdataset.drop(columns=[\"survived\"]), fdataset[\"survived\"], stratify=fdataset[\"survived\"], test_size=0.2, random_state=11)\n",
    "X_train, X_test"
   ]
  },
  {
   "cell_type": "code",
   "execution_count": null,
   "metadata": {
    "tags": [],
    "colab": {
     "base_uri": "https://localhost:8080/"
    },
    "id": "GaYGr4AdUpm2",
    "outputId": "7fa1f70f-eecc-46a3-d330-a68adc39cfdb",
    "ExecuteTime": {
     "start_time": "2023-10-15T00:22:35.241043Z"
    }
   },
   "outputs": [],
   "source": [
    "reg = LogisticRegression(random_state=11, max_iter=1000).fit(X_train, y_train)\n",
    "\n",
    "f1_score(y_test, reg.predict(X_test))"
   ]
  },
  {
   "cell_type": "markdown",
   "metadata": {
    "id": "dxuJDvb1_p_e"
   },
   "source": [
    "## Заполнение пропусков на основе обращения"
   ]
  },
  {
   "cell_type": "markdown",
   "metadata": {
    "id": "9ew5okxzKdLh"
   },
   "source": [
    "\n",
    "Очевидно, что заполнение пропусков в колонке <code>age</code> средним — не самая разумная идея. Возможно, стоит выполнить эту процедуру как-то более интеллектуально, например, с оглядкой на обращение к человеку. \n",
    "\n",
    "Можно заметить, что исходный датасет в столбце <code>name</code> содержит информацию о социальном статусе пассажира, а именно присутсвуют обращения <code>Mr., Mrs., Dr.</code> и т.д. На основе этой информации можно попробовать сделать предположение о возрасте пассажира.\n",
    "\n",
    "Верните в рассмотрение колонку <code>name</code>. Создайте отдельную колонку <code>honorific</code> и поместите туда значения обращений.\n",
    "\n",
    "Вычислите число уникальных обращений."
   ]
  },
  {
   "cell_type": "code",
   "execution_count": null,
   "metadata": {
    "id": "fMbYRoa-DArO",
    "colab": {
     "base_uri": "https://localhost:8080/"
    },
    "outputId": "1aedaaae-4436-499b-f103-2bb05081b256",
    "ExecuteTime": {
     "start_time": "2023-10-15T00:22:35.242220Z"
    }
   },
   "outputs": [],
   "source": [
    "name_df = dataset\n",
    "\n",
    "def find_honorific(name):\n",
    "    return name.split(', ')[1].split('.')[0].split()[-1]\n",
    "\n",
    "name_df[\"honorific\"] = name_df[\"name\"].apply(find_honorific)\n",
    "len(name_df[\"honorific\"].unique())"
   ]
  },
  {
   "cell_type": "markdown",
   "metadata": {
    "id": "6HNMeGu9GJWN"
   },
   "source": [
    "Скорее всего имеет смысл сократить число обращений, добавив малочисленные группы к более многочисленным, так как принципиальной разницы между, например, <code>Don</code> и <code>Mr</code>, видимо, нет. Отметим, что <code>Master</code> — это прежнее обращение к ребенку, с этим обращением будем работать отдельно.\n",
    "\n",
    "\n",
    "\n",
    "\n",
    "Выполните следующие замены:\n",
    "\n",
    "<code>Mr</code> $\\leftarrow$ <code>['Rev', 'Col', 'Dr', 'Major', 'Don', 'Capt']</code>\n",
    "\n",
    "<code>Mrs</code> $\\leftarrow$ <code> ['Dona', 'Countess']</code>\n",
    "\n",
    "<code>Miss</code> $\\leftarrow$ <code> ['Mlle', 'Ms']</code>"
   ]
  },
  {
   "cell_type": "code",
   "execution_count": null,
   "metadata": {
    "id": "jiQBH3_8G0SF",
    "ExecuteTime": {
     "start_time": "2023-10-15T00:22:35.243320Z"
    }
   },
   "outputs": [],
   "source": [
    "name_df[\"honorific\"] = name_df[\"honorific\"].replace(['Rev', 'Col', 'Dr', 'Major', 'Don', 'Capt'], \"Mr\")\n",
    "name_df[\"honorific\"] = name_df[\"honorific\"].replace(['Dona', 'Countess'], \"Mrs\")\n",
    "name_df[\"honorific\"] = name_df[\"honorific\"].replace(['Mlle', 'Ms'], \"Miss\")"
   ]
  },
  {
   "cell_type": "markdown",
   "metadata": {
    "id": "qh-KpfttKxYD"
   },
   "source": [
    "Вычислите долю строк со значением <code>Master</code> относительно числа всех мужчин"
   ]
  },
  {
   "cell_type": "code",
   "execution_count": null,
   "metadata": {
    "id": "2g2fHrAGK_CA",
    "colab": {
     "base_uri": "https://localhost:8080/"
    },
    "outputId": "abd50a44-e84f-444c-f3f0-ff84a4c9257f",
    "ExecuteTime": {
     "start_time": "2023-10-15T00:22:35.244380Z"
    }
   },
   "outputs": [],
   "source": [
    "len(name_df[name_df[\"honorific\"] == \"Master\"])/len(name_df[name_df[\"sex\"] == \"male\"])"
   ]
  },
  {
   "cell_type": "markdown",
   "metadata": {
    "id": "XD7hs0k7L77K"
   },
   "source": [
    "Вычислите средний возраст категории, указанной в вашем индивидуальном задании"
   ]
  },
  {
   "cell_type": "code",
   "execution_count": null,
   "metadata": {
    "id": "stKBPTCQMGlf",
    "colab": {
     "base_uri": "https://localhost:8080/"
    },
    "outputId": "f6f7d2cf-91bd-4b53-d0ed-54ae3926620d",
    "ExecuteTime": {
     "start_time": "2023-10-15T00:22:35.245306Z"
    }
   },
   "outputs": [],
   "source": [
    "name_df[name_df[\"honorific\"] == \"Mrs\"][\"age\"].mean()"
   ]
  },
  {
   "cell_type": "markdown",
   "metadata": {
    "id": "cQ4Z0tKNLk_B"
   },
   "source": [
    "Заполните пропуски в колонке <code>age</code> средним, соответствующим среднему категории <code>honorific</code>.\n",
    "\n",
    "Избавьтесь от нечисловых признаков. Далее аналогично: разделение, обучение, оценка.\n",
    "\n",
    "Вычислите <code>f1_score</code> модели на тестовых данных"
   ]
  },
  {
   "cell_type": "code",
   "execution_count": null,
   "metadata": {
    "id": "B5c_i_6HN3aA",
    "colab": {
     "base_uri": "https://localhost:8080/"
    },
    "outputId": "f9dcd67b-0edf-42ff-dd38-7cedc9850014",
    "ExecuteTime": {
     "start_time": "2023-10-15T00:22:35.246238Z"
    }
   },
   "outputs": [],
   "source": [
    "honor_mean = name_df.groupby('honorific')['age'].mean()\n",
    "\n",
    "for honor in honor_mean.index:\n",
    "    cur = (name_df['honorific'] == honor) & name_df['age'].isna()\n",
    "    name_df['age'].loc[cur] = honor_mean[honor]\n",
    "\n",
    "X_train, X_test, y_train, y_test = train_test_split(name_df.drop(columns=[\"survived\", \"name\", \"sex\", \"embarked\", \"honorific\"]), name_df[\"survived\"], stratify=name_df[\"survived\"], test_size=0.2, random_state=11)\n",
    "\n",
    "reg = LogisticRegression(random_state=11, max_iter=1000).fit(X_train, y_train)\n",
    "\n",
    "f1_score(y_test, reg.predict(X_test))"
   ]
  },
  {
   "cell_type": "markdown",
   "metadata": {
    "id": "YGCBn1fiSbjG"
   },
   "source": [
    "# Модель с использование категориальных признаков"
   ]
  },
  {
   "cell_type": "markdown",
   "metadata": {
    "id": "BlILajPNTMgL"
   },
   "source": [
    "В исходном наборе данных заполните пропуски колонки <code>age</code> значениями на основе обращений (как в предыдущем пункте).\n",
    "\n",
    "Не используйте признаки <code>name</code> и <code>honorific</code>. Они свою функцию выполнили.\n",
    "\n",
    "Произведите <code>one-hot</code> кодировние нечисловых признаков, например, с помощью <code>pd.get_dummies(drop_first=True)</code>. Далее по знакомой схеме: разделение, обучение, оценка.\n",
    "\n",
    "Вычислите <code>f1_score</code> модели на тестовых данных"
   ]
  },
  {
   "cell_type": "code",
   "execution_count": null,
   "metadata": {
    "id": "AiRm3GIdUsVt",
    "tags": [],
    "colab": {
     "base_uri": "https://localhost:8080/"
    },
    "outputId": "b58aa052-8686-46d8-a817-45bd913aae5a",
    "ExecuteTime": {
     "start_time": "2023-10-15T00:22:35.247252Z"
    }
   },
   "outputs": [],
   "source": [
    "name_df = name_df.drop(columns=[\"name\", \"honorific\"])\n",
    "name_df = pd.get_dummies(name_df, drop_first=True)\n",
    "X_train, X_test, y_train, y_test = train_test_split(name_df.drop(columns=[\"survived\"]), name_df[\"survived\"], stratify=name_df[\"survived\"], test_size=0.2, random_state=13)\n",
    "\n",
    "reg = LogisticRegression(random_state=11, max_iter=1000).fit(X_train, y_train)\n",
    "\n",
    "f1_score(y_test, reg.predict(X_test))"
   ]
  },
  {
   "cell_type": "code",
   "source": [
    "reg = LogisticRegression(random_state=23, max_iter=5000).fit(name_df.drop(columns=[\"survived\"]), name_df[\"survived\"])\n",
    "f1_score(name_df[\"survived\"], reg.predict(name_df.drop(columns=[\"survived\"])))"
   ],
   "metadata": {
    "colab": {
     "base_uri": "https://localhost:8080/"
    },
    "id": "3YZcQKc10Pqg",
    "outputId": "ff5b5d54-e94f-407c-eb0f-ecc8b6f09929",
    "ExecuteTime": {
     "start_time": "2023-10-15T00:22:35.248214Z"
    }
   },
   "execution_count": null,
   "outputs": []
  },
  {
   "cell_type": "code",
   "execution_count": null,
   "outputs": [],
   "source": [],
   "metadata": {
    "collapsed": false,
    "ExecuteTime": {
     "start_time": "2023-10-15T00:22:35.248958Z"
    }
   }
  },
  {
   "cell_type": "code",
   "source": [
    "reserved = pd.read_csv(\"data/titanic_reserved.csv\")\n",
    "\n",
    "reserved = reserved.drop(columns=[\"cabin\", \"ticket\", \"home.dest\"])\n",
    "\n",
    "reserved[\"fam_size\"] = reserved[\"sibsp\"]+reserved[\"parch\"]\n",
    "reserved = reserved.drop(columns=[\"sibsp\", \"parch\"])\n",
    "reserved"
   ],
   "metadata": {
    "colab": {
     "base_uri": "https://localhost:8080/",
     "height": 424
    },
    "id": "X2YWfOiQ4yiZ",
    "outputId": "3ad162a1-730b-4aad-e7de-6ff9d8ad5d3d",
    "ExecuteTime": {
     "start_time": "2023-10-15T00:22:35.249609Z"
    }
   },
   "execution_count": null,
   "outputs": []
  },
  {
   "cell_type": "code",
   "source": [
    "reserved[\"honorific\"] = reserved[\"name\"].apply(find_honorific)\n",
    "reserved[\"honorific\"] = reserved[\"honorific\"].replace(['Rev', 'Col', 'Dr', 'Major', 'Don', 'Capt'], \"Mr\")\n",
    "reserved[\"honorific\"] = reserved[\"honorific\"].replace(['Dona', 'Countess'], \"Mrs\")\n",
    "reserved[\"honorific\"] = reserved[\"honorific\"].replace(['Mlle', 'Ms'], \"Miss\")\n",
    "reserved"
   ],
   "metadata": {
    "colab": {
     "base_uri": "https://localhost:8080/",
     "height": 424
    },
    "id": "sc_t31Zv6uFZ",
    "outputId": "04e88e40-31a8-4d39-fca5-b8ce20635037",
    "ExecuteTime": {
     "start_time": "2023-10-15T00:22:35.250217Z"
    }
   },
   "execution_count": null,
   "outputs": []
  },
  {
   "cell_type": "code",
   "source": [
    "honor_mean = reserved.groupby('honorific')['age'].mean()\n",
    "\n",
    "for honor in honor_mean.index:\n",
    "    cur = (reserved['honorific'] == honor) & reserved['age'].isna()\n",
    "    reserved['age'].loc[cur] = honor_mean[honor]\n",
    "reserved"
   ],
   "metadata": {
    "colab": {
     "base_uri": "https://localhost:8080/",
     "height": 510
    },
    "id": "E3KOjIak7Yy4",
    "outputId": "d6a44069-7ed6-4344-ca6a-188e29ddcd30",
    "ExecuteTime": {
     "start_time": "2023-10-15T00:22:35.250798Z"
    }
   },
   "execution_count": null,
   "outputs": []
  },
  {
   "cell_type": "code",
   "source": [
    "reserved = reserved.drop(columns=[\"honorific\", \"name\"])\n",
    "\n",
    "reserved = pd.get_dummies(reserved, drop_first=True)\n",
    "reserved"
   ],
   "metadata": {
    "colab": {
     "base_uri": "https://localhost:8080/",
     "height": 424
    },
    "id": "aShwmgWQ7xtA",
    "outputId": "3423c6db-6098-4b32-9bf5-ff2f5cfaa0c2",
    "ExecuteTime": {
     "end_time": "2023-10-15T00:22:41.586907Z",
     "start_time": "2023-10-15T00:22:41.584756Z"
    }
   },
   "execution_count": 119,
   "outputs": [
    {
     "ename": "KeyError",
     "evalue": "\"['honorific', 'name'] not found in axis\"",
     "output_type": "error",
     "traceback": [
      "\u001B[0;31m---------------------------------------------------------------------------\u001B[0m",
      "\u001B[0;31mKeyError\u001B[0m                                  Traceback (most recent call last)",
      "Input \u001B[0;32mIn [119]\u001B[0m, in \u001B[0;36m<cell line: 1>\u001B[0;34m()\u001B[0m\n\u001B[0;32m----> 1\u001B[0m reserved \u001B[38;5;241m=\u001B[39m \u001B[43mreserved\u001B[49m\u001B[38;5;241;43m.\u001B[39;49m\u001B[43mdrop\u001B[49m\u001B[43m(\u001B[49m\u001B[43mcolumns\u001B[49m\u001B[38;5;241;43m=\u001B[39;49m\u001B[43m[\u001B[49m\u001B[38;5;124;43m\"\u001B[39;49m\u001B[38;5;124;43mhonorific\u001B[39;49m\u001B[38;5;124;43m\"\u001B[39;49m\u001B[43m,\u001B[49m\u001B[43m \u001B[49m\u001B[38;5;124;43m\"\u001B[39;49m\u001B[38;5;124;43mname\u001B[39;49m\u001B[38;5;124;43m\"\u001B[39;49m\u001B[43m]\u001B[49m\u001B[43m)\u001B[49m\n\u001B[1;32m      3\u001B[0m reserved \u001B[38;5;241m=\u001B[39m pd\u001B[38;5;241m.\u001B[39mget_dummies(reserved, drop_first\u001B[38;5;241m=\u001B[39m\u001B[38;5;28;01mTrue\u001B[39;00m)\n\u001B[1;32m      4\u001B[0m reserved\n",
      "File \u001B[0;32m/opt/homebrew/lib/python3.9/site-packages/pandas/core/frame.py:5347\u001B[0m, in \u001B[0;36mDataFrame.drop\u001B[0;34m(self, labels, axis, index, columns, level, inplace, errors)\u001B[0m\n\u001B[1;32m   5199\u001B[0m \u001B[38;5;28;01mdef\u001B[39;00m \u001B[38;5;21mdrop\u001B[39m(\n\u001B[1;32m   5200\u001B[0m     \u001B[38;5;28mself\u001B[39m,\n\u001B[1;32m   5201\u001B[0m     labels: IndexLabel \u001B[38;5;241m|\u001B[39m \u001B[38;5;28;01mNone\u001B[39;00m \u001B[38;5;241m=\u001B[39m \u001B[38;5;28;01mNone\u001B[39;00m,\n\u001B[0;32m   (...)\u001B[0m\n\u001B[1;32m   5208\u001B[0m     errors: IgnoreRaise \u001B[38;5;241m=\u001B[39m \u001B[38;5;124m\"\u001B[39m\u001B[38;5;124mraise\u001B[39m\u001B[38;5;124m\"\u001B[39m,\n\u001B[1;32m   5209\u001B[0m ) \u001B[38;5;241m-\u001B[39m\u001B[38;5;241m>\u001B[39m DataFrame \u001B[38;5;241m|\u001B[39m \u001B[38;5;28;01mNone\u001B[39;00m:\n\u001B[1;32m   5210\u001B[0m     \u001B[38;5;124;03m\"\"\"\u001B[39;00m\n\u001B[1;32m   5211\u001B[0m \u001B[38;5;124;03m    Drop specified labels from rows or columns.\u001B[39;00m\n\u001B[1;32m   5212\u001B[0m \n\u001B[0;32m   (...)\u001B[0m\n\u001B[1;32m   5345\u001B[0m \u001B[38;5;124;03m            weight  1.0     0.8\u001B[39;00m\n\u001B[1;32m   5346\u001B[0m \u001B[38;5;124;03m    \"\"\"\u001B[39;00m\n\u001B[0;32m-> 5347\u001B[0m     \u001B[38;5;28;01mreturn\u001B[39;00m \u001B[38;5;28;43msuper\u001B[39;49m\u001B[43m(\u001B[49m\u001B[43m)\u001B[49m\u001B[38;5;241;43m.\u001B[39;49m\u001B[43mdrop\u001B[49m\u001B[43m(\u001B[49m\n\u001B[1;32m   5348\u001B[0m \u001B[43m        \u001B[49m\u001B[43mlabels\u001B[49m\u001B[38;5;241;43m=\u001B[39;49m\u001B[43mlabels\u001B[49m\u001B[43m,\u001B[49m\n\u001B[1;32m   5349\u001B[0m \u001B[43m        \u001B[49m\u001B[43maxis\u001B[49m\u001B[38;5;241;43m=\u001B[39;49m\u001B[43maxis\u001B[49m\u001B[43m,\u001B[49m\n\u001B[1;32m   5350\u001B[0m \u001B[43m        \u001B[49m\u001B[43mindex\u001B[49m\u001B[38;5;241;43m=\u001B[39;49m\u001B[43mindex\u001B[49m\u001B[43m,\u001B[49m\n\u001B[1;32m   5351\u001B[0m \u001B[43m        \u001B[49m\u001B[43mcolumns\u001B[49m\u001B[38;5;241;43m=\u001B[39;49m\u001B[43mcolumns\u001B[49m\u001B[43m,\u001B[49m\n\u001B[1;32m   5352\u001B[0m \u001B[43m        \u001B[49m\u001B[43mlevel\u001B[49m\u001B[38;5;241;43m=\u001B[39;49m\u001B[43mlevel\u001B[49m\u001B[43m,\u001B[49m\n\u001B[1;32m   5353\u001B[0m \u001B[43m        \u001B[49m\u001B[43minplace\u001B[49m\u001B[38;5;241;43m=\u001B[39;49m\u001B[43minplace\u001B[49m\u001B[43m,\u001B[49m\n\u001B[1;32m   5354\u001B[0m \u001B[43m        \u001B[49m\u001B[43merrors\u001B[49m\u001B[38;5;241;43m=\u001B[39;49m\u001B[43merrors\u001B[49m\u001B[43m,\u001B[49m\n\u001B[1;32m   5355\u001B[0m \u001B[43m    \u001B[49m\u001B[43m)\u001B[49m\n",
      "File \u001B[0;32m/opt/homebrew/lib/python3.9/site-packages/pandas/core/generic.py:4711\u001B[0m, in \u001B[0;36mNDFrame.drop\u001B[0;34m(self, labels, axis, index, columns, level, inplace, errors)\u001B[0m\n\u001B[1;32m   4709\u001B[0m \u001B[38;5;28;01mfor\u001B[39;00m axis, labels \u001B[38;5;129;01min\u001B[39;00m axes\u001B[38;5;241m.\u001B[39mitems():\n\u001B[1;32m   4710\u001B[0m     \u001B[38;5;28;01mif\u001B[39;00m labels \u001B[38;5;129;01mis\u001B[39;00m \u001B[38;5;129;01mnot\u001B[39;00m \u001B[38;5;28;01mNone\u001B[39;00m:\n\u001B[0;32m-> 4711\u001B[0m         obj \u001B[38;5;241m=\u001B[39m \u001B[43mobj\u001B[49m\u001B[38;5;241;43m.\u001B[39;49m\u001B[43m_drop_axis\u001B[49m\u001B[43m(\u001B[49m\u001B[43mlabels\u001B[49m\u001B[43m,\u001B[49m\u001B[43m \u001B[49m\u001B[43maxis\u001B[49m\u001B[43m,\u001B[49m\u001B[43m \u001B[49m\u001B[43mlevel\u001B[49m\u001B[38;5;241;43m=\u001B[39;49m\u001B[43mlevel\u001B[49m\u001B[43m,\u001B[49m\u001B[43m \u001B[49m\u001B[43merrors\u001B[49m\u001B[38;5;241;43m=\u001B[39;49m\u001B[43merrors\u001B[49m\u001B[43m)\u001B[49m\n\u001B[1;32m   4713\u001B[0m \u001B[38;5;28;01mif\u001B[39;00m inplace:\n\u001B[1;32m   4714\u001B[0m     \u001B[38;5;28mself\u001B[39m\u001B[38;5;241m.\u001B[39m_update_inplace(obj)\n",
      "File \u001B[0;32m/opt/homebrew/lib/python3.9/site-packages/pandas/core/generic.py:4753\u001B[0m, in \u001B[0;36mNDFrame._drop_axis\u001B[0;34m(self, labels, axis, level, errors, only_slice)\u001B[0m\n\u001B[1;32m   4751\u001B[0m         new_axis \u001B[38;5;241m=\u001B[39m axis\u001B[38;5;241m.\u001B[39mdrop(labels, level\u001B[38;5;241m=\u001B[39mlevel, errors\u001B[38;5;241m=\u001B[39merrors)\n\u001B[1;32m   4752\u001B[0m     \u001B[38;5;28;01melse\u001B[39;00m:\n\u001B[0;32m-> 4753\u001B[0m         new_axis \u001B[38;5;241m=\u001B[39m \u001B[43maxis\u001B[49m\u001B[38;5;241;43m.\u001B[39;49m\u001B[43mdrop\u001B[49m\u001B[43m(\u001B[49m\u001B[43mlabels\u001B[49m\u001B[43m,\u001B[49m\u001B[43m \u001B[49m\u001B[43merrors\u001B[49m\u001B[38;5;241;43m=\u001B[39;49m\u001B[43merrors\u001B[49m\u001B[43m)\u001B[49m\n\u001B[1;32m   4754\u001B[0m     indexer \u001B[38;5;241m=\u001B[39m axis\u001B[38;5;241m.\u001B[39mget_indexer(new_axis)\n\u001B[1;32m   4756\u001B[0m \u001B[38;5;66;03m# Case for non-unique axis\u001B[39;00m\n\u001B[1;32m   4757\u001B[0m \u001B[38;5;28;01melse\u001B[39;00m:\n",
      "File \u001B[0;32m/opt/homebrew/lib/python3.9/site-packages/pandas/core/indexes/base.py:6992\u001B[0m, in \u001B[0;36mIndex.drop\u001B[0;34m(self, labels, errors)\u001B[0m\n\u001B[1;32m   6990\u001B[0m \u001B[38;5;28;01mif\u001B[39;00m mask\u001B[38;5;241m.\u001B[39many():\n\u001B[1;32m   6991\u001B[0m     \u001B[38;5;28;01mif\u001B[39;00m errors \u001B[38;5;241m!=\u001B[39m \u001B[38;5;124m\"\u001B[39m\u001B[38;5;124mignore\u001B[39m\u001B[38;5;124m\"\u001B[39m:\n\u001B[0;32m-> 6992\u001B[0m         \u001B[38;5;28;01mraise\u001B[39;00m \u001B[38;5;167;01mKeyError\u001B[39;00m(\u001B[38;5;124mf\u001B[39m\u001B[38;5;124m\"\u001B[39m\u001B[38;5;132;01m{\u001B[39;00mlabels[mask]\u001B[38;5;241m.\u001B[39mtolist()\u001B[38;5;132;01m}\u001B[39;00m\u001B[38;5;124m not found in axis\u001B[39m\u001B[38;5;124m\"\u001B[39m)\n\u001B[1;32m   6993\u001B[0m     indexer \u001B[38;5;241m=\u001B[39m indexer[\u001B[38;5;241m~\u001B[39mmask]\n\u001B[1;32m   6994\u001B[0m \u001B[38;5;28;01mreturn\u001B[39;00m \u001B[38;5;28mself\u001B[39m\u001B[38;5;241m.\u001B[39mdelete(indexer)\n",
      "\u001B[0;31mKeyError\u001B[0m: \"['honorific', 'name'] not found in axis\""
     ]
    }
   ]
  },
  {
   "cell_type": "code",
   "source": [
    "print(list(reg.predict(reserved)))"
   ],
   "metadata": {
    "colab": {
     "base_uri": "https://localhost:8080/"
    },
    "id": "xXr4GvoW8KHn",
    "outputId": "21fbf756-bf26-416e-eeae-36e8369a9007",
    "ExecuteTime": {
     "end_time": "2023-10-15T00:22:36.971127Z",
     "start_time": "2023-10-15T00:22:36.843837Z"
    }
   },
   "execution_count": 118,
   "outputs": [
    {
     "ename": "ValueError",
     "evalue": "The feature names should match those that were passed during fit.\nFeature names unseen at fit time:\n- embarked_Q\n- embarked_S\n- sex_male\n",
     "output_type": "error",
     "traceback": [
      "\u001B[0;31m---------------------------------------------------------------------------\u001B[0m",
      "\u001B[0;31mValueError\u001B[0m                                Traceback (most recent call last)",
      "Input \u001B[0;32mIn [118]\u001B[0m, in \u001B[0;36m<cell line: 1>\u001B[0;34m()\u001B[0m\n\u001B[0;32m----> 1\u001B[0m \u001B[38;5;28mprint\u001B[39m(\u001B[38;5;28mlist\u001B[39m(\u001B[43mreg\u001B[49m\u001B[38;5;241;43m.\u001B[39;49m\u001B[43mpredict\u001B[49m\u001B[43m(\u001B[49m\u001B[43mreserved\u001B[49m\u001B[43m)\u001B[49m))\n",
      "File \u001B[0;32m/opt/homebrew/lib/python3.9/site-packages/sklearn/linear_model/_base.py:451\u001B[0m, in \u001B[0;36mLinearClassifierMixin.predict\u001B[0;34m(self, X)\u001B[0m\n\u001B[1;32m    437\u001B[0m \u001B[38;5;124;03m\"\"\"\u001B[39;00m\n\u001B[1;32m    438\u001B[0m \u001B[38;5;124;03mPredict class labels for samples in X.\u001B[39;00m\n\u001B[1;32m    439\u001B[0m \n\u001B[0;32m   (...)\u001B[0m\n\u001B[1;32m    448\u001B[0m \u001B[38;5;124;03m    Vector containing the class labels for each sample.\u001B[39;00m\n\u001B[1;32m    449\u001B[0m \u001B[38;5;124;03m\"\"\"\u001B[39;00m\n\u001B[1;32m    450\u001B[0m xp, _ \u001B[38;5;241m=\u001B[39m get_namespace(X)\n\u001B[0;32m--> 451\u001B[0m scores \u001B[38;5;241m=\u001B[39m \u001B[38;5;28;43mself\u001B[39;49m\u001B[38;5;241;43m.\u001B[39;49m\u001B[43mdecision_function\u001B[49m\u001B[43m(\u001B[49m\u001B[43mX\u001B[49m\u001B[43m)\u001B[49m\n\u001B[1;32m    452\u001B[0m \u001B[38;5;28;01mif\u001B[39;00m \u001B[38;5;28mlen\u001B[39m(scores\u001B[38;5;241m.\u001B[39mshape) \u001B[38;5;241m==\u001B[39m \u001B[38;5;241m1\u001B[39m:\n\u001B[1;32m    453\u001B[0m     indices \u001B[38;5;241m=\u001B[39m xp\u001B[38;5;241m.\u001B[39mastype(scores \u001B[38;5;241m>\u001B[39m \u001B[38;5;241m0\u001B[39m, \u001B[38;5;28mint\u001B[39m)\n",
      "File \u001B[0;32m/opt/homebrew/lib/python3.9/site-packages/sklearn/linear_model/_base.py:432\u001B[0m, in \u001B[0;36mLinearClassifierMixin.decision_function\u001B[0;34m(self, X)\u001B[0m\n\u001B[1;32m    429\u001B[0m check_is_fitted(\u001B[38;5;28mself\u001B[39m)\n\u001B[1;32m    430\u001B[0m xp, _ \u001B[38;5;241m=\u001B[39m get_namespace(X)\n\u001B[0;32m--> 432\u001B[0m X \u001B[38;5;241m=\u001B[39m \u001B[38;5;28;43mself\u001B[39;49m\u001B[38;5;241;43m.\u001B[39;49m\u001B[43m_validate_data\u001B[49m\u001B[43m(\u001B[49m\u001B[43mX\u001B[49m\u001B[43m,\u001B[49m\u001B[43m \u001B[49m\u001B[43maccept_sparse\u001B[49m\u001B[38;5;241;43m=\u001B[39;49m\u001B[38;5;124;43m\"\u001B[39;49m\u001B[38;5;124;43mcsr\u001B[39;49m\u001B[38;5;124;43m\"\u001B[39;49m\u001B[43m,\u001B[49m\u001B[43m \u001B[49m\u001B[43mreset\u001B[49m\u001B[38;5;241;43m=\u001B[39;49m\u001B[38;5;28;43;01mFalse\u001B[39;49;00m\u001B[43m)\u001B[49m\n\u001B[1;32m    433\u001B[0m scores \u001B[38;5;241m=\u001B[39m safe_sparse_dot(X, \u001B[38;5;28mself\u001B[39m\u001B[38;5;241m.\u001B[39mcoef_\u001B[38;5;241m.\u001B[39mT, dense_output\u001B[38;5;241m=\u001B[39m\u001B[38;5;28;01mTrue\u001B[39;00m) \u001B[38;5;241m+\u001B[39m \u001B[38;5;28mself\u001B[39m\u001B[38;5;241m.\u001B[39mintercept_\n\u001B[1;32m    434\u001B[0m \u001B[38;5;28;01mreturn\u001B[39;00m xp\u001B[38;5;241m.\u001B[39mreshape(scores, (\u001B[38;5;241m-\u001B[39m\u001B[38;5;241m1\u001B[39m,)) \u001B[38;5;28;01mif\u001B[39;00m scores\u001B[38;5;241m.\u001B[39mshape[\u001B[38;5;241m1\u001B[39m] \u001B[38;5;241m==\u001B[39m \u001B[38;5;241m1\u001B[39m \u001B[38;5;28;01melse\u001B[39;00m scores\n",
      "File \u001B[0;32m/opt/homebrew/lib/python3.9/site-packages/sklearn/base.py:580\u001B[0m, in \u001B[0;36mBaseEstimator._validate_data\u001B[0;34m(self, X, y, reset, validate_separately, cast_to_ndarray, **check_params)\u001B[0m\n\u001B[1;32m    509\u001B[0m \u001B[38;5;28;01mdef\u001B[39;00m \u001B[38;5;21m_validate_data\u001B[39m(\n\u001B[1;32m    510\u001B[0m     \u001B[38;5;28mself\u001B[39m,\n\u001B[1;32m    511\u001B[0m     X\u001B[38;5;241m=\u001B[39m\u001B[38;5;124m\"\u001B[39m\u001B[38;5;124mno_validation\u001B[39m\u001B[38;5;124m\"\u001B[39m,\n\u001B[0;32m   (...)\u001B[0m\n\u001B[1;32m    516\u001B[0m     \u001B[38;5;241m*\u001B[39m\u001B[38;5;241m*\u001B[39mcheck_params,\n\u001B[1;32m    517\u001B[0m ):\n\u001B[1;32m    518\u001B[0m     \u001B[38;5;124;03m\"\"\"Validate input data and set or check the `n_features_in_` attribute.\u001B[39;00m\n\u001B[1;32m    519\u001B[0m \n\u001B[1;32m    520\u001B[0m \u001B[38;5;124;03m    Parameters\u001B[39;00m\n\u001B[0;32m   (...)\u001B[0m\n\u001B[1;32m    578\u001B[0m \u001B[38;5;124;03m        validated.\u001B[39;00m\n\u001B[1;32m    579\u001B[0m \u001B[38;5;124;03m    \"\"\"\u001B[39;00m\n\u001B[0;32m--> 580\u001B[0m     \u001B[38;5;28;43mself\u001B[39;49m\u001B[38;5;241;43m.\u001B[39;49m\u001B[43m_check_feature_names\u001B[49m\u001B[43m(\u001B[49m\u001B[43mX\u001B[49m\u001B[43m,\u001B[49m\u001B[43m \u001B[49m\u001B[43mreset\u001B[49m\u001B[38;5;241;43m=\u001B[39;49m\u001B[43mreset\u001B[49m\u001B[43m)\u001B[49m\n\u001B[1;32m    582\u001B[0m     \u001B[38;5;28;01mif\u001B[39;00m y \u001B[38;5;129;01mis\u001B[39;00m \u001B[38;5;28;01mNone\u001B[39;00m \u001B[38;5;129;01mand\u001B[39;00m \u001B[38;5;28mself\u001B[39m\u001B[38;5;241m.\u001B[39m_get_tags()[\u001B[38;5;124m\"\u001B[39m\u001B[38;5;124mrequires_y\u001B[39m\u001B[38;5;124m\"\u001B[39m]:\n\u001B[1;32m    583\u001B[0m         \u001B[38;5;28;01mraise\u001B[39;00m \u001B[38;5;167;01mValueError\u001B[39;00m(\n\u001B[1;32m    584\u001B[0m             \u001B[38;5;124mf\u001B[39m\u001B[38;5;124m\"\u001B[39m\u001B[38;5;124mThis \u001B[39m\u001B[38;5;132;01m{\u001B[39;00m\u001B[38;5;28mself\u001B[39m\u001B[38;5;241m.\u001B[39m\u001B[38;5;18m__class__\u001B[39m\u001B[38;5;241m.\u001B[39m\u001B[38;5;18m__name__\u001B[39m\u001B[38;5;132;01m}\u001B[39;00m\u001B[38;5;124m estimator \u001B[39m\u001B[38;5;124m\"\u001B[39m\n\u001B[1;32m    585\u001B[0m             \u001B[38;5;124m\"\u001B[39m\u001B[38;5;124mrequires y to be passed, but the target y is None.\u001B[39m\u001B[38;5;124m\"\u001B[39m\n\u001B[1;32m    586\u001B[0m         )\n",
      "File \u001B[0;32m/opt/homebrew/lib/python3.9/site-packages/sklearn/base.py:507\u001B[0m, in \u001B[0;36mBaseEstimator._check_feature_names\u001B[0;34m(self, X, reset)\u001B[0m\n\u001B[1;32m    502\u001B[0m \u001B[38;5;28;01mif\u001B[39;00m \u001B[38;5;129;01mnot\u001B[39;00m missing_names \u001B[38;5;129;01mand\u001B[39;00m \u001B[38;5;129;01mnot\u001B[39;00m unexpected_names:\n\u001B[1;32m    503\u001B[0m     message \u001B[38;5;241m+\u001B[39m\u001B[38;5;241m=\u001B[39m (\n\u001B[1;32m    504\u001B[0m         \u001B[38;5;124m\"\u001B[39m\u001B[38;5;124mFeature names must be in the same order as they were in fit.\u001B[39m\u001B[38;5;130;01m\\n\u001B[39;00m\u001B[38;5;124m\"\u001B[39m\n\u001B[1;32m    505\u001B[0m     )\n\u001B[0;32m--> 507\u001B[0m \u001B[38;5;28;01mraise\u001B[39;00m \u001B[38;5;167;01mValueError\u001B[39;00m(message)\n",
      "\u001B[0;31mValueError\u001B[0m: The feature names should match those that were passed during fit.\nFeature names unseen at fit time:\n- embarked_Q\n- embarked_S\n- sex_male\n"
     ]
    }
   ]
  },
  {
   "cell_type": "code",
   "execution_count": null,
   "outputs": [],
   "source": [],
   "metadata": {
    "collapsed": false
   }
  }
 ],
 "metadata": {
  "colab": {
   "provenance": []
  },
  "kernelspec": {
   "display_name": "Python 3 (ipykernel)",
   "language": "python",
   "name": "python3"
  },
  "language_info": {
   "codemirror_mode": {
    "name": "ipython",
    "version": 3
   },
   "file_extension": ".py",
   "mimetype": "text/x-python",
   "name": "python",
   "nbconvert_exporter": "python",
   "pygments_lexer": "ipython3",
   "version": "3.8.10"
  }
 },
 "nbformat": 4,
 "nbformat_minor": 0
}
