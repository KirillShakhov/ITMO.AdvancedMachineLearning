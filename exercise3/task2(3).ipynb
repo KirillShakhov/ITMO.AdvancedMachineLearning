{
 "cells": [
  {
   "cell_type": "markdown",
   "metadata": {
    "id": "PE0EVRPW7SWx"
   },
   "source": [
    "# 0. Применение метода KNN для решения задачи классификации"
   ]
  },
  {
   "cell_type": "markdown",
   "metadata": {
    "id": "cZnGWUYq7X3a"
   },
   "source": [
    "Набор данных получен в результате переписи населения 1994 года и содержит информацию о некотором количестве людей, проживающих в США. Задача состоит в том, чтобы предсказать, зарабатывает человек более $50к в год или нет. Список признаков:\n",
    "\n",
    "*   <b>age</b>: возраст человека.\n",
    "*   <b>workclass</b>: статус занятости.\n",
    "*   <b>fnlwgt</b>: количество людей, которое, по мнению переписи, представляет запись.\n",
    "*   <b>education</b>: высший уровень образования, достигнутый человеком.\n",
    "*   <b>education-num</b>: высший уровень образования, достигнутый человеком в числовой форме.\n",
    "*   <b>marital-status</b>: семейное положение человека.\n",
    "*   <b>occupation</b>: общий род занятий человека.\n",
    "*   <b>relationship</b>: представляет то, чем этот человек является по отношению к другим (перекликается с признаком <b>marital-status</b>).\n",
    "*   <b>race</b>: раса.\n",
    "*   <b>sex</b>: пол.\n",
    "*   <b>capital-gain</b>: прирост капитала.\n",
    "*   <b>capital-loss</b>: убыток капитала.\n",
    "*   <b>hours-per-week</b>: число рабочих часов в неделю.\n",
    "*   <b>native-country</b>: страна происхождения.\n",
    "*   <b>the label</b>: отклик -- зарабатывает больше $50к или меньше.\n",
    "\n"
   ]
  },
  {
   "cell_type": "markdown",
   "metadata": {
    "id": "E_2svR-wBNHY"
   },
   "source": [
    "## Немного про метрики качества модели"
   ]
  },
  {
   "cell_type": "markdown",
   "metadata": {
    "id": "NwNdoJiD9h1S"
   },
   "source": [
    "Для начала рассмотрим так называемую матрицу ошибок (confusion matrix)\n",
    "-- способ разделить объекты на $4$ группы в зависимости от комбинации\n",
    "истинного класса и ответа классификатора:\n",
    "\n",
    "-   TP (True Positives) -- верно классифицированные объекты, исходно     относящиеся к классу \"$+1$\";\n",
    "\n",
    "-   TN (True Negatives) -- верно классифицированные объекты, исходно     относящиеся к классу \"$-1$\";\n",
    "\n",
    "-   FN (False Negatives) -- неверно классифицированные объекты, исходно     относящиеся к классу \"$+1$\" (ошибка I рода);\n",
    "\n",
    "-   FP (False Positives) -- неверно классифицированные объекты, исходно     относящиеся к классу \"$-1$\" (ошибка II рода).\n",
    "\n",
    "Обычно, конечно, оперируют не абсолютными показателями, а относительными\n",
    "-- долями (rates), находящимися в диапазоне от $0$ до $1$:\n",
    "\n",
    "-   доля правильных ответов классификатора (иногда -- точность): $$\\mathsf{Accuracy} = \\frac{TP + TN}{TP + FP + FN + TN}.$$ Эта величина показывает отношение количества верно классифицированных объектов к общему количеству классифицируемых объектов и, грубо говоря, оценивает вероятность случайному объекту быть правильно классифицированным.\n",
    "\n",
    "-   доля истинно положительных примеров -- True Positives Rate (TPR) или     Sensitivity (чувствительность) или Recall: $$\\mathsf{T P R}=\\frac{T P}{T P+F N}.$$ Эта величина показывает отношение количества верно классифицированных объектов, относящихся к классу \"$+1$\", к общему количеству объектов класса \"$+1$\". Иными словами -- это оценка вероятности, что объект, относящийся к классу \"$+1$\" будет классифицирован корректно.\n",
    "\n",
    "-   доля ложно положительных примеров обозначается как -- False Positives Rate (FPR): $$\\mathsf{F P R}=\\frac{F P}{FP + TN}.$$ Величина показывает отношение количества неверно классифицированных объектов, относящихся к классу \"$-1$\", к общему количеству объектов класса \"$-1$\", или оценивает вероятность, что объект, относящийся к классу \"$-1$\", будет классифицирован неверно.\n",
    "\n",
    "-   Специфичность (Specificity) или True Negatives Rate (TNR): $$\\mathsf{TNR} = 1 - \\mathsf{F P R} =\\frac{T N}{T N+F P}.$$ Величина показывает отношение количества верно классифицированных объектов, относящихся к классу \"$-1$\", к общему количеству объектов класса \"$-1$\", или оценивает вероятность, что объект, относящийся к классу \"$-1$\", будет классифицирован верно.\n",
    "\n",
    "-   Precision (точность): $$\\mathsf{Precision} =\\frac{TP}{TP + FP}.$$ Величина показывает, какая доля объектов, отнесенных классификатором к классу \"$+1$\", действительно относится к этому классу.\n",
    "\n",
    "Естественно возникает вопрос, нет ли какого-то обобщающего критерия,\n",
    "который может характеризовать качество построенной модели. Один из них --\n",
    "так называемая $F$-мера ($F_1$-мера, $F$ score, $F_1$ score)\n",
    "определяется следующим соотношением:\n",
    "$$F = F_1 = 2 \\cdot \\frac{\\mathsf{Precision} \\cdot \\mathsf{Recall}}{\\mathsf{Precision} + \\mathsf{Recall}}.$$\n",
    "\n",
    "**Замечание**. *$F$-мера является средним гармоническим величин\n",
    "$\\mathsf{Precision}$ и $\\mathsf{Recall}$ и заключена в диапазоне\n",
    "$[0, 1]$. Среднее гармоническое обладает важным свойством: оно близко к\n",
    "нулю, если хотя бы один из аргументов близок к нулю. Поэтому оно является\n",
    "куда более предпочтительным, чем, скажем, среднее арифметическое: если\n",
    "алгоритм относит все объекты к положительному классу, то\n",
    "$\\mathsf{Recall}= 1$, а $\\mathsf{Precision}$, скорее всего, будет\n",
    "небольшим. Но тогда среднее арифметическое будет больше, чем $0.5$, что,\n",
    "конечно, никуда не годится.*"
   ]
  },
  {
   "cell_type": "markdown",
   "metadata": {
    "id": "OsSYNyaoBEsR"
   },
   "source": [
    "## Импорт библиотек и чтение набора данных"
   ]
  },
  {
   "cell_type": "code",
   "execution_count": 115,
   "metadata": {
    "id": "Enk9Zp1O_Bxb",
    "tags": [],
    "ExecuteTime": {
     "end_time": "2023-10-14T00:51:13.628282Z",
     "start_time": "2023-10-14T00:51:13.564849Z"
    }
   },
   "outputs": [],
   "source": [
    "import pandas as pd\n",
    "import numpy as np\n",
    "from sklearn.model_selection import train_test_split\n",
    "from sklearn.neighbors import KNeighborsClassifier\n",
    "from sklearn.preprocessing import MinMaxScaler\n",
    "from sklearn.preprocessing import StandardScaler\n",
    "from sklearn.metrics import f1_score\n",
    "from sklearn.metrics import classification_report\n",
    "from sklearn.impute import SimpleImputer \n",
    "import seaborn as sns\n",
    "from matplotlib import pyplot as plt"
   ]
  },
  {
   "cell_type": "markdown",
   "metadata": {
    "id": "_G1PuXfscIZ8"
   },
   "source": [
    "Считайте набор данных в датафрейм. Исходя из описания признаков можно сразу избавиться от признаков <code>education</code> и <code>marital-status</code>. Удалите соответствующие колонки из набора данных."
   ]
  },
  {
   "cell_type": "code",
   "execution_count": 116,
   "metadata": {
    "id": "rl7nNNPHcJdK",
    "tags": [],
    "ExecuteTime": {
     "end_time": "2023-10-14T00:51:13.738882Z",
     "start_time": "2023-10-14T00:51:13.572236Z"
    }
   },
   "outputs": [
    {
     "data": {
      "text/plain": "       age         workclass  fnlwgt  education-num        occupation  \\\n0       32           Private   37210             13   Exec-managerial   \n1       43           Private  101950             14   Exec-managerial   \n2       20                 ?  122244              9                 ?   \n3       40         Local-gov   24763             10  Transport-moving   \n4       24           Private  113936             13    Prof-specialty   \n...    ...               ...     ...            ...               ...   \n26043   35  Self-emp-not-inc  179171              9             Sales   \n26044   39           Private  421633             10   Protective-serv   \n26045   55           Private   82098              9   Exec-managerial   \n26046   26           Private   50053             13   Exec-managerial   \n26047   19           Private  415354              6     Other-service   \n\n        relationship                race     sex  capital-gain  capital-loss  \\\n0            Husband               White    Male             0             0   \n1      Not-in-family               White  Female             0             0   \n2      Not-in-family               White  Female             0             0   \n3          Unmarried               White    Male          6849             0   \n4          Own-child               White    Male             0             0   \n...              ...                 ...     ...           ...           ...   \n26043      Unmarried               Black  Female             0             0   \n26044      Unmarried               Black  Female             0             0   \n26045        Husband  Asian-Pac-Islander    Male             0             0   \n26046        Husband               White    Male             0             0   \n26047  Not-in-family               White  Female             0             0   \n\n       hours-per-week native-country  label  \n0                  45  United-States      1  \n1                  45  United-States      0  \n2                  28  United-States      0  \n3                  40  United-States      0  \n4                  40  United-States      0  \n...               ...            ...    ...  \n26043              38        Germany      0  \n26044              30  United-States      0  \n26045              55  United-States      0  \n26046              55  United-States      0  \n26047              40  United-States      0  \n\n[26048 rows x 13 columns]",
      "text/html": "<div>\n<style scoped>\n    .dataframe tbody tr th:only-of-type {\n        vertical-align: middle;\n    }\n\n    .dataframe tbody tr th {\n        vertical-align: top;\n    }\n\n    .dataframe thead th {\n        text-align: right;\n    }\n</style>\n<table border=\"1\" class=\"dataframe\">\n  <thead>\n    <tr style=\"text-align: right;\">\n      <th></th>\n      <th>age</th>\n      <th>workclass</th>\n      <th>fnlwgt</th>\n      <th>education-num</th>\n      <th>occupation</th>\n      <th>relationship</th>\n      <th>race</th>\n      <th>sex</th>\n      <th>capital-gain</th>\n      <th>capital-loss</th>\n      <th>hours-per-week</th>\n      <th>native-country</th>\n      <th>label</th>\n    </tr>\n  </thead>\n  <tbody>\n    <tr>\n      <th>0</th>\n      <td>32</td>\n      <td>Private</td>\n      <td>37210</td>\n      <td>13</td>\n      <td>Exec-managerial</td>\n      <td>Husband</td>\n      <td>White</td>\n      <td>Male</td>\n      <td>0</td>\n      <td>0</td>\n      <td>45</td>\n      <td>United-States</td>\n      <td>1</td>\n    </tr>\n    <tr>\n      <th>1</th>\n      <td>43</td>\n      <td>Private</td>\n      <td>101950</td>\n      <td>14</td>\n      <td>Exec-managerial</td>\n      <td>Not-in-family</td>\n      <td>White</td>\n      <td>Female</td>\n      <td>0</td>\n      <td>0</td>\n      <td>45</td>\n      <td>United-States</td>\n      <td>0</td>\n    </tr>\n    <tr>\n      <th>2</th>\n      <td>20</td>\n      <td>?</td>\n      <td>122244</td>\n      <td>9</td>\n      <td>?</td>\n      <td>Not-in-family</td>\n      <td>White</td>\n      <td>Female</td>\n      <td>0</td>\n      <td>0</td>\n      <td>28</td>\n      <td>United-States</td>\n      <td>0</td>\n    </tr>\n    <tr>\n      <th>3</th>\n      <td>40</td>\n      <td>Local-gov</td>\n      <td>24763</td>\n      <td>10</td>\n      <td>Transport-moving</td>\n      <td>Unmarried</td>\n      <td>White</td>\n      <td>Male</td>\n      <td>6849</td>\n      <td>0</td>\n      <td>40</td>\n      <td>United-States</td>\n      <td>0</td>\n    </tr>\n    <tr>\n      <th>4</th>\n      <td>24</td>\n      <td>Private</td>\n      <td>113936</td>\n      <td>13</td>\n      <td>Prof-specialty</td>\n      <td>Own-child</td>\n      <td>White</td>\n      <td>Male</td>\n      <td>0</td>\n      <td>0</td>\n      <td>40</td>\n      <td>United-States</td>\n      <td>0</td>\n    </tr>\n    <tr>\n      <th>...</th>\n      <td>...</td>\n      <td>...</td>\n      <td>...</td>\n      <td>...</td>\n      <td>...</td>\n      <td>...</td>\n      <td>...</td>\n      <td>...</td>\n      <td>...</td>\n      <td>...</td>\n      <td>...</td>\n      <td>...</td>\n      <td>...</td>\n    </tr>\n    <tr>\n      <th>26043</th>\n      <td>35</td>\n      <td>Self-emp-not-inc</td>\n      <td>179171</td>\n      <td>9</td>\n      <td>Sales</td>\n      <td>Unmarried</td>\n      <td>Black</td>\n      <td>Female</td>\n      <td>0</td>\n      <td>0</td>\n      <td>38</td>\n      <td>Germany</td>\n      <td>0</td>\n    </tr>\n    <tr>\n      <th>26044</th>\n      <td>39</td>\n      <td>Private</td>\n      <td>421633</td>\n      <td>10</td>\n      <td>Protective-serv</td>\n      <td>Unmarried</td>\n      <td>Black</td>\n      <td>Female</td>\n      <td>0</td>\n      <td>0</td>\n      <td>30</td>\n      <td>United-States</td>\n      <td>0</td>\n    </tr>\n    <tr>\n      <th>26045</th>\n      <td>55</td>\n      <td>Private</td>\n      <td>82098</td>\n      <td>9</td>\n      <td>Exec-managerial</td>\n      <td>Husband</td>\n      <td>Asian-Pac-Islander</td>\n      <td>Male</td>\n      <td>0</td>\n      <td>0</td>\n      <td>55</td>\n      <td>United-States</td>\n      <td>0</td>\n    </tr>\n    <tr>\n      <th>26046</th>\n      <td>26</td>\n      <td>Private</td>\n      <td>50053</td>\n      <td>13</td>\n      <td>Exec-managerial</td>\n      <td>Husband</td>\n      <td>White</td>\n      <td>Male</td>\n      <td>0</td>\n      <td>0</td>\n      <td>55</td>\n      <td>United-States</td>\n      <td>0</td>\n    </tr>\n    <tr>\n      <th>26047</th>\n      <td>19</td>\n      <td>Private</td>\n      <td>415354</td>\n      <td>6</td>\n      <td>Other-service</td>\n      <td>Not-in-family</td>\n      <td>White</td>\n      <td>Female</td>\n      <td>0</td>\n      <td>0</td>\n      <td>40</td>\n      <td>United-States</td>\n      <td>0</td>\n    </tr>\n  </tbody>\n</table>\n<p>26048 rows × 13 columns</p>\n</div>"
     },
     "execution_count": 116,
     "metadata": {},
     "output_type": "execute_result"
    }
   ],
   "source": [
    "data = pd.read_csv(\"adult_data_train.csv\").drop(columns=[\"education\", \"marital-status\"])\n",
    "data"
   ]
  },
  {
   "cell_type": "markdown",
   "metadata": {
    "id": "accrQdXa_pbH"
   },
   "source": [
    "Определите количество числовых и нечисловых признаков."
   ]
  },
  {
   "cell_type": "code",
   "execution_count": 117,
   "metadata": {
    "id": "NF67lPph_xBJ",
    "tags": [],
    "ExecuteTime": {
     "end_time": "2023-10-14T00:51:13.739192Z",
     "start_time": "2023-10-14T00:51:13.620668Z"
    }
   },
   "outputs": [
    {
     "data": {
      "text/plain": "(7, 6)"
     },
     "execution_count": 117,
     "metadata": {},
     "output_type": "execute_result"
    }
   ],
   "source": [
    "# Определение количества числовых и нечисловых признаков\n",
    "num_features = data.select_dtypes(include=['number']).shape[1]\n",
    "non_num_features = data.select_dtypes(exclude=['number']).shape[1]\n",
    "\n",
    "(num_features, non_num_features)"
   ]
  },
  {
   "cell_type": "markdown",
   "metadata": {
    "id": "EcE85lviBatz"
   },
   "source": [
    "Постройте гистограмму распределения объектов по классам. Вычислите долю объектов класса $0$."
   ]
  },
  {
   "cell_type": "code",
   "execution_count": 118,
   "metadata": {
    "id": "gujxc3m2BtVh",
    "tags": [],
    "ExecuteTime": {
     "end_time": "2023-10-14T00:51:13.752564Z",
     "start_time": "2023-10-14T00:51:13.638279Z"
    }
   },
   "outputs": [
    {
     "data": {
      "text/plain": "((array([19775.,     0.,     0.,     0.,     0.,     0.,     0.,     0.,\n             0.,  6273.]),\n  array([0. , 0.1, 0.2, 0.3, 0.4, 0.5, 0.6, 0.7, 0.8, 0.9, 1. ]),\n  <BarContainer object of 10 artists>),\n 0.7592045149153454)"
     },
     "execution_count": 118,
     "metadata": {},
     "output_type": "execute_result"
    },
    {
     "data": {
      "text/plain": "<Figure size 432x288 with 1 Axes>",
      "image/png": "[encoded data removed]"
     },
     "metadata": {},
     "output_type": "display_data"
    }
   ],
   "source": [
    "fig, axes = plt.subplots()\n",
    "axes.hist(data[\"label\"]), 19775/26047"
   ]
  },
  {
   "cell_type": "markdown",
   "metadata": {
    "id": "owFlxSBa_XfB"
   },
   "source": [
    "# 1. Построение базовой модели\n",
    "\n",
    "В качестве первого приближения имеет смысл построить модель классификации, опираясь исключительно на числовые признаки.\n",
    "\n",
    "Отберите из набора данных только числовые признаки. При помощи <code>train_test_split()</code> разбейте набор данных на обучающую и тестовую выборки <b>с параметрами, указанными в вашем задании</b>. Используйте стратификацию по колонке <code>label</code>.\n",
    "\n",
    "Вычислите выборочное среднее колонки <code>fnlwgt</code> тренировочного набора данных.\n",
    "\n",
    "Обучите модель <code>KNeighborsClassifier()</code> с параметрами по умолчанию на тренировочных данных. \n",
    "\n",
    "Как видно из предыдущего пункта, в наборе данных наблюдается явный дисбаланс представителей классов. Это следует учесть при оценке модели. Вычислите <code>f1_score</code> модели на тестовых данных (рекомендуем использовать <a href=\"https://scikit-learn.org/stable/modules/generated/sklearn.metrics.f1_score.html\">соответствующую функцию</a> с параметрами по умолчанию.\n",
    "\n",
    "В качестве альтернативы можно использовать так называемый <a href = \"https://scikit-learn.org/stable/modules/generated/sklearn.metrics.classification_report.html\"><code>classification_report()</code></a>, где приведены сразу несколько метрик (не стоит забывать про параметр <code>digits</code>)."
   ]
  },
  {
   "cell_type": "code",
   "execution_count": 119,
   "metadata": {
    "id": "2jC-5-dhBAij",
    "tags": [],
    "ExecuteTime": {
     "end_time": "2023-10-14T00:51:13.932714Z",
     "start_time": "2023-10-14T00:51:13.751801Z"
    }
   },
   "outputs": [
    {
     "data": {
      "text/plain": "(189789.851281313, 0.38031088082901554)"
     },
     "execution_count": 119,
     "metadata": {},
     "output_type": "execute_result"
    }
   ],
   "source": [
    "X_train, X_test, y_train, y_test = train_test_split(data.drop(columns=[\"workclass\", \"occupation\", \"relationship\", \"race\", \"sex\", \"native-country\", \"label\"]), \n",
    "                                                    data[\"label\"], test_size=0.2, random_state=7, stratify=data[\"label\"])\n",
    "knn = KNeighborsClassifier()\n",
    "knn.fit(X_train, y_train)\n",
    "X_train[\"fnlwgt\"].mean(), f1_score(y_test, knn.predict(X_test))"
   ]
  },
  {
   "cell_type": "markdown",
   "metadata": {
    "id": "Q3yYPF5CFD0C"
   },
   "source": [
    "Стоит помнить, что KNN является метрическим классификатором, поэтому значения признаков перед обучением модели следует нормировать.\n",
    "\n",
    "Обучите преобразование <code>MinMaxScaler()</code> на тренировочном наборе данных и примените его для тренировочных и тестовых данных.\n",
    "\n",
    "Вычислите выборочное среднее колонки <code>fnlwgt</code> тренировочного набора данных после нормировки.\n",
    "\n",
    "Заново обучите и оцените модель на преобразованных данных. Вычислите <code>f1_score()</code> модели."
   ]
  },
  {
   "cell_type": "code",
   "execution_count": 120,
   "metadata": {
    "id": "jdhQDnYNGlSb",
    "tags": [],
    "ExecuteTime": {
     "end_time": "2023-10-14T00:51:14.102268Z",
     "start_time": "2023-10-14T00:51:13.929316Z"
    }
   },
   "outputs": [
    {
     "data": {
      "text/plain": "(0.12055313788274608, 0.5160390516039052)"
     },
     "execution_count": 120,
     "metadata": {},
     "output_type": "execute_result"
    }
   ],
   "source": [
    "scaler = MinMaxScaler()\n",
    "X_train = scaler.fit_transform(X_train)\n",
    "X_test = scaler.transform(X_test)\n",
    "\n",
    "X_train = pd.DataFrame(X_train, columns=[\"age\", \"fnlwgt\", \"education-num\", \"capital-gain\", \"capital-loss\", \"hours-per-week\"])\n",
    "X_test = pd.DataFrame(X_test, columns=[\"age\", \"fnlwgt\", \"education-num\", \"capital-gain\", \"capital-loss\", \"hours-per-week\"])\n",
    "\n",
    "\n",
    "knn.fit(X_train, y_train)\n",
    "X_train[\"fnlwgt\"].mean(), f1_score(y_test, knn.predict(X_test))"
   ]
  },
  {
   "cell_type": "markdown",
   "metadata": {
    "id": "FXNb8sWVHlQn"
   },
   "source": [
    "Видно, что после линейной нормировки качество выросло. \n",
    "\n",
    "<b>Важно: </b>На дальнейших этапах подразумевается использование линейной нормировки непосредственно перед обучением без дополнительных напоминаний."
   ]
  },
  {
   "cell_type": "markdown",
   "metadata": {
    "id": "e_kLHKu2B9lZ"
   },
   "source": [
    "# 2. Работа с нечисловыми признаками"
   ]
  },
  {
   "cell_type": "markdown",
   "metadata": {
    "id": "VFVVV6TJL1YU"
   },
   "source": [
    "## Визуализация\n",
    "\n",
    "Для дальнейшего улучшения качества модели имеет смысл задействовать нечисловые признаки исходного датасета (без колонок <code>education</code> и <code>marital-status</code>). \n",
    "\n",
    "Постройте гистограммы, иллюстрирующие частоту того или иного значения по каждому нечисловому признаку, например, при помощи <code>sns.barplot()</code>."
   ]
  },
  {
   "cell_type": "code",
   "execution_count": 121,
   "metadata": {
    "id": "XEkIN_UBDeAx",
    "ExecuteTime": {
     "end_time": "2023-10-14T00:51:15.120114Z",
     "start_time": "2023-10-14T00:51:14.109738Z"
    }
   },
   "outputs": [
    {
     "data": {
      "text/plain": "<seaborn.axisgrid.FacetGrid at 0x29724f820>"
     },
     "execution_count": 121,
     "metadata": {},
     "output_type": "execute_result"
    },
    {
     "data": {
      "text/plain": "<Figure size 360x360 with 1 Axes>",
      "image/png": "[encoded data removed]"
     },
     "metadata": {},
     "output_type": "display_data"
    },
    {
     "data": {
      "text/plain": "<Figure size 360x360 with 1 Axes>",
      "image/png": "[encoded data removed]"
     },
     "metadata": {},
     "output_type": "display_data"
    },
    {
     "data": {
      "text/plain": "<Figure size 360x360 with 1 Axes>",
      "image/png": "[encoded data removed]"
     },
     "metadata": {},
     "output_type": "display_data"
    },
    {
     "data": {
      "text/plain": "<Figure size 360x360 with 1 Axes>",
      "image/png": "[encoded data removed]"
     },
     "metadata": {},
     "output_type": "display_data"
    },
    {
     "data": {
      "text/plain": "<Figure size 360x360 with 1 Axes>",
      "image/png": "[encoded data removed]"
     },
     "metadata": {},
     "output_type": "display_data"
    },
    {
     "data": {
      "text/plain": "<Figure size 360x360 with 1 Axes>",
      "image/png": "[encoded data removed]"
     },
     "metadata": {},
     "output_type": "display_data"
    }
   ],
   "source": [
    "sns.displot(data[\"workclass\"])\n",
    "sns.displot(data[\"occupation\"])\n",
    "sns.displot(data[\"relationship\"])\n",
    "sns.displot(data[\"race\"])\n",
    "sns.displot(data[\"sex\"])\n",
    "sns.displot(data[\"native-country\"])\n",
    "#sns.barplot(data[[\"workclass\", \"occupation\", \"relationship\", \"race\", \"sex\", \"native-country\"]])"
   ]
  },
  {
   "cell_type": "markdown",
   "metadata": {
    "id": "TlJGKMfqF5RQ"
   },
   "source": [
    "## Удаление пропущенных значений\n",
    "\n",
    "Определите число строк исходного набора данных (без колонок <code>education</code> и <code>marital-status</code>), в которых присутствует хотя бы одно пропущенное значение."
   ]
  },
  {
   "cell_type": "code",
   "execution_count": 122,
   "metadata": {
    "id": "Pyur9pDvHFoc",
    "ExecuteTime": {
     "end_time": "2023-10-14T00:51:15.137042Z",
     "start_time": "2023-10-14T00:51:15.127189Z"
    }
   },
   "outputs": [
    {
     "data": {
      "text/plain": "(1914,\n     age workclass  fnlwgt  education-num occupation   relationship   race  \\\n 2    20         ?  122244              9          ?  Not-in-family  White   \n 9    28         ?  149646             10          ?      Own-child  White   \n 14   60         ?  251572              9          ?  Not-in-family  White   \n 15   34         ?  317219             10          ?           Wife  White   \n 40   36         ?   94954             11          ?  Not-in-family  White   \n \n        sex  capital-gain  capital-loss  hours-per-week native-country  label  \n 2   Female             0             0              28  United-States      0  \n 9   Female             0             0              20              ?      0  \n 14    Male             0             0              35         Poland      0  \n 15  Female             0             0              20  United-States      1  \n 40  Female             0             0              20  United-States      0  )"
     },
     "execution_count": 122,
     "metadata": {},
     "output_type": "execute_result"
    }
   ],
   "source": [
    "NaN_in_data = data == '?'\n",
    "NaN_in_data[\"Any_NaN\"] = False\n",
    "\n",
    "for col in NaN_in_data:\n",
    "    NaN_in_data[\"Any_NaN\"] |= NaN_in_data[col]\n",
    "    \n",
    "data_with_NaN = data.loc[NaN_in_data[\"Any_NaN\"]]\n",
    "len(data_with_NaN), data_with_NaN.head()"
   ]
  },
  {
   "cell_type": "markdown",
   "metadata": {
    "id": "l7IkfsKoHlza"
   },
   "source": [
    "Видно, что в датасете содержится менее 10% строк, содержащих пропуски. Выкидывать такое количество строк — не очень хорошее дело, но почему бы не попробовать обойтись без них. \n",
    "\n",
    "Удалите строки, содеражащие пропуски. Произведите <code>one-hot</code> кодировние нечисловых признаков, например, с помощью <code>pd.get_dummies(drop_first=True)</code>.\n",
    "\n",
    "Введите число полученных признаков."
   ]
  },
  {
   "cell_type": "code",
   "execution_count": 123,
   "metadata": {
    "id": "8zBk0YF9I7co",
    "ExecuteTime": {
     "end_time": "2023-10-14T00:51:15.185689Z",
     "start_time": "2023-10-14T00:51:15.134701Z"
    }
   },
   "outputs": [
    {
     "data": {
      "text/plain": "76"
     },
     "execution_count": 123,
     "metadata": {},
     "output_type": "execute_result"
    }
   ],
   "source": [
    "# Удаление строк, содержащих пропуски (предполагается, что пропуски обозначены как '?')\n",
    "data_nanless = data.replace('?', pd.NA).dropna()\n",
    "\n",
    "# Произведение one-hot кодирования нечисловых признаков\n",
    "data_one_hot_encoded = pd.get_dummies(data_nanless, drop_first=True)\n",
    "\n",
    "# Определение общего числа полученных признаков\n",
    "total_features = len(data_one_hot_encoded.columns)\n",
    "total_features"
   ]
  },
  {
   "cell_type": "markdown",
   "metadata": {
    "id": "ntH0eA3JLAp1"
   },
   "source": [
    "Обучите модель классификации аналогично тому, как это было проделано для базовой модели. Вычислите <code>f1_score()</code> модели.\n",
    "\n"
   ]
  },
  {
   "cell_type": "code",
   "execution_count": 124,
   "metadata": {
    "id": "cfvX8LFwLS2-",
    "ExecuteTime": {
     "end_time": "2023-10-14T00:51:15.562910Z",
     "start_time": "2023-10-14T00:51:15.166086Z"
    }
   },
   "outputs": [
    {
     "ename": "ValueError",
     "evalue": "could not convert string to float: 'Private'",
     "output_type": "error",
     "traceback": [
      "\u001B[0;31m---------------------------------------------------------------------------\u001B[0m",
      "\u001B[0;31mValueError\u001B[0m                                Traceback (most recent call last)",
      "Input \u001B[0;32mIn [124]\u001B[0m, in \u001B[0;36m<cell line: 4>\u001B[0;34m()\u001B[0m\n\u001B[1;32m      1\u001B[0m X_train, X_test, y_train, y_test \u001B[38;5;241m=\u001B[39m train_test_split(data_nanless\u001B[38;5;241m.\u001B[39mdrop(columns\u001B[38;5;241m=\u001B[39m[\u001B[38;5;124m\"\u001B[39m\u001B[38;5;124mlabel\u001B[39m\u001B[38;5;124m\"\u001B[39m]), \n\u001B[1;32m      2\u001B[0m                                                     data_nanless[\u001B[38;5;124m\"\u001B[39m\u001B[38;5;124mlabel\u001B[39m\u001B[38;5;124m\"\u001B[39m], test_size\u001B[38;5;241m=\u001B[39m\u001B[38;5;241m0.2\u001B[39m, random_state\u001B[38;5;241m=\u001B[39m\u001B[38;5;241m7\u001B[39m, stratify\u001B[38;5;241m=\u001B[39mdata_nanless[\u001B[38;5;124m\"\u001B[39m\u001B[38;5;124mlabel\u001B[39m\u001B[38;5;124m\"\u001B[39m])\n\u001B[0;32m----> 4\u001B[0m X_train \u001B[38;5;241m=\u001B[39m \u001B[43mscaler\u001B[49m\u001B[38;5;241;43m.\u001B[39;49m\u001B[43mfit_transform\u001B[49m\u001B[43m(\u001B[49m\u001B[43mX_train\u001B[49m\u001B[43m)\u001B[49m\n\u001B[1;32m      5\u001B[0m X_test \u001B[38;5;241m=\u001B[39m scaler\u001B[38;5;241m.\u001B[39mtransform(X_test)\n\u001B[1;32m      7\u001B[0m knn\u001B[38;5;241m.\u001B[39mfit(X_train, y_train)\n",
      "File \u001B[0;32m/opt/homebrew/lib/python3.9/site-packages/sklearn/utils/_set_output.py:157\u001B[0m, in \u001B[0;36m_wrap_method_output.<locals>.wrapped\u001B[0;34m(self, X, *args, **kwargs)\u001B[0m\n\u001B[1;32m    155\u001B[0m \u001B[38;5;129m@wraps\u001B[39m(f)\n\u001B[1;32m    156\u001B[0m \u001B[38;5;28;01mdef\u001B[39;00m \u001B[38;5;21mwrapped\u001B[39m(\u001B[38;5;28mself\u001B[39m, X, \u001B[38;5;241m*\u001B[39margs, \u001B[38;5;241m*\u001B[39m\u001B[38;5;241m*\u001B[39mkwargs):\n\u001B[0;32m--> 157\u001B[0m     data_to_wrap \u001B[38;5;241m=\u001B[39m \u001B[43mf\u001B[49m\u001B[43m(\u001B[49m\u001B[38;5;28;43mself\u001B[39;49m\u001B[43m,\u001B[49m\u001B[43m \u001B[49m\u001B[43mX\u001B[49m\u001B[43m,\u001B[49m\u001B[43m \u001B[49m\u001B[38;5;241;43m*\u001B[39;49m\u001B[43margs\u001B[49m\u001B[43m,\u001B[49m\u001B[43m \u001B[49m\u001B[38;5;241;43m*\u001B[39;49m\u001B[38;5;241;43m*\u001B[39;49m\u001B[43mkwargs\u001B[49m\u001B[43m)\u001B[49m\n\u001B[1;32m    158\u001B[0m     \u001B[38;5;28;01mif\u001B[39;00m \u001B[38;5;28misinstance\u001B[39m(data_to_wrap, \u001B[38;5;28mtuple\u001B[39m):\n\u001B[1;32m    159\u001B[0m         \u001B[38;5;66;03m# only wrap the first output for cross decomposition\u001B[39;00m\n\u001B[1;32m    160\u001B[0m         return_tuple \u001B[38;5;241m=\u001B[39m (\n\u001B[1;32m    161\u001B[0m             _wrap_data_with_container(method, data_to_wrap[\u001B[38;5;241m0\u001B[39m], X, \u001B[38;5;28mself\u001B[39m),\n\u001B[1;32m    162\u001B[0m             \u001B[38;5;241m*\u001B[39mdata_to_wrap[\u001B[38;5;241m1\u001B[39m:],\n\u001B[1;32m    163\u001B[0m         )\n",
      "File \u001B[0;32m/opt/homebrew/lib/python3.9/site-packages/sklearn/base.py:916\u001B[0m, in \u001B[0;36mTransformerMixin.fit_transform\u001B[0;34m(self, X, y, **fit_params)\u001B[0m\n\u001B[1;32m    912\u001B[0m \u001B[38;5;66;03m# non-optimized default implementation; override when a better\u001B[39;00m\n\u001B[1;32m    913\u001B[0m \u001B[38;5;66;03m# method is possible for a given clustering algorithm\u001B[39;00m\n\u001B[1;32m    914\u001B[0m \u001B[38;5;28;01mif\u001B[39;00m y \u001B[38;5;129;01mis\u001B[39;00m \u001B[38;5;28;01mNone\u001B[39;00m:\n\u001B[1;32m    915\u001B[0m     \u001B[38;5;66;03m# fit method of arity 1 (unsupervised transformation)\u001B[39;00m\n\u001B[0;32m--> 916\u001B[0m     \u001B[38;5;28;01mreturn\u001B[39;00m \u001B[38;5;28;43mself\u001B[39;49m\u001B[38;5;241;43m.\u001B[39;49m\u001B[43mfit\u001B[49m\u001B[43m(\u001B[49m\u001B[43mX\u001B[49m\u001B[43m,\u001B[49m\u001B[43m \u001B[49m\u001B[38;5;241;43m*\u001B[39;49m\u001B[38;5;241;43m*\u001B[39;49m\u001B[43mfit_params\u001B[49m\u001B[43m)\u001B[49m\u001B[38;5;241m.\u001B[39mtransform(X)\n\u001B[1;32m    917\u001B[0m \u001B[38;5;28;01melse\u001B[39;00m:\n\u001B[1;32m    918\u001B[0m     \u001B[38;5;66;03m# fit method of arity 2 (supervised transformation)\u001B[39;00m\n\u001B[1;32m    919\u001B[0m     \u001B[38;5;28;01mreturn\u001B[39;00m \u001B[38;5;28mself\u001B[39m\u001B[38;5;241m.\u001B[39mfit(X, y, \u001B[38;5;241m*\u001B[39m\u001B[38;5;241m*\u001B[39mfit_params)\u001B[38;5;241m.\u001B[39mtransform(X)\n",
      "File \u001B[0;32m/opt/homebrew/lib/python3.9/site-packages/sklearn/preprocessing/_data.py:435\u001B[0m, in \u001B[0;36mMinMaxScaler.fit\u001B[0;34m(self, X, y)\u001B[0m\n\u001B[1;32m    433\u001B[0m \u001B[38;5;66;03m# Reset internal state before fitting\u001B[39;00m\n\u001B[1;32m    434\u001B[0m \u001B[38;5;28mself\u001B[39m\u001B[38;5;241m.\u001B[39m_reset()\n\u001B[0;32m--> 435\u001B[0m \u001B[38;5;28;01mreturn\u001B[39;00m \u001B[38;5;28;43mself\u001B[39;49m\u001B[38;5;241;43m.\u001B[39;49m\u001B[43mpartial_fit\u001B[49m\u001B[43m(\u001B[49m\u001B[43mX\u001B[49m\u001B[43m,\u001B[49m\u001B[43m \u001B[49m\u001B[43my\u001B[49m\u001B[43m)\u001B[49m\n",
      "File \u001B[0;32m/opt/homebrew/lib/python3.9/site-packages/sklearn/base.py:1152\u001B[0m, in \u001B[0;36m_fit_context.<locals>.decorator.<locals>.wrapper\u001B[0;34m(estimator, *args, **kwargs)\u001B[0m\n\u001B[1;32m   1145\u001B[0m     estimator\u001B[38;5;241m.\u001B[39m_validate_params()\n\u001B[1;32m   1147\u001B[0m \u001B[38;5;28;01mwith\u001B[39;00m config_context(\n\u001B[1;32m   1148\u001B[0m     skip_parameter_validation\u001B[38;5;241m=\u001B[39m(\n\u001B[1;32m   1149\u001B[0m         prefer_skip_nested_validation \u001B[38;5;129;01mor\u001B[39;00m global_skip_validation\n\u001B[1;32m   1150\u001B[0m     )\n\u001B[1;32m   1151\u001B[0m ):\n\u001B[0;32m-> 1152\u001B[0m     \u001B[38;5;28;01mreturn\u001B[39;00m \u001B[43mfit_method\u001B[49m\u001B[43m(\u001B[49m\u001B[43mestimator\u001B[49m\u001B[43m,\u001B[49m\u001B[43m \u001B[49m\u001B[38;5;241;43m*\u001B[39;49m\u001B[43margs\u001B[49m\u001B[43m,\u001B[49m\u001B[43m \u001B[49m\u001B[38;5;241;43m*\u001B[39;49m\u001B[38;5;241;43m*\u001B[39;49m\u001B[43mkwargs\u001B[49m\u001B[43m)\u001B[49m\n",
      "File \u001B[0;32m/opt/homebrew/lib/python3.9/site-packages/sklearn/preprocessing/_data.py:473\u001B[0m, in \u001B[0;36mMinMaxScaler.partial_fit\u001B[0;34m(self, X, y)\u001B[0m\n\u001B[1;32m    467\u001B[0m     \u001B[38;5;28;01mraise\u001B[39;00m \u001B[38;5;167;01mTypeError\u001B[39;00m(\n\u001B[1;32m    468\u001B[0m         \u001B[38;5;124m\"\u001B[39m\u001B[38;5;124mMinMaxScaler does not support sparse input. \u001B[39m\u001B[38;5;124m\"\u001B[39m\n\u001B[1;32m    469\u001B[0m         \u001B[38;5;124m\"\u001B[39m\u001B[38;5;124mConsider using MaxAbsScaler instead.\u001B[39m\u001B[38;5;124m\"\u001B[39m\n\u001B[1;32m    470\u001B[0m     )\n\u001B[1;32m    472\u001B[0m first_pass \u001B[38;5;241m=\u001B[39m \u001B[38;5;129;01mnot\u001B[39;00m \u001B[38;5;28mhasattr\u001B[39m(\u001B[38;5;28mself\u001B[39m, \u001B[38;5;124m\"\u001B[39m\u001B[38;5;124mn_samples_seen_\u001B[39m\u001B[38;5;124m\"\u001B[39m)\n\u001B[0;32m--> 473\u001B[0m X \u001B[38;5;241m=\u001B[39m \u001B[38;5;28;43mself\u001B[39;49m\u001B[38;5;241;43m.\u001B[39;49m\u001B[43m_validate_data\u001B[49m\u001B[43m(\u001B[49m\n\u001B[1;32m    474\u001B[0m \u001B[43m    \u001B[49m\u001B[43mX\u001B[49m\u001B[43m,\u001B[49m\n\u001B[1;32m    475\u001B[0m \u001B[43m    \u001B[49m\u001B[43mreset\u001B[49m\u001B[38;5;241;43m=\u001B[39;49m\u001B[43mfirst_pass\u001B[49m\u001B[43m,\u001B[49m\n\u001B[1;32m    476\u001B[0m \u001B[43m    \u001B[49m\u001B[43mdtype\u001B[49m\u001B[38;5;241;43m=\u001B[39;49m\u001B[43mFLOAT_DTYPES\u001B[49m\u001B[43m,\u001B[49m\n\u001B[1;32m    477\u001B[0m \u001B[43m    \u001B[49m\u001B[43mforce_all_finite\u001B[49m\u001B[38;5;241;43m=\u001B[39;49m\u001B[38;5;124;43m\"\u001B[39;49m\u001B[38;5;124;43mallow-nan\u001B[39;49m\u001B[38;5;124;43m\"\u001B[39;49m\u001B[43m,\u001B[49m\n\u001B[1;32m    478\u001B[0m \u001B[43m\u001B[49m\u001B[43m)\u001B[49m\n\u001B[1;32m    480\u001B[0m data_min \u001B[38;5;241m=\u001B[39m np\u001B[38;5;241m.\u001B[39mnanmin(X, axis\u001B[38;5;241m=\u001B[39m\u001B[38;5;241m0\u001B[39m)\n\u001B[1;32m    481\u001B[0m data_max \u001B[38;5;241m=\u001B[39m np\u001B[38;5;241m.\u001B[39mnanmax(X, axis\u001B[38;5;241m=\u001B[39m\u001B[38;5;241m0\u001B[39m)\n",
      "File \u001B[0;32m/opt/homebrew/lib/python3.9/site-packages/sklearn/base.py:605\u001B[0m, in \u001B[0;36mBaseEstimator._validate_data\u001B[0;34m(self, X, y, reset, validate_separately, cast_to_ndarray, **check_params)\u001B[0m\n\u001B[1;32m    603\u001B[0m         out \u001B[38;5;241m=\u001B[39m X, y\n\u001B[1;32m    604\u001B[0m \u001B[38;5;28;01melif\u001B[39;00m \u001B[38;5;129;01mnot\u001B[39;00m no_val_X \u001B[38;5;129;01mand\u001B[39;00m no_val_y:\n\u001B[0;32m--> 605\u001B[0m     out \u001B[38;5;241m=\u001B[39m \u001B[43mcheck_array\u001B[49m\u001B[43m(\u001B[49m\u001B[43mX\u001B[49m\u001B[43m,\u001B[49m\u001B[43m \u001B[49m\u001B[43minput_name\u001B[49m\u001B[38;5;241;43m=\u001B[39;49m\u001B[38;5;124;43m\"\u001B[39;49m\u001B[38;5;124;43mX\u001B[39;49m\u001B[38;5;124;43m\"\u001B[39;49m\u001B[43m,\u001B[49m\u001B[43m \u001B[49m\u001B[38;5;241;43m*\u001B[39;49m\u001B[38;5;241;43m*\u001B[39;49m\u001B[43mcheck_params\u001B[49m\u001B[43m)\u001B[49m\n\u001B[1;32m    606\u001B[0m \u001B[38;5;28;01melif\u001B[39;00m no_val_X \u001B[38;5;129;01mand\u001B[39;00m \u001B[38;5;129;01mnot\u001B[39;00m no_val_y:\n\u001B[1;32m    607\u001B[0m     out \u001B[38;5;241m=\u001B[39m _check_y(y, \u001B[38;5;241m*\u001B[39m\u001B[38;5;241m*\u001B[39mcheck_params)\n",
      "File \u001B[0;32m/opt/homebrew/lib/python3.9/site-packages/sklearn/utils/validation.py:915\u001B[0m, in \u001B[0;36mcheck_array\u001B[0;34m(array, accept_sparse, accept_large_sparse, dtype, order, copy, force_all_finite, ensure_2d, allow_nd, ensure_min_samples, ensure_min_features, estimator, input_name)\u001B[0m\n\u001B[1;32m    913\u001B[0m         array \u001B[38;5;241m=\u001B[39m xp\u001B[38;5;241m.\u001B[39mastype(array, dtype, copy\u001B[38;5;241m=\u001B[39m\u001B[38;5;28;01mFalse\u001B[39;00m)\n\u001B[1;32m    914\u001B[0m     \u001B[38;5;28;01melse\u001B[39;00m:\n\u001B[0;32m--> 915\u001B[0m         array \u001B[38;5;241m=\u001B[39m \u001B[43m_asarray_with_order\u001B[49m\u001B[43m(\u001B[49m\u001B[43marray\u001B[49m\u001B[43m,\u001B[49m\u001B[43m \u001B[49m\u001B[43morder\u001B[49m\u001B[38;5;241;43m=\u001B[39;49m\u001B[43morder\u001B[49m\u001B[43m,\u001B[49m\u001B[43m \u001B[49m\u001B[43mdtype\u001B[49m\u001B[38;5;241;43m=\u001B[39;49m\u001B[43mdtype\u001B[49m\u001B[43m,\u001B[49m\u001B[43m \u001B[49m\u001B[43mxp\u001B[49m\u001B[38;5;241;43m=\u001B[39;49m\u001B[43mxp\u001B[49m\u001B[43m)\u001B[49m\n\u001B[1;32m    916\u001B[0m \u001B[38;5;28;01mexcept\u001B[39;00m ComplexWarning \u001B[38;5;28;01mas\u001B[39;00m complex_warning:\n\u001B[1;32m    917\u001B[0m     \u001B[38;5;28;01mraise\u001B[39;00m \u001B[38;5;167;01mValueError\u001B[39;00m(\n\u001B[1;32m    918\u001B[0m         \u001B[38;5;124m\"\u001B[39m\u001B[38;5;124mComplex data not supported\u001B[39m\u001B[38;5;130;01m\\n\u001B[39;00m\u001B[38;5;132;01m{}\u001B[39;00m\u001B[38;5;130;01m\\n\u001B[39;00m\u001B[38;5;124m\"\u001B[39m\u001B[38;5;241m.\u001B[39mformat(array)\n\u001B[1;32m    919\u001B[0m     ) \u001B[38;5;28;01mfrom\u001B[39;00m \u001B[38;5;21;01mcomplex_warning\u001B[39;00m\n",
      "File \u001B[0;32m/opt/homebrew/lib/python3.9/site-packages/sklearn/utils/_array_api.py:380\u001B[0m, in \u001B[0;36m_asarray_with_order\u001B[0;34m(array, dtype, order, copy, xp)\u001B[0m\n\u001B[1;32m    378\u001B[0m     array \u001B[38;5;241m=\u001B[39m numpy\u001B[38;5;241m.\u001B[39marray(array, order\u001B[38;5;241m=\u001B[39morder, dtype\u001B[38;5;241m=\u001B[39mdtype)\n\u001B[1;32m    379\u001B[0m \u001B[38;5;28;01melse\u001B[39;00m:\n\u001B[0;32m--> 380\u001B[0m     array \u001B[38;5;241m=\u001B[39m \u001B[43mnumpy\u001B[49m\u001B[38;5;241;43m.\u001B[39;49m\u001B[43masarray\u001B[49m\u001B[43m(\u001B[49m\u001B[43marray\u001B[49m\u001B[43m,\u001B[49m\u001B[43m \u001B[49m\u001B[43morder\u001B[49m\u001B[38;5;241;43m=\u001B[39;49m\u001B[43morder\u001B[49m\u001B[43m,\u001B[49m\u001B[43m \u001B[49m\u001B[43mdtype\u001B[49m\u001B[38;5;241;43m=\u001B[39;49m\u001B[43mdtype\u001B[49m\u001B[43m)\u001B[49m\n\u001B[1;32m    382\u001B[0m \u001B[38;5;66;03m# At this point array is a NumPy ndarray. We convert it to an array\u001B[39;00m\n\u001B[1;32m    383\u001B[0m \u001B[38;5;66;03m# container that is consistent with the input's namespace.\u001B[39;00m\n\u001B[1;32m    384\u001B[0m \u001B[38;5;28;01mreturn\u001B[39;00m xp\u001B[38;5;241m.\u001B[39masarray(array)\n",
      "File \u001B[0;32m/opt/homebrew/lib/python3.9/site-packages/pandas/core/generic.py:2084\u001B[0m, in \u001B[0;36mNDFrame.__array__\u001B[0;34m(self, dtype)\u001B[0m\n\u001B[1;32m   2082\u001B[0m \u001B[38;5;28;01mdef\u001B[39;00m \u001B[38;5;21m__array__\u001B[39m(\u001B[38;5;28mself\u001B[39m, dtype: npt\u001B[38;5;241m.\u001B[39mDTypeLike \u001B[38;5;241m|\u001B[39m \u001B[38;5;28;01mNone\u001B[39;00m \u001B[38;5;241m=\u001B[39m \u001B[38;5;28;01mNone\u001B[39;00m) \u001B[38;5;241m-\u001B[39m\u001B[38;5;241m>\u001B[39m np\u001B[38;5;241m.\u001B[39mndarray:\n\u001B[1;32m   2083\u001B[0m     values \u001B[38;5;241m=\u001B[39m \u001B[38;5;28mself\u001B[39m\u001B[38;5;241m.\u001B[39m_values\n\u001B[0;32m-> 2084\u001B[0m     arr \u001B[38;5;241m=\u001B[39m \u001B[43mnp\u001B[49m\u001B[38;5;241;43m.\u001B[39;49m\u001B[43masarray\u001B[49m\u001B[43m(\u001B[49m\u001B[43mvalues\u001B[49m\u001B[43m,\u001B[49m\u001B[43m \u001B[49m\u001B[43mdtype\u001B[49m\u001B[38;5;241;43m=\u001B[39;49m\u001B[43mdtype\u001B[49m\u001B[43m)\u001B[49m\n\u001B[1;32m   2085\u001B[0m     \u001B[38;5;28;01mif\u001B[39;00m (\n\u001B[1;32m   2086\u001B[0m         astype_is_view(values\u001B[38;5;241m.\u001B[39mdtype, arr\u001B[38;5;241m.\u001B[39mdtype)\n\u001B[1;32m   2087\u001B[0m         \u001B[38;5;129;01mand\u001B[39;00m using_copy_on_write()\n\u001B[1;32m   2088\u001B[0m         \u001B[38;5;129;01mand\u001B[39;00m \u001B[38;5;28mself\u001B[39m\u001B[38;5;241m.\u001B[39m_mgr\u001B[38;5;241m.\u001B[39mis_single_block\n\u001B[1;32m   2089\u001B[0m     ):\n\u001B[1;32m   2090\u001B[0m         \u001B[38;5;66;03m# Check if both conversions can be done without a copy\u001B[39;00m\n\u001B[1;32m   2091\u001B[0m         \u001B[38;5;28;01mif\u001B[39;00m astype_is_view(\u001B[38;5;28mself\u001B[39m\u001B[38;5;241m.\u001B[39mdtypes\u001B[38;5;241m.\u001B[39miloc[\u001B[38;5;241m0\u001B[39m], values\u001B[38;5;241m.\u001B[39mdtype) \u001B[38;5;129;01mand\u001B[39;00m astype_is_view(\n\u001B[1;32m   2092\u001B[0m             values\u001B[38;5;241m.\u001B[39mdtype, arr\u001B[38;5;241m.\u001B[39mdtype\n\u001B[1;32m   2093\u001B[0m         ):\n",
      "\u001B[0;31mValueError\u001B[0m: could not convert string to float: 'Private'"
     ]
    }
   ],
   "source": [
    "X_train, X_test, y_train, y_test = train_test_split(data_nanless.drop(columns=[\"label\"]), \n",
    "                                                    data_nanless[\"label\"], test_size=0.2, random_state=7, stratify=data_nanless[\"label\"])\n",
    "\n",
    "X_train = scaler.fit_transform(X_train)\n",
    "X_test = scaler.transform(X_test)\n",
    "\n",
    "knn.fit(X_train, y_train)\n",
    "f1_score(y_test, knn.predict(X_test))"
   ]
  },
  {
   "cell_type": "markdown",
   "metadata": {
    "id": "YEQxNYjQL7lv"
   },
   "source": [
    "Точность модели увеличилась по сравнению с моделью, которая использовала только числовые признаки."
   ]
  },
  {
   "cell_type": "markdown",
   "metadata": {
    "id": "t9-DCq5wMHj9"
   },
   "source": [
    "## Заполнение пропущенных значений\n",
    "\n",
    "Возможно точность еще повысится, если задействовать строки с пропущенными значениями. Используя исходный датасет (без колонок <code>education</code> и <code>marital-status</code>), заполните пропуски самым часто встречающимся значением в рамках столбца."
   ]
  },
  {
   "cell_type": "code",
   "execution_count": null,
   "metadata": {
    "id": "oTetZAB6OVXK",
    "ExecuteTime": {
     "start_time": "2023-10-14T00:51:15.564301Z"
    }
   },
   "outputs": [],
   "source": [
    "data = data.replace(\"?\", np.nan)\n",
    "\n",
    "for col in data.columns:\n",
    "    data[col] = data[col].fillna(data[col].mode()[0])"
   ]
  },
  {
   "cell_type": "markdown",
   "metadata": {
    "id": "HCSjgKyTPl_A"
   },
   "source": [
    "Далее по уже знакомому сценарию: <code>one-hot</code>, <code>split</code>, <code>scaling</code>, обучение и оценка.\n",
    "\n",
    "Вычислите <code>f1_score()</code> модели."
   ]
  },
  {
   "cell_type": "code",
   "execution_count": null,
   "metadata": {
    "id": "pSvtbFdxQOqp",
    "ExecuteTime": {
     "start_time": "2023-10-14T00:51:15.565247Z"
    }
   },
   "outputs": [],
   "source": [
    "data = pd.get_dummies(data, drop_first=True)\n",
    "X_train, X_test, y_train, y_test = train_test_split(data.drop(columns=[\"label\"]), data[\"label\"], test_size=0.2, random_state=7, stratify=data[\"label\"])\n",
    "\n",
    "X_train = scaler.fit_transform(X_train)\n",
    "X_test = scaler.transform(X_test)\n",
    "\n",
    "knn.fit(X_train, y_train)\n",
    "f1_score(y_test, knn.predict(X_test))"
   ]
  },
  {
   "cell_type": "markdown",
   "metadata": {
    "id": "tI6RqgHARXWS"
   },
   "source": [
    "## Проклятие размерности\n",
    "\n",
    "В последнем пункте был получен набор данных, содержащий 76 признаков (кстати, попробуйте объяснить, почему в случае удаления строк число признаков в итоге оказалось равным 75), что является достаточным для того, чтобы столкнуться с так называемым проклятием размерности.\n",
    "\n",
    "Для того, чтобы классификатор давал более качественные результаты, имеет смысл более внимательно и вдумчиво поработать с признаками с учетом проклятия размерности. Например, вернуть в рассмотрение признаки <code>education-num</code> и <code>marital-status</code>. А также более глубоко вникнуть в саму природу признаков."
   ]
  },
  {
   "cell_type": "code",
   "execution_count": null,
   "metadata": {
    "tags": [],
    "ExecuteTime": {
     "start_time": "2023-10-14T00:51:15.566180Z"
    }
   },
   "outputs": [],
   "source": [
    "data_train = pd.read_csv(\"adult_data_train.csv\")\n",
    "data_reserved = pd.read_csv(\"adult_data_reserved.csv\")\n",
    "#data_train"
   ]
  },
  {
   "cell_type": "code",
   "execution_count": null,
   "metadata": {
    "tags": [],
    "ExecuteTime": {
     "start_time": "2023-10-14T00:51:15.567677Z"
    }
   },
   "outputs": [],
   "source": [
    "# удаление признаков\n",
    "deletable = [\"education\", \"marital-status\"]\n",
    "data_train =data_train.drop(columns=deletable)\n",
    "data_reserved = data_reserved.drop(columns=deletable)\n",
    "\n",
    "data_train, data_reserved"
   ]
  },
  {
   "cell_type": "code",
   "execution_count": null,
   "metadata": {
    "tags": [],
    "ExecuteTime": {
     "end_time": "2023-10-14T00:51:15.569769Z",
     "start_time": "2023-10-14T00:51:15.568498Z"
    }
   },
   "outputs": [],
   "source": [
    "# заполнение пустых признаков\n",
    "data_train = data_train.replace(\"?\", np.nan)\n",
    "data_reserved = data_reserved.replace(\"?\", np.nan)\n",
    "\n",
    "for col in data_train.columns:\n",
    "    data_train[col] = data_train[col].fillna(data_train[col].mode()[0])\n",
    "    \n",
    "for col in data_reserved.columns:\n",
    "    data_reserved[col] = data_reserved[col].fillna(data_reserved[col].mode()[0])\n",
    "    \n",
    "# one-hot\n",
    "data_train = pd.get_dummies(data_train, drop_first=True)\n",
    "data_reserved = pd.get_dummies(data_reserved, drop_first=True)\n",
    "\n",
    "# split\n",
    "X_train, y_train = data_train.drop(columns=[\"label\"]), data_train[\"label\"]\n",
    "\n",
    "# Добавление колонок в тестовую выборку\n",
    "for i, col in enumerate(X_train.columns):\n",
    "    if col not in data_reserved.columns:\n",
    "        data_reserved.insert(loc=i, column=col, value=0)\n",
    "\n",
    "print(data_train)\n",
    "        \n",
    "# scaler\n",
    "scaler = StandardScaler()\n",
    "\n",
    "X_train = scaler.fit_transform(X_train)\n",
    "data_reserved = scaler.transform(data_reserved)"
   ]
  },
  {
   "cell_type": "code",
   "execution_count": null,
   "metadata": {
    "tags": [],
    "ExecuteTime": {
     "start_time": "2023-10-14T00:51:15.569132Z"
    }
   },
   "outputs": [],
   "source": [
    "%%time\n",
    "from sklearn.neural_network import MLPClassifier\n",
    "mlp = MLPClassifier()\n",
    "mlp.fit(X_train, y_train)\n",
    "f1_score(y_train, mlp.predict(X_train))"
   ]
  },
  {
   "cell_type": "code",
   "execution_count": null,
   "metadata": {
    "tags": [],
    "ExecuteTime": {
     "end_time": "2023-10-14T00:51:15.570017Z",
     "start_time": "2023-10-14T00:51:15.569957Z"
    }
   },
   "outputs": [],
   "source": [
    "print(list(mlp.predict(data_reserved)), sep=\"\\n\")"
   ]
  },
  {
   "cell_type": "code",
   "execution_count": null,
   "metadata": {
    "ExecuteTime": {
     "start_time": "2023-10-14T00:51:15.570616Z"
    }
   },
   "outputs": [],
   "source": []
  }
 ],
 "metadata": {
  "colab": {
   "provenance": []
  },
  "kernelspec": {
   "display_name": "Python 3 (ipykernel)",
   "language": "python",
   "name": "python3"
  },
  "language_info": {
   "codemirror_mode": {
    "name": "ipython",
    "version": 3
   },
   "file_extension": ".py",
   "mimetype": "text/x-python",
   "name": "python",
   "nbconvert_exporter": "python",
   "pygments_lexer": "ipython3",
   "version": "3.8.10"
  }
 },
 "nbformat": 4,
 "nbformat_minor": 4
}
